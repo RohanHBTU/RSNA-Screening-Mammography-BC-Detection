{
 "cells": [
  {
   "cell_type": "code",
   "execution_count": 1,
   "id": "087a7ec6",
   "metadata": {
    "_cell_guid": "b1076dfc-b9ad-4769-8c92-a6c4dae69d19",
    "_uuid": "8f2839f25d086af736a60e9eeb907d3b93b6e0e5",
    "execution": {
     "iopub.execute_input": "2023-01-28T10:07:09.392063Z",
     "iopub.status.busy": "2023-01-28T10:07:09.391614Z",
     "iopub.status.idle": "2023-01-28T10:07:10.436716Z",
     "shell.execute_reply": "2023-01-28T10:07:10.435514Z"
    },
    "papermill": {
     "duration": 1.061335,
     "end_time": "2023-01-28T10:07:10.439671",
     "exception": false,
     "start_time": "2023-01-28T10:07:09.378336",
     "status": "completed"
    },
    "tags": []
   },
   "outputs": [],
   "source": [
    "# This Python 3 environment comes with many helpful analytics libraries installed\n",
    "# It is defined by the kaggle/python Docker image: https://github.com/kaggle/docker-python\n",
    "# For example, here's several helpful packages to load\n",
    "\n",
    "import warnings\n",
    "import numpy as np # linear algebra\n",
    "import pandas as pd # data processing, CSV file I/O (e.g. pd.read_csv)\n",
    "import seaborn as sns\n",
    "import matplotlib.pyplot as plt\n",
    "# Input data files are available in the read-only \"../input/\" directory\n",
    "# For example, running this (by clicking run or pressing Shift+Enter) will list all files under the input directory\n",
    "\n",
    "import os\n",
    "#for dirname, _, filenames in os.walk('/kaggle/input'):\n",
    "#    for filename in filenames:\n",
    "#        print(os.path.join(dirname, filename))\n",
    "\n",
    "# You can write up to 20GB to the current directory (/kaggle/working/) that gets preserved as output when you create a version using \"Save & Run All\" \n",
    "# You can also write temporary files to /kaggle/temp/, but they won't be saved outside of the current session"
   ]
  },
  {
   "cell_type": "code",
   "execution_count": 2,
   "id": "d11c21af",
   "metadata": {
    "execution": {
     "iopub.execute_input": "2023-01-28T10:07:10.462176Z",
     "iopub.status.busy": "2023-01-28T10:07:10.461766Z",
     "iopub.status.idle": "2023-01-28T10:07:10.470858Z",
     "shell.execute_reply": "2023-01-28T10:07:10.469776Z"
    },
    "papermill": {
     "duration": 0.022983,
     "end_time": "2023-01-28T10:07:10.473217",
     "exception": false,
     "start_time": "2023-01-28T10:07:10.450234",
     "status": "completed"
    },
    "tags": []
   },
   "outputs": [
    {
     "data": {
      "text/plain": [
       "'\\n!conda install -c conda-forge pillow -y\\n!conda install -c conda-forge pydicom -y\\n!conda install -c conda-forge gdcm -y\\n!pip install pylibjpeg pylibjpeg-libjpeg\\n'"
      ]
     },
     "execution_count": 2,
     "metadata": {},
     "output_type": "execute_result"
    }
   ],
   "source": [
    "'''\n",
    "!conda install -c conda-forge pillow -y\n",
    "!conda install -c conda-forge pydicom -y\n",
    "!conda install -c conda-forge gdcm -y\n",
    "!pip install pylibjpeg pylibjpeg-libjpeg\n",
    "'''"
   ]
  },
  {
   "cell_type": "code",
   "execution_count": 3,
   "id": "f69030ea",
   "metadata": {
    "execution": {
     "iopub.execute_input": "2023-01-28T10:07:10.496102Z",
     "iopub.status.busy": "2023-01-28T10:07:10.495683Z",
     "iopub.status.idle": "2023-01-28T10:07:10.633495Z",
     "shell.execute_reply": "2023-01-28T10:07:10.632069Z"
    },
    "papermill": {
     "duration": 0.152325,
     "end_time": "2023-01-28T10:07:10.636143",
     "exception": false,
     "start_time": "2023-01-28T10:07:10.483818",
     "status": "completed"
    },
    "tags": []
   },
   "outputs": [],
   "source": [
    "df=pd.read_csv('/kaggle/input/rsna-breast-cancer-detection/train.csv')\n",
    "df_test=pd.read_csv('/kaggle/input/rsna-breast-cancer-detection/test.csv')"
   ]
  },
  {
   "cell_type": "code",
   "execution_count": 4,
   "id": "ac5e22a7",
   "metadata": {
    "execution": {
     "iopub.execute_input": "2023-01-28T10:07:10.660863Z",
     "iopub.status.busy": "2023-01-28T10:07:10.660428Z",
     "iopub.status.idle": "2023-01-28T10:07:10.667408Z",
     "shell.execute_reply": "2023-01-28T10:07:10.666268Z"
    },
    "papermill": {
     "duration": 0.021685,
     "end_time": "2023-01-28T10:07:10.669805",
     "exception": false,
     "start_time": "2023-01-28T10:07:10.648120",
     "status": "completed"
    },
    "tags": []
   },
   "outputs": [
    {
     "data": {
      "text/plain": [
       "'\\nimport pydicom\\nimport matplotlib.pylab as plt\\n\\n# specify your image path\\nimage_path = \"/kaggle/input/rsna-breast-cancer-detection/train_images/10130/1672636630.dcm\"\\nds = pydicom.dcmread(image_path)\\n\\nplt.imshow(ds.pixel_array)\\nds.pixel_array.shape\\n'"
      ]
     },
     "execution_count": 4,
     "metadata": {},
     "output_type": "execute_result"
    }
   ],
   "source": [
    "'''\n",
    "import pydicom\n",
    "import matplotlib.pylab as plt\n",
    "\n",
    "# specify your image path\n",
    "image_path = \"/kaggle/input/rsna-breast-cancer-detection/train_images/10130/1672636630.dcm\"\n",
    "ds = pydicom.dcmread(image_path)\n",
    "\n",
    "plt.imshow(ds.pixel_array)\n",
    "ds.pixel_array.shape\n",
    "'''"
   ]
  },
  {
   "cell_type": "code",
   "execution_count": 5,
   "id": "92e32354",
   "metadata": {
    "execution": {
     "iopub.execute_input": "2023-01-28T10:07:10.693094Z",
     "iopub.status.busy": "2023-01-28T10:07:10.692678Z",
     "iopub.status.idle": "2023-01-28T10:07:10.730521Z",
     "shell.execute_reply": "2023-01-28T10:07:10.729307Z"
    },
    "papermill": {
     "duration": 0.052369,
     "end_time": "2023-01-28T10:07:10.732791",
     "exception": false,
     "start_time": "2023-01-28T10:07:10.680422",
     "status": "completed"
    },
    "tags": []
   },
   "outputs": [
    {
     "data": {
      "text/html": [
       "<div>\n",
       "<style scoped>\n",
       "    .dataframe tbody tr th:only-of-type {\n",
       "        vertical-align: middle;\n",
       "    }\n",
       "\n",
       "    .dataframe tbody tr th {\n",
       "        vertical-align: top;\n",
       "    }\n",
       "\n",
       "    .dataframe thead th {\n",
       "        text-align: right;\n",
       "    }\n",
       "</style>\n",
       "<table border=\"1\" class=\"dataframe\">\n",
       "  <thead>\n",
       "    <tr style=\"text-align: right;\">\n",
       "      <th></th>\n",
       "      <th>site_id</th>\n",
       "      <th>patient_id</th>\n",
       "      <th>image_id</th>\n",
       "      <th>laterality</th>\n",
       "      <th>view</th>\n",
       "      <th>age</th>\n",
       "      <th>cancer</th>\n",
       "      <th>biopsy</th>\n",
       "      <th>invasive</th>\n",
       "      <th>BIRADS</th>\n",
       "      <th>implant</th>\n",
       "      <th>density</th>\n",
       "      <th>machine_id</th>\n",
       "      <th>difficult_negative_case</th>\n",
       "    </tr>\n",
       "  </thead>\n",
       "  <tbody>\n",
       "    <tr>\n",
       "      <th>87</th>\n",
       "      <td>1</td>\n",
       "      <td>10130</td>\n",
       "      <td>388811999</td>\n",
       "      <td>L</td>\n",
       "      <td>MLO</td>\n",
       "      <td>71.0</td>\n",
       "      <td>1</td>\n",
       "      <td>1</td>\n",
       "      <td>1</td>\n",
       "      <td>0.0</td>\n",
       "      <td>0</td>\n",
       "      <td>B</td>\n",
       "      <td>49</td>\n",
       "      <td>False</td>\n",
       "    </tr>\n",
       "    <tr>\n",
       "      <th>88</th>\n",
       "      <td>1</td>\n",
       "      <td>10130</td>\n",
       "      <td>613462606</td>\n",
       "      <td>L</td>\n",
       "      <td>CC</td>\n",
       "      <td>71.0</td>\n",
       "      <td>1</td>\n",
       "      <td>1</td>\n",
       "      <td>1</td>\n",
       "      <td>0.0</td>\n",
       "      <td>0</td>\n",
       "      <td>B</td>\n",
       "      <td>49</td>\n",
       "      <td>False</td>\n",
       "    </tr>\n",
       "    <tr>\n",
       "      <th>89</th>\n",
       "      <td>1</td>\n",
       "      <td>10130</td>\n",
       "      <td>1360338805</td>\n",
       "      <td>L</td>\n",
       "      <td>CC</td>\n",
       "      <td>71.0</td>\n",
       "      <td>1</td>\n",
       "      <td>1</td>\n",
       "      <td>1</td>\n",
       "      <td>0.0</td>\n",
       "      <td>0</td>\n",
       "      <td>B</td>\n",
       "      <td>49</td>\n",
       "      <td>False</td>\n",
       "    </tr>\n",
       "    <tr>\n",
       "      <th>90</th>\n",
       "      <td>1</td>\n",
       "      <td>10130</td>\n",
       "      <td>1672636630</td>\n",
       "      <td>L</td>\n",
       "      <td>MLO</td>\n",
       "      <td>71.0</td>\n",
       "      <td>1</td>\n",
       "      <td>1</td>\n",
       "      <td>1</td>\n",
       "      <td>0.0</td>\n",
       "      <td>0</td>\n",
       "      <td>B</td>\n",
       "      <td>49</td>\n",
       "      <td>False</td>\n",
       "    </tr>\n",
       "    <tr>\n",
       "      <th>190</th>\n",
       "      <td>1</td>\n",
       "      <td>10226</td>\n",
       "      <td>461614796</td>\n",
       "      <td>L</td>\n",
       "      <td>MLO</td>\n",
       "      <td>71.0</td>\n",
       "      <td>1</td>\n",
       "      <td>1</td>\n",
       "      <td>1</td>\n",
       "      <td>0.0</td>\n",
       "      <td>0</td>\n",
       "      <td>C</td>\n",
       "      <td>49</td>\n",
       "      <td>False</td>\n",
       "    </tr>\n",
       "    <tr>\n",
       "      <th>...</th>\n",
       "      <td>...</td>\n",
       "      <td>...</td>\n",
       "      <td>...</td>\n",
       "      <td>...</td>\n",
       "      <td>...</td>\n",
       "      <td>...</td>\n",
       "      <td>...</td>\n",
       "      <td>...</td>\n",
       "      <td>...</td>\n",
       "      <td>...</td>\n",
       "      <td>...</td>\n",
       "      <td>...</td>\n",
       "      <td>...</td>\n",
       "      <td>...</td>\n",
       "    </tr>\n",
       "    <tr>\n",
       "      <th>54485</th>\n",
       "      <td>2</td>\n",
       "      <td>9707</td>\n",
       "      <td>1900919592</td>\n",
       "      <td>R</td>\n",
       "      <td>MLO</td>\n",
       "      <td>56.0</td>\n",
       "      <td>1</td>\n",
       "      <td>1</td>\n",
       "      <td>1</td>\n",
       "      <td>NaN</td>\n",
       "      <td>0</td>\n",
       "      <td>NaN</td>\n",
       "      <td>21</td>\n",
       "      <td>False</td>\n",
       "    </tr>\n",
       "    <tr>\n",
       "      <th>54593</th>\n",
       "      <td>2</td>\n",
       "      <td>9840</td>\n",
       "      <td>111786935</td>\n",
       "      <td>R</td>\n",
       "      <td>MLO</td>\n",
       "      <td>59.0</td>\n",
       "      <td>1</td>\n",
       "      <td>1</td>\n",
       "      <td>1</td>\n",
       "      <td>NaN</td>\n",
       "      <td>0</td>\n",
       "      <td>NaN</td>\n",
       "      <td>21</td>\n",
       "      <td>False</td>\n",
       "    </tr>\n",
       "    <tr>\n",
       "      <th>54594</th>\n",
       "      <td>2</td>\n",
       "      <td>9840</td>\n",
       "      <td>1559360810</td>\n",
       "      <td>R</td>\n",
       "      <td>CC</td>\n",
       "      <td>59.0</td>\n",
       "      <td>1</td>\n",
       "      <td>1</td>\n",
       "      <td>1</td>\n",
       "      <td>NaN</td>\n",
       "      <td>0</td>\n",
       "      <td>NaN</td>\n",
       "      <td>21</td>\n",
       "      <td>False</td>\n",
       "    </tr>\n",
       "    <tr>\n",
       "      <th>54595</th>\n",
       "      <td>2</td>\n",
       "      <td>9851</td>\n",
       "      <td>1409270544</td>\n",
       "      <td>L</td>\n",
       "      <td>MLO</td>\n",
       "      <td>58.0</td>\n",
       "      <td>1</td>\n",
       "      <td>1</td>\n",
       "      <td>0</td>\n",
       "      <td>NaN</td>\n",
       "      <td>0</td>\n",
       "      <td>NaN</td>\n",
       "      <td>48</td>\n",
       "      <td>False</td>\n",
       "    </tr>\n",
       "    <tr>\n",
       "      <th>54596</th>\n",
       "      <td>2</td>\n",
       "      <td>9851</td>\n",
       "      <td>1434430689</td>\n",
       "      <td>L</td>\n",
       "      <td>CC</td>\n",
       "      <td>58.0</td>\n",
       "      <td>1</td>\n",
       "      <td>1</td>\n",
       "      <td>0</td>\n",
       "      <td>NaN</td>\n",
       "      <td>0</td>\n",
       "      <td>NaN</td>\n",
       "      <td>48</td>\n",
       "      <td>False</td>\n",
       "    </tr>\n",
       "  </tbody>\n",
       "</table>\n",
       "<p>1158 rows × 14 columns</p>\n",
       "</div>"
      ],
      "text/plain": [
       "       site_id  patient_id    image_id laterality view   age  cancer  biopsy  \\\n",
       "87           1       10130   388811999          L  MLO  71.0       1       1   \n",
       "88           1       10130   613462606          L   CC  71.0       1       1   \n",
       "89           1       10130  1360338805          L   CC  71.0       1       1   \n",
       "90           1       10130  1672636630          L  MLO  71.0       1       1   \n",
       "190          1       10226   461614796          L  MLO  71.0       1       1   \n",
       "...        ...         ...         ...        ...  ...   ...     ...     ...   \n",
       "54485        2        9707  1900919592          R  MLO  56.0       1       1   \n",
       "54593        2        9840   111786935          R  MLO  59.0       1       1   \n",
       "54594        2        9840  1559360810          R   CC  59.0       1       1   \n",
       "54595        2        9851  1409270544          L  MLO  58.0       1       1   \n",
       "54596        2        9851  1434430689          L   CC  58.0       1       1   \n",
       "\n",
       "       invasive  BIRADS  implant density  machine_id  difficult_negative_case  \n",
       "87            1     0.0        0       B          49                    False  \n",
       "88            1     0.0        0       B          49                    False  \n",
       "89            1     0.0        0       B          49                    False  \n",
       "90            1     0.0        0       B          49                    False  \n",
       "190           1     0.0        0       C          49                    False  \n",
       "...         ...     ...      ...     ...         ...                      ...  \n",
       "54485         1     NaN        0     NaN          21                    False  \n",
       "54593         1     NaN        0     NaN          21                    False  \n",
       "54594         1     NaN        0     NaN          21                    False  \n",
       "54595         0     NaN        0     NaN          48                    False  \n",
       "54596         0     NaN        0     NaN          48                    False  \n",
       "\n",
       "[1158 rows x 14 columns]"
      ]
     },
     "execution_count": 5,
     "metadata": {},
     "output_type": "execute_result"
    }
   ],
   "source": [
    "#df[df.patient_id==10038]\n",
    "df[df.cancer==1]\n"
   ]
  },
  {
   "cell_type": "code",
   "execution_count": 6,
   "id": "899a8d35",
   "metadata": {
    "execution": {
     "iopub.execute_input": "2023-01-28T10:07:10.756726Z",
     "iopub.status.busy": "2023-01-28T10:07:10.756290Z",
     "iopub.status.idle": "2023-01-28T10:07:10.771208Z",
     "shell.execute_reply": "2023-01-28T10:07:10.770057Z"
    },
    "papermill": {
     "duration": 0.029777,
     "end_time": "2023-01-28T10:07:10.773620",
     "exception": false,
     "start_time": "2023-01-28T10:07:10.743843",
     "status": "completed"
    },
    "tags": []
   },
   "outputs": [
    {
     "data": {
      "text/plain": [
       "MLO    27903\n",
       "CC     26765\n",
       "AT        19\n",
       "LM        10\n",
       "ML         8\n",
       "LMO        1\n",
       "Name: view, dtype: int64"
      ]
     },
     "execution_count": 6,
     "metadata": {},
     "output_type": "execute_result"
    }
   ],
   "source": [
    "df.view.value_counts()"
   ]
  },
  {
   "cell_type": "code",
   "execution_count": 7,
   "id": "09a53e29",
   "metadata": {
    "execution": {
     "iopub.execute_input": "2023-01-28T10:07:10.798047Z",
     "iopub.status.busy": "2023-01-28T10:07:10.796866Z",
     "iopub.status.idle": "2023-01-28T10:07:10.808378Z",
     "shell.execute_reply": "2023-01-28T10:07:10.807168Z"
    },
    "papermill": {
     "duration": 0.025894,
     "end_time": "2023-01-28T10:07:10.810549",
     "exception": false,
     "start_time": "2023-01-28T10:07:10.784655",
     "status": "completed"
    },
    "tags": []
   },
   "outputs": [
    {
     "data": {
      "text/plain": [
       "B    12651\n",
       "C    12175\n",
       "A     3105\n",
       "D     1539\n",
       "Name: density, dtype: int64"
      ]
     },
     "execution_count": 7,
     "metadata": {},
     "output_type": "execute_result"
    }
   ],
   "source": [
    "df.density.value_counts()"
   ]
  },
  {
   "cell_type": "code",
   "execution_count": 8,
   "id": "8a5bf82f",
   "metadata": {
    "execution": {
     "iopub.execute_input": "2023-01-28T10:07:10.835439Z",
     "iopub.status.busy": "2023-01-28T10:07:10.835037Z",
     "iopub.status.idle": "2023-01-28T10:07:10.848737Z",
     "shell.execute_reply": "2023-01-28T10:07:10.847654Z"
    },
    "papermill": {
     "duration": 0.028836,
     "end_time": "2023-01-28T10:07:10.851041",
     "exception": false,
     "start_time": "2023-01-28T10:07:10.822205",
     "status": "completed"
    },
    "tags": []
   },
   "outputs": [
    {
     "data": {
      "text/html": [
       "<div>\n",
       "<style scoped>\n",
       "    .dataframe tbody tr th:only-of-type {\n",
       "        vertical-align: middle;\n",
       "    }\n",
       "\n",
       "    .dataframe tbody tr th {\n",
       "        vertical-align: top;\n",
       "    }\n",
       "\n",
       "    .dataframe thead th {\n",
       "        text-align: right;\n",
       "    }\n",
       "</style>\n",
       "<table border=\"1\" class=\"dataframe\">\n",
       "  <thead>\n",
       "    <tr style=\"text-align: right;\">\n",
       "      <th></th>\n",
       "      <th>site_id</th>\n",
       "      <th>patient_id</th>\n",
       "      <th>image_id</th>\n",
       "      <th>laterality</th>\n",
       "      <th>view</th>\n",
       "      <th>age</th>\n",
       "      <th>implant</th>\n",
       "      <th>machine_id</th>\n",
       "      <th>prediction_id</th>\n",
       "    </tr>\n",
       "  </thead>\n",
       "  <tbody>\n",
       "    <tr>\n",
       "      <th>0</th>\n",
       "      <td>2</td>\n",
       "      <td>10008</td>\n",
       "      <td>736471439</td>\n",
       "      <td>L</td>\n",
       "      <td>MLO</td>\n",
       "      <td>81</td>\n",
       "      <td>0</td>\n",
       "      <td>21</td>\n",
       "      <td>10008_L</td>\n",
       "    </tr>\n",
       "    <tr>\n",
       "      <th>1</th>\n",
       "      <td>2</td>\n",
       "      <td>10008</td>\n",
       "      <td>1591370361</td>\n",
       "      <td>L</td>\n",
       "      <td>CC</td>\n",
       "      <td>81</td>\n",
       "      <td>0</td>\n",
       "      <td>21</td>\n",
       "      <td>10008_L</td>\n",
       "    </tr>\n",
       "    <tr>\n",
       "      <th>2</th>\n",
       "      <td>2</td>\n",
       "      <td>10008</td>\n",
       "      <td>68070693</td>\n",
       "      <td>R</td>\n",
       "      <td>MLO</td>\n",
       "      <td>81</td>\n",
       "      <td>0</td>\n",
       "      <td>21</td>\n",
       "      <td>10008_R</td>\n",
       "    </tr>\n",
       "    <tr>\n",
       "      <th>3</th>\n",
       "      <td>2</td>\n",
       "      <td>10008</td>\n",
       "      <td>361203119</td>\n",
       "      <td>R</td>\n",
       "      <td>CC</td>\n",
       "      <td>81</td>\n",
       "      <td>0</td>\n",
       "      <td>21</td>\n",
       "      <td>10008_R</td>\n",
       "    </tr>\n",
       "  </tbody>\n",
       "</table>\n",
       "</div>"
      ],
      "text/plain": [
       "   site_id  patient_id    image_id laterality view  age  implant  machine_id  \\\n",
       "0        2       10008   736471439          L  MLO   81        0          21   \n",
       "1        2       10008  1591370361          L   CC   81        0          21   \n",
       "2        2       10008    68070693          R  MLO   81        0          21   \n",
       "3        2       10008   361203119          R   CC   81        0          21   \n",
       "\n",
       "  prediction_id  \n",
       "0       10008_L  \n",
       "1       10008_L  \n",
       "2       10008_R  \n",
       "3       10008_R  "
      ]
     },
     "execution_count": 8,
     "metadata": {},
     "output_type": "execute_result"
    }
   ],
   "source": [
    "df_test"
   ]
  },
  {
   "cell_type": "code",
   "execution_count": 9,
   "id": "0b969ba9",
   "metadata": {
    "execution": {
     "iopub.execute_input": "2023-01-28T10:07:10.876633Z",
     "iopub.status.busy": "2023-01-28T10:07:10.876211Z",
     "iopub.status.idle": "2023-01-28T10:07:10.896568Z",
     "shell.execute_reply": "2023-01-28T10:07:10.895416Z"
    },
    "papermill": {
     "duration": 0.035808,
     "end_time": "2023-01-28T10:07:10.898798",
     "exception": false,
     "start_time": "2023-01-28T10:07:10.862990",
     "status": "completed"
    },
    "tags": []
   },
   "outputs": [
    {
     "data": {
      "text/html": [
       "<div>\n",
       "<style scoped>\n",
       "    .dataframe tbody tr th:only-of-type {\n",
       "        vertical-align: middle;\n",
       "    }\n",
       "\n",
       "    .dataframe tbody tr th {\n",
       "        vertical-align: top;\n",
       "    }\n",
       "\n",
       "    .dataframe thead th {\n",
       "        text-align: right;\n",
       "    }\n",
       "</style>\n",
       "<table border=\"1\" class=\"dataframe\">\n",
       "  <thead>\n",
       "    <tr style=\"text-align: right;\">\n",
       "      <th></th>\n",
       "      <th>laterality</th>\n",
       "      <th>view</th>\n",
       "      <th>age</th>\n",
       "      <th>cancer</th>\n",
       "      <th>implant</th>\n",
       "    </tr>\n",
       "  </thead>\n",
       "  <tbody>\n",
       "    <tr>\n",
       "      <th>0</th>\n",
       "      <td>L</td>\n",
       "      <td>CC</td>\n",
       "      <td>61.0</td>\n",
       "      <td>0</td>\n",
       "      <td>0</td>\n",
       "    </tr>\n",
       "    <tr>\n",
       "      <th>1</th>\n",
       "      <td>L</td>\n",
       "      <td>MLO</td>\n",
       "      <td>61.0</td>\n",
       "      <td>0</td>\n",
       "      <td>0</td>\n",
       "    </tr>\n",
       "    <tr>\n",
       "      <th>2</th>\n",
       "      <td>R</td>\n",
       "      <td>MLO</td>\n",
       "      <td>61.0</td>\n",
       "      <td>0</td>\n",
       "      <td>0</td>\n",
       "    </tr>\n",
       "    <tr>\n",
       "      <th>3</th>\n",
       "      <td>R</td>\n",
       "      <td>CC</td>\n",
       "      <td>61.0</td>\n",
       "      <td>0</td>\n",
       "      <td>0</td>\n",
       "    </tr>\n",
       "    <tr>\n",
       "      <th>4</th>\n",
       "      <td>L</td>\n",
       "      <td>CC</td>\n",
       "      <td>55.0</td>\n",
       "      <td>0</td>\n",
       "      <td>0</td>\n",
       "    </tr>\n",
       "    <tr>\n",
       "      <th>...</th>\n",
       "      <td>...</td>\n",
       "      <td>...</td>\n",
       "      <td>...</td>\n",
       "      <td>...</td>\n",
       "      <td>...</td>\n",
       "    </tr>\n",
       "    <tr>\n",
       "      <th>54701</th>\n",
       "      <td>R</td>\n",
       "      <td>MLO</td>\n",
       "      <td>43.0</td>\n",
       "      <td>0</td>\n",
       "      <td>0</td>\n",
       "    </tr>\n",
       "    <tr>\n",
       "      <th>54702</th>\n",
       "      <td>L</td>\n",
       "      <td>MLO</td>\n",
       "      <td>60.0</td>\n",
       "      <td>0</td>\n",
       "      <td>0</td>\n",
       "    </tr>\n",
       "    <tr>\n",
       "      <th>54703</th>\n",
       "      <td>L</td>\n",
       "      <td>CC</td>\n",
       "      <td>60.0</td>\n",
       "      <td>0</td>\n",
       "      <td>0</td>\n",
       "    </tr>\n",
       "    <tr>\n",
       "      <th>54704</th>\n",
       "      <td>R</td>\n",
       "      <td>MLO</td>\n",
       "      <td>60.0</td>\n",
       "      <td>0</td>\n",
       "      <td>0</td>\n",
       "    </tr>\n",
       "    <tr>\n",
       "      <th>54705</th>\n",
       "      <td>R</td>\n",
       "      <td>CC</td>\n",
       "      <td>60.0</td>\n",
       "      <td>0</td>\n",
       "      <td>0</td>\n",
       "    </tr>\n",
       "  </tbody>\n",
       "</table>\n",
       "<p>54706 rows × 5 columns</p>\n",
       "</div>"
      ],
      "text/plain": [
       "      laterality view   age  cancer  implant\n",
       "0              L   CC  61.0       0        0\n",
       "1              L  MLO  61.0       0        0\n",
       "2              R  MLO  61.0       0        0\n",
       "3              R   CC  61.0       0        0\n",
       "4              L   CC  55.0       0        0\n",
       "...          ...  ...   ...     ...      ...\n",
       "54701          R  MLO  43.0       0        0\n",
       "54702          L  MLO  60.0       0        0\n",
       "54703          L   CC  60.0       0        0\n",
       "54704          R  MLO  60.0       0        0\n",
       "54705          R   CC  60.0       0        0\n",
       "\n",
       "[54706 rows x 5 columns]"
      ]
     },
     "execution_count": 9,
     "metadata": {},
     "output_type": "execute_result"
    }
   ],
   "source": [
    "df2=df.drop(['machine_id','image_id','patient_id','site_id','BIRADS','density','biopsy','invasive','difficult_negative_case'],axis=1)\n",
    "df2"
   ]
  },
  {
   "cell_type": "code",
   "execution_count": 10,
   "id": "bdd707e4",
   "metadata": {
    "execution": {
     "iopub.execute_input": "2023-01-28T10:07:10.923781Z",
     "iopub.status.busy": "2023-01-28T10:07:10.923350Z",
     "iopub.status.idle": "2023-01-28T10:07:10.950071Z",
     "shell.execute_reply": "2023-01-28T10:07:10.948994Z"
    },
    "papermill": {
     "duration": 0.042165,
     "end_time": "2023-01-28T10:07:10.952669",
     "exception": false,
     "start_time": "2023-01-28T10:07:10.910504",
     "status": "completed"
    },
    "tags": []
   },
   "outputs": [],
   "source": [
    "df3=pd.get_dummies(df2[['laterality','view']])\n",
    "df4=df3.drop(['laterality_R','view_LMO'],axis=1)"
   ]
  },
  {
   "cell_type": "code",
   "execution_count": 11,
   "id": "0614e548",
   "metadata": {
    "execution": {
     "iopub.execute_input": "2023-01-28T10:07:10.978278Z",
     "iopub.status.busy": "2023-01-28T10:07:10.977870Z",
     "iopub.status.idle": "2023-01-28T10:07:10.998364Z",
     "shell.execute_reply": "2023-01-28T10:07:10.997258Z"
    },
    "papermill": {
     "duration": 0.036324,
     "end_time": "2023-01-28T10:07:11.000995",
     "exception": false,
     "start_time": "2023-01-28T10:07:10.964671",
     "status": "completed"
    },
    "tags": []
   },
   "outputs": [
    {
     "data": {
      "text/html": [
       "<div>\n",
       "<style scoped>\n",
       "    .dataframe tbody tr th:only-of-type {\n",
       "        vertical-align: middle;\n",
       "    }\n",
       "\n",
       "    .dataframe tbody tr th {\n",
       "        vertical-align: top;\n",
       "    }\n",
       "\n",
       "    .dataframe thead th {\n",
       "        text-align: right;\n",
       "    }\n",
       "</style>\n",
       "<table border=\"1\" class=\"dataframe\">\n",
       "  <thead>\n",
       "    <tr style=\"text-align: right;\">\n",
       "      <th></th>\n",
       "      <th>laterality</th>\n",
       "      <th>view</th>\n",
       "      <th>age</th>\n",
       "      <th>cancer</th>\n",
       "      <th>implant</th>\n",
       "      <th>laterality_L</th>\n",
       "      <th>view_AT</th>\n",
       "      <th>view_CC</th>\n",
       "      <th>view_LM</th>\n",
       "      <th>view_ML</th>\n",
       "      <th>view_MLO</th>\n",
       "    </tr>\n",
       "  </thead>\n",
       "  <tbody>\n",
       "    <tr>\n",
       "      <th>0</th>\n",
       "      <td>L</td>\n",
       "      <td>CC</td>\n",
       "      <td>61.0</td>\n",
       "      <td>0</td>\n",
       "      <td>0</td>\n",
       "      <td>1</td>\n",
       "      <td>0</td>\n",
       "      <td>1</td>\n",
       "      <td>0</td>\n",
       "      <td>0</td>\n",
       "      <td>0</td>\n",
       "    </tr>\n",
       "    <tr>\n",
       "      <th>1</th>\n",
       "      <td>L</td>\n",
       "      <td>MLO</td>\n",
       "      <td>61.0</td>\n",
       "      <td>0</td>\n",
       "      <td>0</td>\n",
       "      <td>1</td>\n",
       "      <td>0</td>\n",
       "      <td>0</td>\n",
       "      <td>0</td>\n",
       "      <td>0</td>\n",
       "      <td>1</td>\n",
       "    </tr>\n",
       "    <tr>\n",
       "      <th>2</th>\n",
       "      <td>R</td>\n",
       "      <td>MLO</td>\n",
       "      <td>61.0</td>\n",
       "      <td>0</td>\n",
       "      <td>0</td>\n",
       "      <td>0</td>\n",
       "      <td>0</td>\n",
       "      <td>0</td>\n",
       "      <td>0</td>\n",
       "      <td>0</td>\n",
       "      <td>1</td>\n",
       "    </tr>\n",
       "    <tr>\n",
       "      <th>3</th>\n",
       "      <td>R</td>\n",
       "      <td>CC</td>\n",
       "      <td>61.0</td>\n",
       "      <td>0</td>\n",
       "      <td>0</td>\n",
       "      <td>0</td>\n",
       "      <td>0</td>\n",
       "      <td>1</td>\n",
       "      <td>0</td>\n",
       "      <td>0</td>\n",
       "      <td>0</td>\n",
       "    </tr>\n",
       "    <tr>\n",
       "      <th>4</th>\n",
       "      <td>L</td>\n",
       "      <td>CC</td>\n",
       "      <td>55.0</td>\n",
       "      <td>0</td>\n",
       "      <td>0</td>\n",
       "      <td>1</td>\n",
       "      <td>0</td>\n",
       "      <td>1</td>\n",
       "      <td>0</td>\n",
       "      <td>0</td>\n",
       "      <td>0</td>\n",
       "    </tr>\n",
       "    <tr>\n",
       "      <th>...</th>\n",
       "      <td>...</td>\n",
       "      <td>...</td>\n",
       "      <td>...</td>\n",
       "      <td>...</td>\n",
       "      <td>...</td>\n",
       "      <td>...</td>\n",
       "      <td>...</td>\n",
       "      <td>...</td>\n",
       "      <td>...</td>\n",
       "      <td>...</td>\n",
       "      <td>...</td>\n",
       "    </tr>\n",
       "    <tr>\n",
       "      <th>54701</th>\n",
       "      <td>R</td>\n",
       "      <td>MLO</td>\n",
       "      <td>43.0</td>\n",
       "      <td>0</td>\n",
       "      <td>0</td>\n",
       "      <td>0</td>\n",
       "      <td>0</td>\n",
       "      <td>0</td>\n",
       "      <td>0</td>\n",
       "      <td>0</td>\n",
       "      <td>1</td>\n",
       "    </tr>\n",
       "    <tr>\n",
       "      <th>54702</th>\n",
       "      <td>L</td>\n",
       "      <td>MLO</td>\n",
       "      <td>60.0</td>\n",
       "      <td>0</td>\n",
       "      <td>0</td>\n",
       "      <td>1</td>\n",
       "      <td>0</td>\n",
       "      <td>0</td>\n",
       "      <td>0</td>\n",
       "      <td>0</td>\n",
       "      <td>1</td>\n",
       "    </tr>\n",
       "    <tr>\n",
       "      <th>54703</th>\n",
       "      <td>L</td>\n",
       "      <td>CC</td>\n",
       "      <td>60.0</td>\n",
       "      <td>0</td>\n",
       "      <td>0</td>\n",
       "      <td>1</td>\n",
       "      <td>0</td>\n",
       "      <td>1</td>\n",
       "      <td>0</td>\n",
       "      <td>0</td>\n",
       "      <td>0</td>\n",
       "    </tr>\n",
       "    <tr>\n",
       "      <th>54704</th>\n",
       "      <td>R</td>\n",
       "      <td>MLO</td>\n",
       "      <td>60.0</td>\n",
       "      <td>0</td>\n",
       "      <td>0</td>\n",
       "      <td>0</td>\n",
       "      <td>0</td>\n",
       "      <td>0</td>\n",
       "      <td>0</td>\n",
       "      <td>0</td>\n",
       "      <td>1</td>\n",
       "    </tr>\n",
       "    <tr>\n",
       "      <th>54705</th>\n",
       "      <td>R</td>\n",
       "      <td>CC</td>\n",
       "      <td>60.0</td>\n",
       "      <td>0</td>\n",
       "      <td>0</td>\n",
       "      <td>0</td>\n",
       "      <td>0</td>\n",
       "      <td>1</td>\n",
       "      <td>0</td>\n",
       "      <td>0</td>\n",
       "      <td>0</td>\n",
       "    </tr>\n",
       "  </tbody>\n",
       "</table>\n",
       "<p>54706 rows × 11 columns</p>\n",
       "</div>"
      ],
      "text/plain": [
       "      laterality view   age  cancer  implant  laterality_L  view_AT  view_CC  \\\n",
       "0              L   CC  61.0       0        0             1        0        1   \n",
       "1              L  MLO  61.0       0        0             1        0        0   \n",
       "2              R  MLO  61.0       0        0             0        0        0   \n",
       "3              R   CC  61.0       0        0             0        0        1   \n",
       "4              L   CC  55.0       0        0             1        0        1   \n",
       "...          ...  ...   ...     ...      ...           ...      ...      ...   \n",
       "54701          R  MLO  43.0       0        0             0        0        0   \n",
       "54702          L  MLO  60.0       0        0             1        0        0   \n",
       "54703          L   CC  60.0       0        0             1        0        1   \n",
       "54704          R  MLO  60.0       0        0             0        0        0   \n",
       "54705          R   CC  60.0       0        0             0        0        1   \n",
       "\n",
       "       view_LM  view_ML  view_MLO  \n",
       "0            0        0         0  \n",
       "1            0        0         1  \n",
       "2            0        0         1  \n",
       "3            0        0         0  \n",
       "4            0        0         0  \n",
       "...        ...      ...       ...  \n",
       "54701        0        0         1  \n",
       "54702        0        0         1  \n",
       "54703        0        0         0  \n",
       "54704        0        0         1  \n",
       "54705        0        0         0  \n",
       "\n",
       "[54706 rows x 11 columns]"
      ]
     },
     "execution_count": 11,
     "metadata": {},
     "output_type": "execute_result"
    }
   ],
   "source": [
    "df4=pd.concat([df2,df4],axis=1)\n",
    "df4"
   ]
  },
  {
   "cell_type": "code",
   "execution_count": 12,
   "id": "5be0a28b",
   "metadata": {
    "execution": {
     "iopub.execute_input": "2023-01-28T10:07:11.027660Z",
     "iopub.status.busy": "2023-01-28T10:07:11.026685Z",
     "iopub.status.idle": "2023-01-28T10:07:11.046205Z",
     "shell.execute_reply": "2023-01-28T10:07:11.045068Z"
    },
    "papermill": {
     "duration": 0.035421,
     "end_time": "2023-01-28T10:07:11.048665",
     "exception": false,
     "start_time": "2023-01-28T10:07:11.013244",
     "status": "completed"
    },
    "tags": []
   },
   "outputs": [
    {
     "data": {
      "text/html": [
       "<div>\n",
       "<style scoped>\n",
       "    .dataframe tbody tr th:only-of-type {\n",
       "        vertical-align: middle;\n",
       "    }\n",
       "\n",
       "    .dataframe tbody tr th {\n",
       "        vertical-align: top;\n",
       "    }\n",
       "\n",
       "    .dataframe thead th {\n",
       "        text-align: right;\n",
       "    }\n",
       "</style>\n",
       "<table border=\"1\" class=\"dataframe\">\n",
       "  <thead>\n",
       "    <tr style=\"text-align: right;\">\n",
       "      <th></th>\n",
       "      <th>age</th>\n",
       "      <th>cancer</th>\n",
       "      <th>implant</th>\n",
       "      <th>laterality_L</th>\n",
       "      <th>view_AT</th>\n",
       "      <th>view_CC</th>\n",
       "      <th>view_LM</th>\n",
       "      <th>view_ML</th>\n",
       "      <th>view_MLO</th>\n",
       "    </tr>\n",
       "  </thead>\n",
       "  <tbody>\n",
       "    <tr>\n",
       "      <th>0</th>\n",
       "      <td>61.0</td>\n",
       "      <td>0</td>\n",
       "      <td>0</td>\n",
       "      <td>1</td>\n",
       "      <td>0</td>\n",
       "      <td>1</td>\n",
       "      <td>0</td>\n",
       "      <td>0</td>\n",
       "      <td>0</td>\n",
       "    </tr>\n",
       "    <tr>\n",
       "      <th>1</th>\n",
       "      <td>61.0</td>\n",
       "      <td>0</td>\n",
       "      <td>0</td>\n",
       "      <td>1</td>\n",
       "      <td>0</td>\n",
       "      <td>0</td>\n",
       "      <td>0</td>\n",
       "      <td>0</td>\n",
       "      <td>1</td>\n",
       "    </tr>\n",
       "    <tr>\n",
       "      <th>2</th>\n",
       "      <td>61.0</td>\n",
       "      <td>0</td>\n",
       "      <td>0</td>\n",
       "      <td>0</td>\n",
       "      <td>0</td>\n",
       "      <td>0</td>\n",
       "      <td>0</td>\n",
       "      <td>0</td>\n",
       "      <td>1</td>\n",
       "    </tr>\n",
       "    <tr>\n",
       "      <th>3</th>\n",
       "      <td>61.0</td>\n",
       "      <td>0</td>\n",
       "      <td>0</td>\n",
       "      <td>0</td>\n",
       "      <td>0</td>\n",
       "      <td>1</td>\n",
       "      <td>0</td>\n",
       "      <td>0</td>\n",
       "      <td>0</td>\n",
       "    </tr>\n",
       "    <tr>\n",
       "      <th>4</th>\n",
       "      <td>55.0</td>\n",
       "      <td>0</td>\n",
       "      <td>0</td>\n",
       "      <td>1</td>\n",
       "      <td>0</td>\n",
       "      <td>1</td>\n",
       "      <td>0</td>\n",
       "      <td>0</td>\n",
       "      <td>0</td>\n",
       "    </tr>\n",
       "    <tr>\n",
       "      <th>...</th>\n",
       "      <td>...</td>\n",
       "      <td>...</td>\n",
       "      <td>...</td>\n",
       "      <td>...</td>\n",
       "      <td>...</td>\n",
       "      <td>...</td>\n",
       "      <td>...</td>\n",
       "      <td>...</td>\n",
       "      <td>...</td>\n",
       "    </tr>\n",
       "    <tr>\n",
       "      <th>54701</th>\n",
       "      <td>43.0</td>\n",
       "      <td>0</td>\n",
       "      <td>0</td>\n",
       "      <td>0</td>\n",
       "      <td>0</td>\n",
       "      <td>0</td>\n",
       "      <td>0</td>\n",
       "      <td>0</td>\n",
       "      <td>1</td>\n",
       "    </tr>\n",
       "    <tr>\n",
       "      <th>54702</th>\n",
       "      <td>60.0</td>\n",
       "      <td>0</td>\n",
       "      <td>0</td>\n",
       "      <td>1</td>\n",
       "      <td>0</td>\n",
       "      <td>0</td>\n",
       "      <td>0</td>\n",
       "      <td>0</td>\n",
       "      <td>1</td>\n",
       "    </tr>\n",
       "    <tr>\n",
       "      <th>54703</th>\n",
       "      <td>60.0</td>\n",
       "      <td>0</td>\n",
       "      <td>0</td>\n",
       "      <td>1</td>\n",
       "      <td>0</td>\n",
       "      <td>1</td>\n",
       "      <td>0</td>\n",
       "      <td>0</td>\n",
       "      <td>0</td>\n",
       "    </tr>\n",
       "    <tr>\n",
       "      <th>54704</th>\n",
       "      <td>60.0</td>\n",
       "      <td>0</td>\n",
       "      <td>0</td>\n",
       "      <td>0</td>\n",
       "      <td>0</td>\n",
       "      <td>0</td>\n",
       "      <td>0</td>\n",
       "      <td>0</td>\n",
       "      <td>1</td>\n",
       "    </tr>\n",
       "    <tr>\n",
       "      <th>54705</th>\n",
       "      <td>60.0</td>\n",
       "      <td>0</td>\n",
       "      <td>0</td>\n",
       "      <td>0</td>\n",
       "      <td>0</td>\n",
       "      <td>1</td>\n",
       "      <td>0</td>\n",
       "      <td>0</td>\n",
       "      <td>0</td>\n",
       "    </tr>\n",
       "  </tbody>\n",
       "</table>\n",
       "<p>54706 rows × 9 columns</p>\n",
       "</div>"
      ],
      "text/plain": [
       "        age  cancer  implant  laterality_L  view_AT  view_CC  view_LM  \\\n",
       "0      61.0       0        0             1        0        1        0   \n",
       "1      61.0       0        0             1        0        0        0   \n",
       "2      61.0       0        0             0        0        0        0   \n",
       "3      61.0       0        0             0        0        1        0   \n",
       "4      55.0       0        0             1        0        1        0   \n",
       "...     ...     ...      ...           ...      ...      ...      ...   \n",
       "54701  43.0       0        0             0        0        0        0   \n",
       "54702  60.0       0        0             1        0        0        0   \n",
       "54703  60.0       0        0             1        0        1        0   \n",
       "54704  60.0       0        0             0        0        0        0   \n",
       "54705  60.0       0        0             0        0        1        0   \n",
       "\n",
       "       view_ML  view_MLO  \n",
       "0            0         0  \n",
       "1            0         1  \n",
       "2            0         1  \n",
       "3            0         0  \n",
       "4            0         0  \n",
       "...        ...       ...  \n",
       "54701        0         1  \n",
       "54702        0         1  \n",
       "54703        0         0  \n",
       "54704        0         1  \n",
       "54705        0         0  \n",
       "\n",
       "[54706 rows x 9 columns]"
      ]
     },
     "execution_count": 12,
     "metadata": {},
     "output_type": "execute_result"
    }
   ],
   "source": [
    "df5=df4.drop(['laterality','view'],axis=1)\n",
    "df5"
   ]
  },
  {
   "cell_type": "code",
   "execution_count": 13,
   "id": "fedf6692",
   "metadata": {
    "execution": {
     "iopub.execute_input": "2023-01-28T10:07:11.076236Z",
     "iopub.status.busy": "2023-01-28T10:07:11.075830Z",
     "iopub.status.idle": "2023-01-28T10:07:11.087281Z",
     "shell.execute_reply": "2023-01-28T10:07:11.086091Z"
    },
    "papermill": {
     "duration": 0.028239,
     "end_time": "2023-01-28T10:07:11.089599",
     "exception": false,
     "start_time": "2023-01-28T10:07:11.061360",
     "status": "completed"
    },
    "tags": []
   },
   "outputs": [
    {
     "data": {
      "text/plain": [
       "age             37\n",
       "cancer           0\n",
       "implant          0\n",
       "laterality_L     0\n",
       "view_AT          0\n",
       "view_CC          0\n",
       "view_LM          0\n",
       "view_ML          0\n",
       "view_MLO         0\n",
       "dtype: int64"
      ]
     },
     "execution_count": 13,
     "metadata": {},
     "output_type": "execute_result"
    }
   ],
   "source": [
    "df5.isnull().sum()"
   ]
  },
  {
   "cell_type": "code",
   "execution_count": 14,
   "id": "e356f9ba",
   "metadata": {
    "execution": {
     "iopub.execute_input": "2023-01-28T10:07:11.117485Z",
     "iopub.status.busy": "2023-01-28T10:07:11.116134Z",
     "iopub.status.idle": "2023-01-28T10:07:11.141349Z",
     "shell.execute_reply": "2023-01-28T10:07:11.140045Z"
    },
    "papermill": {
     "duration": 0.041405,
     "end_time": "2023-01-28T10:07:11.143844",
     "exception": false,
     "start_time": "2023-01-28T10:07:11.102439",
     "status": "completed"
    },
    "tags": []
   },
   "outputs": [
    {
     "data": {
      "text/plain": [
       "implant        -0.069599\n",
       "view_CC        -0.011559\n",
       "laterality_L    0.001040\n",
       "view_AT         0.003482\n",
       "view_ML         0.003859\n",
       "view_MLO        0.010979\n",
       "view_LM         0.014475\n",
       "cancer          0.075155\n",
       "age             1.000000\n",
       "Name: age, dtype: float64"
      ]
     },
     "execution_count": 14,
     "metadata": {},
     "output_type": "execute_result"
    }
   ],
   "source": [
    "df5.corr()['age'].sort_values(ascending=True)"
   ]
  },
  {
   "cell_type": "code",
   "execution_count": 15,
   "id": "a90a87f4",
   "metadata": {
    "execution": {
     "iopub.execute_input": "2023-01-28T10:07:11.171889Z",
     "iopub.status.busy": "2023-01-28T10:07:11.171425Z",
     "iopub.status.idle": "2023-01-28T10:07:11.558349Z",
     "shell.execute_reply": "2023-01-28T10:07:11.557029Z"
    },
    "papermill": {
     "duration": 0.404528,
     "end_time": "2023-01-28T10:07:11.560936",
     "exception": false,
     "start_time": "2023-01-28T10:07:11.156408",
     "status": "completed"
    },
    "tags": []
   },
   "outputs": [
    {
     "data": {
      "text/plain": [
       "<AxesSubplot:xlabel='age', ylabel='Count'>"
      ]
     },
     "execution_count": 15,
     "metadata": {},
     "output_type": "execute_result"
    },
    {
     "data": {
      "image/png": "[encoded data removed]",
      "text/plain": [
       "<Figure size 432x288 with 1 Axes>"
      ]
     },
     "metadata": {
      "needs_background": "light"
     },
     "output_type": "display_data"
    }
   ],
   "source": [
    "sns.histplot(df5['age'])"
   ]
  },
  {
   "cell_type": "code",
   "execution_count": 16,
   "id": "50d542b4",
   "metadata": {
    "execution": {
     "iopub.execute_input": "2023-01-28T10:07:11.591610Z",
     "iopub.status.busy": "2023-01-28T10:07:11.591238Z",
     "iopub.status.idle": "2023-01-28T10:07:11.600952Z",
     "shell.execute_reply": "2023-01-28T10:07:11.599427Z"
    },
    "papermill": {
     "duration": 0.026855,
     "end_time": "2023-01-28T10:07:11.603948",
     "exception": false,
     "start_time": "2023-01-28T10:07:11.577093",
     "status": "completed"
    },
    "tags": []
   },
   "outputs": [
    {
     "name": "stdout",
     "output_type": "stream",
     "text": [
      "59.0 58.54392800307304\n"
     ]
    }
   ],
   "source": [
    "print(df5.age.median(),df5.age.mean())"
   ]
  },
  {
   "cell_type": "code",
   "execution_count": 17,
   "id": "53721534",
   "metadata": {
    "execution": {
     "iopub.execute_input": "2023-01-28T10:07:11.633227Z",
     "iopub.status.busy": "2023-01-28T10:07:11.632839Z",
     "iopub.status.idle": "2023-01-28T10:07:11.640862Z",
     "shell.execute_reply": "2023-01-28T10:07:11.639881Z"
    },
    "papermill": {
     "duration": 0.025086,
     "end_time": "2023-01-28T10:07:11.643311",
     "exception": false,
     "start_time": "2023-01-28T10:07:11.618225",
     "status": "completed"
    },
    "tags": []
   },
   "outputs": [],
   "source": [
    "df5['age']=df5['age'].fillna(df5.age.median())"
   ]
  },
  {
   "cell_type": "code",
   "execution_count": 18,
   "id": "a22e2765",
   "metadata": {
    "execution": {
     "iopub.execute_input": "2023-01-28T10:07:11.671193Z",
     "iopub.status.busy": "2023-01-28T10:07:11.670523Z",
     "iopub.status.idle": "2023-01-28T10:07:11.675316Z",
     "shell.execute_reply": "2023-01-28T10:07:11.674530Z"
    },
    "papermill": {
     "duration": 0.021248,
     "end_time": "2023-01-28T10:07:11.677554",
     "exception": false,
     "start_time": "2023-01-28T10:07:11.656306",
     "status": "completed"
    },
    "tags": []
   },
   "outputs": [],
   "source": [
    "#try to get missing age by applying classifier on the data"
   ]
  },
  {
   "cell_type": "code",
   "execution_count": 19,
   "id": "000e1a00",
   "metadata": {
    "execution": {
     "iopub.execute_input": "2023-01-28T10:07:11.705368Z",
     "iopub.status.busy": "2023-01-28T10:07:11.704947Z",
     "iopub.status.idle": "2023-01-28T10:07:11.715950Z",
     "shell.execute_reply": "2023-01-28T10:07:11.714628Z"
    },
    "papermill": {
     "duration": 0.028179,
     "end_time": "2023-01-28T10:07:11.718515",
     "exception": false,
     "start_time": "2023-01-28T10:07:11.690336",
     "status": "completed"
    },
    "tags": []
   },
   "outputs": [
    {
     "data": {
      "text/plain": [
       "age             0\n",
       "cancer          0\n",
       "implant         0\n",
       "laterality_L    0\n",
       "view_AT         0\n",
       "view_CC         0\n",
       "view_LM         0\n",
       "view_ML         0\n",
       "view_MLO        0\n",
       "dtype: int64"
      ]
     },
     "execution_count": 19,
     "metadata": {},
     "output_type": "execute_result"
    }
   ],
   "source": [
    "df5.isna().sum()"
   ]
  },
  {
   "cell_type": "code",
   "execution_count": 20,
   "id": "655fb27f",
   "metadata": {
    "execution": {
     "iopub.execute_input": "2023-01-28T10:07:11.747055Z",
     "iopub.status.busy": "2023-01-28T10:07:11.746639Z",
     "iopub.status.idle": "2023-01-28T10:07:11.755475Z",
     "shell.execute_reply": "2023-01-28T10:07:11.754280Z"
    },
    "papermill": {
     "duration": 0.025609,
     "end_time": "2023-01-28T10:07:11.757713",
     "exception": false,
     "start_time": "2023-01-28T10:07:11.732104",
     "status": "completed"
    },
    "tags": []
   },
   "outputs": [
    {
     "data": {
      "text/plain": [
       "0    53548\n",
       "1     1158\n",
       "Name: cancer, dtype: int64"
      ]
     },
     "execution_count": 20,
     "metadata": {},
     "output_type": "execute_result"
    }
   ],
   "source": [
    "df5.cancer.value_counts()"
   ]
  },
  {
   "cell_type": "code",
   "execution_count": 21,
   "id": "eafff54f",
   "metadata": {
    "execution": {
     "iopub.execute_input": "2023-01-28T10:07:11.785498Z",
     "iopub.status.busy": "2023-01-28T10:07:11.785110Z",
     "iopub.status.idle": "2023-01-28T10:07:11.789451Z",
     "shell.execute_reply": "2023-01-28T10:07:11.788176Z"
    },
    "papermill": {
     "duration": 0.021066,
     "end_time": "2023-01-28T10:07:11.791748",
     "exception": false,
     "start_time": "2023-01-28T10:07:11.770682",
     "status": "completed"
    },
    "tags": []
   },
   "outputs": [],
   "source": [
    "#try using smote analysis to balance the dataset"
   ]
  },
  {
   "cell_type": "code",
   "execution_count": 22,
   "id": "32d133b7",
   "metadata": {
    "execution": {
     "iopub.execute_input": "2023-01-28T10:07:11.819981Z",
     "iopub.status.busy": "2023-01-28T10:07:11.819569Z",
     "iopub.status.idle": "2023-01-28T10:07:12.142618Z",
     "shell.execute_reply": "2023-01-28T10:07:12.141415Z"
    },
    "papermill": {
     "duration": 0.340199,
     "end_time": "2023-01-28T10:07:12.145066",
     "exception": false,
     "start_time": "2023-01-28T10:07:11.804867",
     "status": "completed"
    },
    "tags": []
   },
   "outputs": [
    {
     "data": {
      "text/plain": [
       "<AxesSubplot:>"
      ]
     },
     "execution_count": 22,
     "metadata": {},
     "output_type": "execute_result"
    },
    {
     "data": {
      "image/png": "[encoded data removed]",
      "text/plain": [
       "<Figure size 432x288 with 2 Axes>"
      ]
     },
     "metadata": {
      "needs_background": "light"
     },
     "output_type": "display_data"
    }
   ],
   "source": [
    "import seaborn as sns\n",
    "sns.heatmap(df.corr())"
   ]
  },
  {
   "cell_type": "code",
   "execution_count": 23,
   "id": "2305aa9b",
   "metadata": {
    "execution": {
     "iopub.execute_input": "2023-01-28T10:07:12.177769Z",
     "iopub.status.busy": "2023-01-28T10:07:12.177107Z",
     "iopub.status.idle": "2023-01-28T10:07:12.208610Z",
     "shell.execute_reply": "2023-01-28T10:07:12.207580Z"
    },
    "papermill": {
     "duration": 0.051757,
     "end_time": "2023-01-28T10:07:12.211275",
     "exception": false,
     "start_time": "2023-01-28T10:07:12.159518",
     "status": "completed"
    },
    "tags": []
   },
   "outputs": [
    {
     "data": {
      "text/plain": [
       "BIRADS                    -0.210718\n",
       "difficult_negative_case   -0.059541\n",
       "machine_id                -0.024888\n",
       "implant                   -0.014311\n",
       "site_id                   -0.009975\n",
       "patient_id                -0.003253\n",
       "image_id                   0.000223\n",
       "age                        0.075155\n",
       "biopsy                     0.613872\n",
       "invasive                   0.837815\n",
       "cancer                     1.000000\n",
       "Name: cancer, dtype: float64"
      ]
     },
     "execution_count": 23,
     "metadata": {},
     "output_type": "execute_result"
    }
   ],
   "source": [
    "df.corr()['cancer'].sort_values(ascending=True)"
   ]
  },
  {
   "cell_type": "code",
   "execution_count": 24,
   "id": "19f51466",
   "metadata": {
    "execution": {
     "iopub.execute_input": "2023-01-28T10:07:12.242785Z",
     "iopub.status.busy": "2023-01-28T10:07:12.241578Z",
     "iopub.status.idle": "2023-01-28T10:07:12.246498Z",
     "shell.execute_reply": "2023-01-28T10:07:12.245255Z"
    },
    "papermill": {
     "duration": 0.02381,
     "end_time": "2023-01-28T10:07:12.249450",
     "exception": false,
     "start_time": "2023-01-28T10:07:12.225640",
     "status": "completed"
    },
    "tags": []
   },
   "outputs": [],
   "source": [
    "#cc is top view and mlo is from side"
   ]
  },
  {
   "cell_type": "code",
   "execution_count": 25,
   "id": "aaf238db",
   "metadata": {
    "execution": {
     "iopub.execute_input": "2023-01-28T10:07:12.280050Z",
     "iopub.status.busy": "2023-01-28T10:07:12.279612Z",
     "iopub.status.idle": "2023-01-28T10:07:12.286679Z",
     "shell.execute_reply": "2023-01-28T10:07:12.285341Z"
    },
    "papermill": {
     "duration": 0.024862,
     "end_time": "2023-01-28T10:07:12.289146",
     "exception": false,
     "start_time": "2023-01-28T10:07:12.264284",
     "status": "completed"
    },
    "tags": []
   },
   "outputs": [
    {
     "data": {
      "text/plain": [
       "'\\nimport pathlib\\ndata_dir1=pathlib.Path(\"/kaggle/input/rsna-breast-cancer-detection/train_images\")\\nimage_path=list(data_dir1.glob(\\'*\\'))[:2]\\nfor j in image_path:\\n    for i in pathlib.Path(j).glob(\\'*\\'):\\n#        try:\\n            ds = pydicom.dcmread(i)\\n            #plt.imshow(ds.pixel_array)\\n            print(ds.pixel_array.shape)\\n#        except:\\n#            continue\\n'"
      ]
     },
     "execution_count": 25,
     "metadata": {},
     "output_type": "execute_result"
    }
   ],
   "source": [
    "'''\n",
    "import pathlib\n",
    "data_dir1=pathlib.Path(\"/kaggle/input/rsna-breast-cancer-detection/train_images\")\n",
    "image_path=list(data_dir1.glob('*'))[:2]\n",
    "for j in image_path:\n",
    "    for i in pathlib.Path(j).glob('*'):\n",
    "#        try:\n",
    "            ds = pydicom.dcmread(i)\n",
    "            #plt.imshow(ds.pixel_array)\n",
    "            print(ds.pixel_array.shape)\n",
    "#        except:\n",
    "#            continue\n",
    "'''"
   ]
  },
  {
   "cell_type": "code",
   "execution_count": 26,
   "id": "576eaa50",
   "metadata": {
    "execution": {
     "iopub.execute_input": "2023-01-28T10:07:12.320198Z",
     "iopub.status.busy": "2023-01-28T10:07:12.319770Z",
     "iopub.status.idle": "2023-01-28T10:07:12.326451Z",
     "shell.execute_reply": "2023-01-28T10:07:12.325649Z"
    },
    "papermill": {
     "duration": 0.024817,
     "end_time": "2023-01-28T10:07:12.328636",
     "exception": false,
     "start_time": "2023-01-28T10:07:12.303819",
     "status": "completed"
    },
    "tags": []
   },
   "outputs": [
    {
     "data": {
      "text/plain": [
       "'\\nimport pathlib\\n#import pylibjpeg\\ndata_dir=pathlib.Path(\"/kaggle/input/rsna-breast-cancer-detection/train_images/34867\")\\nfor i in list(data_dir.glob(\\'*\\')):\\n   try:\\n    print(i)\\n    #ds = dicom.dcmread(i)\\n    #print(ds.pixel_array.shape)\\n    ds = dcmread(i)\\n    print(ds.pixel_array)\\n   except:\\n    continue\\n'"
      ]
     },
     "execution_count": 26,
     "metadata": {},
     "output_type": "execute_result"
    }
   ],
   "source": [
    "'''\n",
    "import pathlib\n",
    "#import pylibjpeg\n",
    "data_dir=pathlib.Path(\"/kaggle/input/rsna-breast-cancer-detection/train_images/34867\")\n",
    "for i in list(data_dir.glob('*')):\n",
    "   try:\n",
    "    print(i)\n",
    "    #ds = dicom.dcmread(i)\n",
    "    #print(ds.pixel_array.shape)\n",
    "    ds = dcmread(i)\n",
    "    print(ds.pixel_array)\n",
    "   except:\n",
    "    continue\n",
    "'''"
   ]
  },
  {
   "cell_type": "code",
   "execution_count": 27,
   "id": "9a03842f",
   "metadata": {
    "execution": {
     "iopub.execute_input": "2023-01-28T10:07:12.359590Z",
     "iopub.status.busy": "2023-01-28T10:07:12.358412Z",
     "iopub.status.idle": "2023-01-28T10:07:12.375902Z",
     "shell.execute_reply": "2023-01-28T10:07:12.374724Z"
    },
    "papermill": {
     "duration": 0.035152,
     "end_time": "2023-01-28T10:07:12.378268",
     "exception": false,
     "start_time": "2023-01-28T10:07:12.343116",
     "status": "completed"
    },
    "tags": []
   },
   "outputs": [
    {
     "data": {
      "text/html": [
       "<div>\n",
       "<style scoped>\n",
       "    .dataframe tbody tr th:only-of-type {\n",
       "        vertical-align: middle;\n",
       "    }\n",
       "\n",
       "    .dataframe tbody tr th {\n",
       "        vertical-align: top;\n",
       "    }\n",
       "\n",
       "    .dataframe thead th {\n",
       "        text-align: right;\n",
       "    }\n",
       "</style>\n",
       "<table border=\"1\" class=\"dataframe\">\n",
       "  <thead>\n",
       "    <tr style=\"text-align: right;\">\n",
       "      <th></th>\n",
       "      <th>age</th>\n",
       "      <th>cancer</th>\n",
       "      <th>implant</th>\n",
       "      <th>laterality_L</th>\n",
       "      <th>view_AT</th>\n",
       "      <th>view_CC</th>\n",
       "      <th>view_LM</th>\n",
       "      <th>view_ML</th>\n",
       "      <th>view_MLO</th>\n",
       "    </tr>\n",
       "  </thead>\n",
       "  <tbody>\n",
       "    <tr>\n",
       "      <th>0</th>\n",
       "      <td>61.0</td>\n",
       "      <td>0</td>\n",
       "      <td>0</td>\n",
       "      <td>1</td>\n",
       "      <td>0</td>\n",
       "      <td>1</td>\n",
       "      <td>0</td>\n",
       "      <td>0</td>\n",
       "      <td>0</td>\n",
       "    </tr>\n",
       "    <tr>\n",
       "      <th>1</th>\n",
       "      <td>61.0</td>\n",
       "      <td>0</td>\n",
       "      <td>0</td>\n",
       "      <td>1</td>\n",
       "      <td>0</td>\n",
       "      <td>0</td>\n",
       "      <td>0</td>\n",
       "      <td>0</td>\n",
       "      <td>1</td>\n",
       "    </tr>\n",
       "    <tr>\n",
       "      <th>2</th>\n",
       "      <td>61.0</td>\n",
       "      <td>0</td>\n",
       "      <td>0</td>\n",
       "      <td>0</td>\n",
       "      <td>0</td>\n",
       "      <td>0</td>\n",
       "      <td>0</td>\n",
       "      <td>0</td>\n",
       "      <td>1</td>\n",
       "    </tr>\n",
       "    <tr>\n",
       "      <th>3</th>\n",
       "      <td>61.0</td>\n",
       "      <td>0</td>\n",
       "      <td>0</td>\n",
       "      <td>0</td>\n",
       "      <td>0</td>\n",
       "      <td>1</td>\n",
       "      <td>0</td>\n",
       "      <td>0</td>\n",
       "      <td>0</td>\n",
       "    </tr>\n",
       "    <tr>\n",
       "      <th>4</th>\n",
       "      <td>55.0</td>\n",
       "      <td>0</td>\n",
       "      <td>0</td>\n",
       "      <td>1</td>\n",
       "      <td>0</td>\n",
       "      <td>1</td>\n",
       "      <td>0</td>\n",
       "      <td>0</td>\n",
       "      <td>0</td>\n",
       "    </tr>\n",
       "    <tr>\n",
       "      <th>...</th>\n",
       "      <td>...</td>\n",
       "      <td>...</td>\n",
       "      <td>...</td>\n",
       "      <td>...</td>\n",
       "      <td>...</td>\n",
       "      <td>...</td>\n",
       "      <td>...</td>\n",
       "      <td>...</td>\n",
       "      <td>...</td>\n",
       "    </tr>\n",
       "    <tr>\n",
       "      <th>54701</th>\n",
       "      <td>43.0</td>\n",
       "      <td>0</td>\n",
       "      <td>0</td>\n",
       "      <td>0</td>\n",
       "      <td>0</td>\n",
       "      <td>0</td>\n",
       "      <td>0</td>\n",
       "      <td>0</td>\n",
       "      <td>1</td>\n",
       "    </tr>\n",
       "    <tr>\n",
       "      <th>54702</th>\n",
       "      <td>60.0</td>\n",
       "      <td>0</td>\n",
       "      <td>0</td>\n",
       "      <td>1</td>\n",
       "      <td>0</td>\n",
       "      <td>0</td>\n",
       "      <td>0</td>\n",
       "      <td>0</td>\n",
       "      <td>1</td>\n",
       "    </tr>\n",
       "    <tr>\n",
       "      <th>54703</th>\n",
       "      <td>60.0</td>\n",
       "      <td>0</td>\n",
       "      <td>0</td>\n",
       "      <td>1</td>\n",
       "      <td>0</td>\n",
       "      <td>1</td>\n",
       "      <td>0</td>\n",
       "      <td>0</td>\n",
       "      <td>0</td>\n",
       "    </tr>\n",
       "    <tr>\n",
       "      <th>54704</th>\n",
       "      <td>60.0</td>\n",
       "      <td>0</td>\n",
       "      <td>0</td>\n",
       "      <td>0</td>\n",
       "      <td>0</td>\n",
       "      <td>0</td>\n",
       "      <td>0</td>\n",
       "      <td>0</td>\n",
       "      <td>1</td>\n",
       "    </tr>\n",
       "    <tr>\n",
       "      <th>54705</th>\n",
       "      <td>60.0</td>\n",
       "      <td>0</td>\n",
       "      <td>0</td>\n",
       "      <td>0</td>\n",
       "      <td>0</td>\n",
       "      <td>1</td>\n",
       "      <td>0</td>\n",
       "      <td>0</td>\n",
       "      <td>0</td>\n",
       "    </tr>\n",
       "  </tbody>\n",
       "</table>\n",
       "<p>54706 rows × 9 columns</p>\n",
       "</div>"
      ],
      "text/plain": [
       "        age  cancer  implant  laterality_L  view_AT  view_CC  view_LM  \\\n",
       "0      61.0       0        0             1        0        1        0   \n",
       "1      61.0       0        0             1        0        0        0   \n",
       "2      61.0       0        0             0        0        0        0   \n",
       "3      61.0       0        0             0        0        1        0   \n",
       "4      55.0       0        0             1        0        1        0   \n",
       "...     ...     ...      ...           ...      ...      ...      ...   \n",
       "54701  43.0       0        0             0        0        0        0   \n",
       "54702  60.0       0        0             1        0        0        0   \n",
       "54703  60.0       0        0             1        0        1        0   \n",
       "54704  60.0       0        0             0        0        0        0   \n",
       "54705  60.0       0        0             0        0        1        0   \n",
       "\n",
       "       view_ML  view_MLO  \n",
       "0            0         0  \n",
       "1            0         1  \n",
       "2            0         1  \n",
       "3            0         0  \n",
       "4            0         0  \n",
       "...        ...       ...  \n",
       "54701        0         1  \n",
       "54702        0         1  \n",
       "54703        0         0  \n",
       "54704        0         1  \n",
       "54705        0         0  \n",
       "\n",
       "[54706 rows x 9 columns]"
      ]
     },
     "execution_count": 27,
     "metadata": {},
     "output_type": "execute_result"
    }
   ],
   "source": [
    "df5"
   ]
  },
  {
   "cell_type": "code",
   "execution_count": 28,
   "id": "00d6892d",
   "metadata": {
    "execution": {
     "iopub.execute_input": "2023-01-28T10:07:12.409458Z",
     "iopub.status.busy": "2023-01-28T10:07:12.409040Z",
     "iopub.status.idle": "2023-01-28T10:07:12.413441Z",
     "shell.execute_reply": "2023-01-28T10:07:12.412407Z"
    },
    "papermill": {
     "duration": 0.023244,
     "end_time": "2023-01-28T10:07:12.415775",
     "exception": false,
     "start_time": "2023-01-28T10:07:12.392531",
     "status": "completed"
    },
    "tags": []
   },
   "outputs": [],
   "source": [
    "#from sklearn.preprocessing import MinMaxScaler\n",
    "#scaler=MinMaxScaler()\n",
    "#df5[['age']]=scaler.fit_transform(df5[['age']])\n",
    "#df5"
   ]
  },
  {
   "cell_type": "code",
   "execution_count": null,
   "id": "f71fe0f7",
   "metadata": {
    "papermill": {
     "duration": 0.01429,
     "end_time": "2023-01-28T10:07:12.444578",
     "exception": false,
     "start_time": "2023-01-28T10:07:12.430288",
     "status": "completed"
    },
    "tags": []
   },
   "outputs": [],
   "source": []
  },
  {
   "cell_type": "code",
   "execution_count": 29,
   "id": "eec98312",
   "metadata": {
    "execution": {
     "iopub.execute_input": "2023-01-28T10:07:12.475236Z",
     "iopub.status.busy": "2023-01-28T10:07:12.474815Z",
     "iopub.status.idle": "2023-01-28T10:07:12.691008Z",
     "shell.execute_reply": "2023-01-28T10:07:12.690123Z"
    },
    "papermill": {
     "duration": 0.234252,
     "end_time": "2023-01-28T10:07:12.693498",
     "exception": false,
     "start_time": "2023-01-28T10:07:12.459246",
     "status": "completed"
    },
    "tags": []
   },
   "outputs": [],
   "source": [
    "from sklearn.model_selection import train_test_split\n",
    "X=df5.drop(['cancer'],axis=1)\n",
    "y=df5['cancer']\n",
    "X_train, X_test, y_train, y_test = train_test_split(X,y,test_size=0.2)"
   ]
  },
  {
   "cell_type": "code",
   "execution_count": 30,
   "id": "e53d0ec5",
   "metadata": {
    "execution": {
     "iopub.execute_input": "2023-01-28T10:07:12.724212Z",
     "iopub.status.busy": "2023-01-28T10:07:12.723493Z",
     "iopub.status.idle": "2023-01-28T10:07:12.730654Z",
     "shell.execute_reply": "2023-01-28T10:07:12.729908Z"
    },
    "papermill": {
     "duration": 0.024881,
     "end_time": "2023-01-28T10:07:12.732718",
     "exception": false,
     "start_time": "2023-01-28T10:07:12.707837",
     "status": "completed"
    },
    "tags": []
   },
   "outputs": [
    {
     "data": {
      "text/plain": [
       "0    10686\n",
       "1      256\n",
       "Name: cancer, dtype: int64"
      ]
     },
     "execution_count": 30,
     "metadata": {},
     "output_type": "execute_result"
    }
   ],
   "source": [
    "y_test.value_counts()"
   ]
  },
  {
   "cell_type": "code",
   "execution_count": 31,
   "id": "b8972fa5",
   "metadata": {
    "execution": {
     "iopub.execute_input": "2023-01-28T10:07:12.763508Z",
     "iopub.status.busy": "2023-01-28T10:07:12.762816Z",
     "iopub.status.idle": "2023-01-28T10:07:12.770068Z",
     "shell.execute_reply": "2023-01-28T10:07:12.769312Z"
    },
    "papermill": {
     "duration": 0.025035,
     "end_time": "2023-01-28T10:07:12.772250",
     "exception": false,
     "start_time": "2023-01-28T10:07:12.747215",
     "status": "completed"
    },
    "tags": []
   },
   "outputs": [
    {
     "data": {
      "text/plain": [
       "0    42862\n",
       "1      902\n",
       "Name: cancer, dtype: int64"
      ]
     },
     "execution_count": 31,
     "metadata": {},
     "output_type": "execute_result"
    }
   ],
   "source": [
    "y_train.value_counts()"
   ]
  },
  {
   "cell_type": "code",
   "execution_count": 32,
   "id": "f152b774",
   "metadata": {
    "execution": {
     "iopub.execute_input": "2023-01-28T10:07:12.803707Z",
     "iopub.status.busy": "2023-01-28T10:07:12.802956Z",
     "iopub.status.idle": "2023-01-28T10:07:13.184754Z",
     "shell.execute_reply": "2023-01-28T10:07:13.183462Z"
    },
    "papermill": {
     "duration": 0.400387,
     "end_time": "2023-01-28T10:07:13.187305",
     "exception": false,
     "start_time": "2023-01-28T10:07:12.786918",
     "status": "completed"
    },
    "tags": []
   },
   "outputs": [
    {
     "data": {
      "text/plain": [
       "0    42862\n",
       "1    42862\n",
       "Name: cancer, dtype: int64"
      ]
     },
     "execution_count": 32,
     "metadata": {},
     "output_type": "execute_result"
    }
   ],
   "source": [
    "from imblearn.over_sampling import SMOTE\n",
    "smote=SMOTE(sampling_strategy='minority')\n",
    "X_train,y_train=smote.fit_resample(X_train,y_train)\n",
    "y_train.value_counts()"
   ]
  },
  {
   "cell_type": "code",
   "execution_count": 33,
   "id": "207e46ef",
   "metadata": {
    "execution": {
     "iopub.execute_input": "2023-01-28T10:07:13.225206Z",
     "iopub.status.busy": "2023-01-28T10:07:13.224476Z",
     "iopub.status.idle": "2023-01-28T10:07:14.356360Z",
     "shell.execute_reply": "2023-01-28T10:07:14.354718Z"
    },
    "papermill": {
     "duration": 1.15795,
     "end_time": "2023-01-28T10:07:14.361274",
     "exception": false,
     "start_time": "2023-01-28T10:07:13.203324",
     "status": "completed"
    },
    "tags": []
   },
   "outputs": [],
   "source": [
    "from sklearn.metrics import classification_report\n",
    "from sklearn.linear_model import LogisticRegression\n",
    "model=LogisticRegression()\n",
    "model.fit(X_train,y_train)\n",
    "y_pred=model.predict(X_test)"
   ]
  },
  {
   "cell_type": "code",
   "execution_count": 34,
   "id": "0f1c9f49",
   "metadata": {
    "execution": {
     "iopub.execute_input": "2023-01-28T10:07:14.444042Z",
     "iopub.status.busy": "2023-01-28T10:07:14.443201Z",
     "iopub.status.idle": "2023-01-28T10:07:14.467967Z",
     "shell.execute_reply": "2023-01-28T10:07:14.466400Z"
    },
    "papermill": {
     "duration": 0.072944,
     "end_time": "2023-01-28T10:07:14.473068",
     "exception": false,
     "start_time": "2023-01-28T10:07:14.400124",
     "status": "completed"
    },
    "tags": []
   },
   "outputs": [
    {
     "data": {
      "text/plain": [
       "0    6474\n",
       "1    4468\n",
       "dtype: int64"
      ]
     },
     "execution_count": 34,
     "metadata": {},
     "output_type": "execute_result"
    }
   ],
   "source": [
    "pd.DataFrame(y_pred).value_counts()"
   ]
  },
  {
   "cell_type": "code",
   "execution_count": 35,
   "id": "b4d73b65",
   "metadata": {
    "execution": {
     "iopub.execute_input": "2023-01-28T10:07:14.505746Z",
     "iopub.status.busy": "2023-01-28T10:07:14.505324Z",
     "iopub.status.idle": "2023-01-28T10:07:14.531999Z",
     "shell.execute_reply": "2023-01-28T10:07:14.530502Z"
    },
    "papermill": {
     "duration": 0.045967,
     "end_time": "2023-01-28T10:07:14.535300",
     "exception": false,
     "start_time": "2023-01-28T10:07:14.489333",
     "status": "completed"
    },
    "tags": []
   },
   "outputs": [
    {
     "name": "stdout",
     "output_type": "stream",
     "text": [
      "              precision    recall  f1-score   support\n",
      "\n",
      "           0       0.98      0.60      0.74     10686\n",
      "           1       0.03      0.57      0.06       256\n",
      "\n",
      "    accuracy                           0.60     10942\n",
      "   macro avg       0.51      0.58      0.40     10942\n",
      "weighted avg       0.96      0.60      0.73     10942\n",
      "\n"
     ]
    }
   ],
   "source": [
    "print(classification_report(y_test,y_pred))"
   ]
  },
  {
   "cell_type": "code",
   "execution_count": 36,
   "id": "b33bc5b1",
   "metadata": {
    "execution": {
     "iopub.execute_input": "2023-01-28T10:07:14.567956Z",
     "iopub.status.busy": "2023-01-28T10:07:14.566718Z",
     "iopub.status.idle": "2023-01-28T10:07:14.583608Z",
     "shell.execute_reply": "2023-01-28T10:07:14.582482Z"
    },
    "papermill": {
     "duration": 0.035216,
     "end_time": "2023-01-28T10:07:14.585854",
     "exception": false,
     "start_time": "2023-01-28T10:07:14.550638",
     "status": "completed"
    },
    "tags": []
   },
   "outputs": [
    {
     "data": {
      "text/html": [
       "<div>\n",
       "<style scoped>\n",
       "    .dataframe tbody tr th:only-of-type {\n",
       "        vertical-align: middle;\n",
       "    }\n",
       "\n",
       "    .dataframe tbody tr th {\n",
       "        vertical-align: top;\n",
       "    }\n",
       "\n",
       "    .dataframe thead th {\n",
       "        text-align: right;\n",
       "    }\n",
       "</style>\n",
       "<table border=\"1\" class=\"dataframe\">\n",
       "  <thead>\n",
       "    <tr style=\"text-align: right;\">\n",
       "      <th></th>\n",
       "      <th>age</th>\n",
       "      <th>cancer</th>\n",
       "      <th>implant</th>\n",
       "      <th>laterality_L</th>\n",
       "      <th>view_AT</th>\n",
       "      <th>view_CC</th>\n",
       "      <th>view_LM</th>\n",
       "      <th>view_ML</th>\n",
       "      <th>view_MLO</th>\n",
       "    </tr>\n",
       "  </thead>\n",
       "  <tbody>\n",
       "    <tr>\n",
       "      <th>0</th>\n",
       "      <td>61.0</td>\n",
       "      <td>0</td>\n",
       "      <td>0</td>\n",
       "      <td>1</td>\n",
       "      <td>0</td>\n",
       "      <td>1</td>\n",
       "      <td>0</td>\n",
       "      <td>0</td>\n",
       "      <td>0</td>\n",
       "    </tr>\n",
       "    <tr>\n",
       "      <th>1</th>\n",
       "      <td>61.0</td>\n",
       "      <td>0</td>\n",
       "      <td>0</td>\n",
       "      <td>1</td>\n",
       "      <td>0</td>\n",
       "      <td>0</td>\n",
       "      <td>0</td>\n",
       "      <td>0</td>\n",
       "      <td>1</td>\n",
       "    </tr>\n",
       "    <tr>\n",
       "      <th>2</th>\n",
       "      <td>61.0</td>\n",
       "      <td>0</td>\n",
       "      <td>0</td>\n",
       "      <td>0</td>\n",
       "      <td>0</td>\n",
       "      <td>0</td>\n",
       "      <td>0</td>\n",
       "      <td>0</td>\n",
       "      <td>1</td>\n",
       "    </tr>\n",
       "    <tr>\n",
       "      <th>3</th>\n",
       "      <td>61.0</td>\n",
       "      <td>0</td>\n",
       "      <td>0</td>\n",
       "      <td>0</td>\n",
       "      <td>0</td>\n",
       "      <td>1</td>\n",
       "      <td>0</td>\n",
       "      <td>0</td>\n",
       "      <td>0</td>\n",
       "    </tr>\n",
       "    <tr>\n",
       "      <th>4</th>\n",
       "      <td>55.0</td>\n",
       "      <td>0</td>\n",
       "      <td>0</td>\n",
       "      <td>1</td>\n",
       "      <td>0</td>\n",
       "      <td>1</td>\n",
       "      <td>0</td>\n",
       "      <td>0</td>\n",
       "      <td>0</td>\n",
       "    </tr>\n",
       "    <tr>\n",
       "      <th>...</th>\n",
       "      <td>...</td>\n",
       "      <td>...</td>\n",
       "      <td>...</td>\n",
       "      <td>...</td>\n",
       "      <td>...</td>\n",
       "      <td>...</td>\n",
       "      <td>...</td>\n",
       "      <td>...</td>\n",
       "      <td>...</td>\n",
       "    </tr>\n",
       "    <tr>\n",
       "      <th>54701</th>\n",
       "      <td>43.0</td>\n",
       "      <td>0</td>\n",
       "      <td>0</td>\n",
       "      <td>0</td>\n",
       "      <td>0</td>\n",
       "      <td>0</td>\n",
       "      <td>0</td>\n",
       "      <td>0</td>\n",
       "      <td>1</td>\n",
       "    </tr>\n",
       "    <tr>\n",
       "      <th>54702</th>\n",
       "      <td>60.0</td>\n",
       "      <td>0</td>\n",
       "      <td>0</td>\n",
       "      <td>1</td>\n",
       "      <td>0</td>\n",
       "      <td>0</td>\n",
       "      <td>0</td>\n",
       "      <td>0</td>\n",
       "      <td>1</td>\n",
       "    </tr>\n",
       "    <tr>\n",
       "      <th>54703</th>\n",
       "      <td>60.0</td>\n",
       "      <td>0</td>\n",
       "      <td>0</td>\n",
       "      <td>1</td>\n",
       "      <td>0</td>\n",
       "      <td>1</td>\n",
       "      <td>0</td>\n",
       "      <td>0</td>\n",
       "      <td>0</td>\n",
       "    </tr>\n",
       "    <tr>\n",
       "      <th>54704</th>\n",
       "      <td>60.0</td>\n",
       "      <td>0</td>\n",
       "      <td>0</td>\n",
       "      <td>0</td>\n",
       "      <td>0</td>\n",
       "      <td>0</td>\n",
       "      <td>0</td>\n",
       "      <td>0</td>\n",
       "      <td>1</td>\n",
       "    </tr>\n",
       "    <tr>\n",
       "      <th>54705</th>\n",
       "      <td>60.0</td>\n",
       "      <td>0</td>\n",
       "      <td>0</td>\n",
       "      <td>0</td>\n",
       "      <td>0</td>\n",
       "      <td>1</td>\n",
       "      <td>0</td>\n",
       "      <td>0</td>\n",
       "      <td>0</td>\n",
       "    </tr>\n",
       "  </tbody>\n",
       "</table>\n",
       "<p>54706 rows × 9 columns</p>\n",
       "</div>"
      ],
      "text/plain": [
       "        age  cancer  implant  laterality_L  view_AT  view_CC  view_LM  \\\n",
       "0      61.0       0        0             1        0        1        0   \n",
       "1      61.0       0        0             1        0        0        0   \n",
       "2      61.0       0        0             0        0        0        0   \n",
       "3      61.0       0        0             0        0        1        0   \n",
       "4      55.0       0        0             1        0        1        0   \n",
       "...     ...     ...      ...           ...      ...      ...      ...   \n",
       "54701  43.0       0        0             0        0        0        0   \n",
       "54702  60.0       0        0             1        0        0        0   \n",
       "54703  60.0       0        0             1        0        1        0   \n",
       "54704  60.0       0        0             0        0        0        0   \n",
       "54705  60.0       0        0             0        0        1        0   \n",
       "\n",
       "       view_ML  view_MLO  \n",
       "0            0         0  \n",
       "1            0         1  \n",
       "2            0         1  \n",
       "3            0         0  \n",
       "4            0         0  \n",
       "...        ...       ...  \n",
       "54701        0         1  \n",
       "54702        0         1  \n",
       "54703        0         0  \n",
       "54704        0         1  \n",
       "54705        0         0  \n",
       "\n",
       "[54706 rows x 9 columns]"
      ]
     },
     "execution_count": 36,
     "metadata": {},
     "output_type": "execute_result"
    }
   ],
   "source": [
    "df5"
   ]
  },
  {
   "cell_type": "code",
   "execution_count": 37,
   "id": "871dc54f",
   "metadata": {
    "execution": {
     "iopub.execute_input": "2023-01-28T10:07:14.617919Z",
     "iopub.status.busy": "2023-01-28T10:07:14.616933Z",
     "iopub.status.idle": "2023-01-28T10:07:14.629043Z",
     "shell.execute_reply": "2023-01-28T10:07:14.627866Z"
    },
    "papermill": {
     "duration": 0.030509,
     "end_time": "2023-01-28T10:07:14.631255",
     "exception": false,
     "start_time": "2023-01-28T10:07:14.600746",
     "status": "completed"
    },
    "tags": []
   },
   "outputs": [
    {
     "data": {
      "text/html": [
       "<div>\n",
       "<style scoped>\n",
       "    .dataframe tbody tr th:only-of-type {\n",
       "        vertical-align: middle;\n",
       "    }\n",
       "\n",
       "    .dataframe tbody tr th {\n",
       "        vertical-align: top;\n",
       "    }\n",
       "\n",
       "    .dataframe thead th {\n",
       "        text-align: right;\n",
       "    }\n",
       "</style>\n",
       "<table border=\"1\" class=\"dataframe\">\n",
       "  <thead>\n",
       "    <tr style=\"text-align: right;\">\n",
       "      <th></th>\n",
       "      <th>laterality</th>\n",
       "      <th>view</th>\n",
       "      <th>age</th>\n",
       "      <th>implant</th>\n",
       "    </tr>\n",
       "  </thead>\n",
       "  <tbody>\n",
       "    <tr>\n",
       "      <th>0</th>\n",
       "      <td>L</td>\n",
       "      <td>MLO</td>\n",
       "      <td>81</td>\n",
       "      <td>0</td>\n",
       "    </tr>\n",
       "    <tr>\n",
       "      <th>1</th>\n",
       "      <td>L</td>\n",
       "      <td>CC</td>\n",
       "      <td>81</td>\n",
       "      <td>0</td>\n",
       "    </tr>\n",
       "    <tr>\n",
       "      <th>2</th>\n",
       "      <td>R</td>\n",
       "      <td>MLO</td>\n",
       "      <td>81</td>\n",
       "      <td>0</td>\n",
       "    </tr>\n",
       "    <tr>\n",
       "      <th>3</th>\n",
       "      <td>R</td>\n",
       "      <td>CC</td>\n",
       "      <td>81</td>\n",
       "      <td>0</td>\n",
       "    </tr>\n",
       "  </tbody>\n",
       "</table>\n",
       "</div>"
      ],
      "text/plain": [
       "  laterality view  age  implant\n",
       "0          L  MLO   81        0\n",
       "1          L   CC   81        0\n",
       "2          R  MLO   81        0\n",
       "3          R   CC   81        0"
      ]
     },
     "execution_count": 37,
     "metadata": {},
     "output_type": "execute_result"
    }
   ],
   "source": [
    "df_test_new=df_test.drop(['site_id','patient_id','image_id','machine_id','prediction_id'],axis=1)\n",
    "df_test_new"
   ]
  },
  {
   "cell_type": "code",
   "execution_count": 38,
   "id": "c963c38a",
   "metadata": {
    "execution": {
     "iopub.execute_input": "2023-01-28T10:07:14.665232Z",
     "iopub.status.busy": "2023-01-28T10:07:14.664827Z",
     "iopub.status.idle": "2023-01-28T10:07:14.676004Z",
     "shell.execute_reply": "2023-01-28T10:07:14.674860Z"
    },
    "papermill": {
     "duration": 0.030247,
     "end_time": "2023-01-28T10:07:14.678281",
     "exception": false,
     "start_time": "2023-01-28T10:07:14.648034",
     "status": "completed"
    },
    "tags": []
   },
   "outputs": [
    {
     "data": {
      "text/plain": [
       "MLO    27903\n",
       "CC     26765\n",
       "AT        19\n",
       "LM        10\n",
       "ML         8\n",
       "LMO        1\n",
       "Name: view, dtype: int64"
      ]
     },
     "execution_count": 38,
     "metadata": {},
     "output_type": "execute_result"
    }
   ],
   "source": [
    "df.view.value_counts()"
   ]
  },
  {
   "cell_type": "code",
   "execution_count": 39,
   "id": "f24ec193",
   "metadata": {
    "execution": {
     "iopub.execute_input": "2023-01-28T10:07:14.711339Z",
     "iopub.status.busy": "2023-01-28T10:07:14.710256Z",
     "iopub.status.idle": "2023-01-28T10:07:14.725342Z",
     "shell.execute_reply": "2023-01-28T10:07:14.724230Z"
    },
    "papermill": {
     "duration": 0.033945,
     "end_time": "2023-01-28T10:07:14.727682",
     "exception": false,
     "start_time": "2023-01-28T10:07:14.693737",
     "status": "completed"
    },
    "tags": []
   },
   "outputs": [
    {
     "data": {
      "text/html": [
       "<div>\n",
       "<style scoped>\n",
       "    .dataframe tbody tr th:only-of-type {\n",
       "        vertical-align: middle;\n",
       "    }\n",
       "\n",
       "    .dataframe tbody tr th {\n",
       "        vertical-align: top;\n",
       "    }\n",
       "\n",
       "    .dataframe thead th {\n",
       "        text-align: right;\n",
       "    }\n",
       "</style>\n",
       "<table border=\"1\" class=\"dataframe\">\n",
       "  <thead>\n",
       "    <tr style=\"text-align: right;\">\n",
       "      <th></th>\n",
       "      <th>age</th>\n",
       "      <th>implant</th>\n",
       "      <th>laterality_L</th>\n",
       "      <th>view_AT</th>\n",
       "      <th>view_CC</th>\n",
       "      <th>view_LM</th>\n",
       "      <th>view_ML</th>\n",
       "      <th>view_MLO</th>\n",
       "    </tr>\n",
       "  </thead>\n",
       "  <tbody>\n",
       "    <tr>\n",
       "      <th>0</th>\n",
       "      <td>77.000000</td>\n",
       "      <td>0</td>\n",
       "      <td>1</td>\n",
       "      <td>0</td>\n",
       "      <td>0</td>\n",
       "      <td>0</td>\n",
       "      <td>0</td>\n",
       "      <td>1</td>\n",
       "    </tr>\n",
       "    <tr>\n",
       "      <th>1</th>\n",
       "      <td>68.000000</td>\n",
       "      <td>0</td>\n",
       "      <td>1</td>\n",
       "      <td>0</td>\n",
       "      <td>1</td>\n",
       "      <td>0</td>\n",
       "      <td>0</td>\n",
       "      <td>0</td>\n",
       "    </tr>\n",
       "    <tr>\n",
       "      <th>2</th>\n",
       "      <td>64.000000</td>\n",
       "      <td>0</td>\n",
       "      <td>1</td>\n",
       "      <td>0</td>\n",
       "      <td>1</td>\n",
       "      <td>0</td>\n",
       "      <td>0</td>\n",
       "      <td>0</td>\n",
       "    </tr>\n",
       "    <tr>\n",
       "      <th>3</th>\n",
       "      <td>44.000000</td>\n",
       "      <td>0</td>\n",
       "      <td>0</td>\n",
       "      <td>0</td>\n",
       "      <td>1</td>\n",
       "      <td>0</td>\n",
       "      <td>0</td>\n",
       "      <td>0</td>\n",
       "    </tr>\n",
       "    <tr>\n",
       "      <th>4</th>\n",
       "      <td>61.000000</td>\n",
       "      <td>0</td>\n",
       "      <td>1</td>\n",
       "      <td>0</td>\n",
       "      <td>1</td>\n",
       "      <td>0</td>\n",
       "      <td>0</td>\n",
       "      <td>0</td>\n",
       "    </tr>\n",
       "    <tr>\n",
       "      <th>...</th>\n",
       "      <td>...</td>\n",
       "      <td>...</td>\n",
       "      <td>...</td>\n",
       "      <td>...</td>\n",
       "      <td>...</td>\n",
       "      <td>...</td>\n",
       "      <td>...</td>\n",
       "      <td>...</td>\n",
       "    </tr>\n",
       "    <tr>\n",
       "      <th>85719</th>\n",
       "      <td>65.000000</td>\n",
       "      <td>0</td>\n",
       "      <td>0</td>\n",
       "      <td>0</td>\n",
       "      <td>1</td>\n",
       "      <td>0</td>\n",
       "      <td>0</td>\n",
       "      <td>0</td>\n",
       "    </tr>\n",
       "    <tr>\n",
       "      <th>85720</th>\n",
       "      <td>71.000000</td>\n",
       "      <td>0</td>\n",
       "      <td>1</td>\n",
       "      <td>0</td>\n",
       "      <td>0</td>\n",
       "      <td>0</td>\n",
       "      <td>0</td>\n",
       "      <td>1</td>\n",
       "    </tr>\n",
       "    <tr>\n",
       "      <th>85721</th>\n",
       "      <td>40.667768</td>\n",
       "      <td>0</td>\n",
       "      <td>0</td>\n",
       "      <td>0</td>\n",
       "      <td>1</td>\n",
       "      <td>0</td>\n",
       "      <td>0</td>\n",
       "      <td>0</td>\n",
       "    </tr>\n",
       "    <tr>\n",
       "      <th>85722</th>\n",
       "      <td>53.000000</td>\n",
       "      <td>0</td>\n",
       "      <td>1</td>\n",
       "      <td>0</td>\n",
       "      <td>0</td>\n",
       "      <td>0</td>\n",
       "      <td>0</td>\n",
       "      <td>1</td>\n",
       "    </tr>\n",
       "    <tr>\n",
       "      <th>85723</th>\n",
       "      <td>70.000000</td>\n",
       "      <td>0</td>\n",
       "      <td>1</td>\n",
       "      <td>0</td>\n",
       "      <td>1</td>\n",
       "      <td>0</td>\n",
       "      <td>0</td>\n",
       "      <td>0</td>\n",
       "    </tr>\n",
       "  </tbody>\n",
       "</table>\n",
       "<p>85724 rows × 8 columns</p>\n",
       "</div>"
      ],
      "text/plain": [
       "             age  implant  laterality_L  view_AT  view_CC  view_LM  view_ML  \\\n",
       "0      77.000000        0             1        0        0        0        0   \n",
       "1      68.000000        0             1        0        1        0        0   \n",
       "2      64.000000        0             1        0        1        0        0   \n",
       "3      44.000000        0             0        0        1        0        0   \n",
       "4      61.000000        0             1        0        1        0        0   \n",
       "...          ...      ...           ...      ...      ...      ...      ...   \n",
       "85719  65.000000        0             0        0        1        0        0   \n",
       "85720  71.000000        0             1        0        0        0        0   \n",
       "85721  40.667768        0             0        0        1        0        0   \n",
       "85722  53.000000        0             1        0        0        0        0   \n",
       "85723  70.000000        0             1        0        1        0        0   \n",
       "\n",
       "       view_MLO  \n",
       "0             1  \n",
       "1             0  \n",
       "2             0  \n",
       "3             0  \n",
       "4             0  \n",
       "...         ...  \n",
       "85719         0  \n",
       "85720         1  \n",
       "85721         0  \n",
       "85722         1  \n",
       "85723         0  \n",
       "\n",
       "[85724 rows x 8 columns]"
      ]
     },
     "execution_count": 39,
     "metadata": {},
     "output_type": "execute_result"
    }
   ],
   "source": [
    "X_train"
   ]
  },
  {
   "cell_type": "code",
   "execution_count": 40,
   "id": "7dd2e2a2",
   "metadata": {
    "execution": {
     "iopub.execute_input": "2023-01-28T10:07:14.762268Z",
     "iopub.status.busy": "2023-01-28T10:07:14.761183Z",
     "iopub.status.idle": "2023-01-28T10:07:14.785577Z",
     "shell.execute_reply": "2023-01-28T10:07:14.784501Z"
    },
    "papermill": {
     "duration": 0.044194,
     "end_time": "2023-01-28T10:07:14.788223",
     "exception": false,
     "start_time": "2023-01-28T10:07:14.744029",
     "status": "completed"
    },
    "tags": []
   },
   "outputs": [
    {
     "data": {
      "text/html": [
       "<div>\n",
       "<style scoped>\n",
       "    .dataframe tbody tr th:only-of-type {\n",
       "        vertical-align: middle;\n",
       "    }\n",
       "\n",
       "    .dataframe tbody tr th {\n",
       "        vertical-align: top;\n",
       "    }\n",
       "\n",
       "    .dataframe thead th {\n",
       "        text-align: right;\n",
       "    }\n",
       "</style>\n",
       "<table border=\"1\" class=\"dataframe\">\n",
       "  <thead>\n",
       "    <tr style=\"text-align: right;\">\n",
       "      <th></th>\n",
       "      <th>age</th>\n",
       "      <th>implant</th>\n",
       "      <th>laterality_L</th>\n",
       "      <th>view_AT</th>\n",
       "      <th>view_CC</th>\n",
       "      <th>view_LM</th>\n",
       "      <th>view_ML</th>\n",
       "      <th>view_MLO</th>\n",
       "    </tr>\n",
       "  </thead>\n",
       "  <tbody>\n",
       "    <tr>\n",
       "      <th>0</th>\n",
       "      <td>81</td>\n",
       "      <td>0</td>\n",
       "      <td>1</td>\n",
       "      <td>0.0</td>\n",
       "      <td>0</td>\n",
       "      <td>0.0</td>\n",
       "      <td>0.0</td>\n",
       "      <td>1</td>\n",
       "    </tr>\n",
       "    <tr>\n",
       "      <th>1</th>\n",
       "      <td>81</td>\n",
       "      <td>0</td>\n",
       "      <td>1</td>\n",
       "      <td>0.0</td>\n",
       "      <td>1</td>\n",
       "      <td>0.0</td>\n",
       "      <td>0.0</td>\n",
       "      <td>0</td>\n",
       "    </tr>\n",
       "    <tr>\n",
       "      <th>2</th>\n",
       "      <td>81</td>\n",
       "      <td>0</td>\n",
       "      <td>0</td>\n",
       "      <td>0.0</td>\n",
       "      <td>0</td>\n",
       "      <td>0.0</td>\n",
       "      <td>0.0</td>\n",
       "      <td>1</td>\n",
       "    </tr>\n",
       "    <tr>\n",
       "      <th>3</th>\n",
       "      <td>81</td>\n",
       "      <td>0</td>\n",
       "      <td>0</td>\n",
       "      <td>0.0</td>\n",
       "      <td>1</td>\n",
       "      <td>0.0</td>\n",
       "      <td>0.0</td>\n",
       "      <td>0</td>\n",
       "    </tr>\n",
       "  </tbody>\n",
       "</table>\n",
       "</div>"
      ],
      "text/plain": [
       "   age  implant  laterality_L  view_AT  view_CC  view_LM  view_ML  view_MLO\n",
       "0   81        0             1      0.0        0      0.0      0.0         1\n",
       "1   81        0             1      0.0        1      0.0      0.0         0\n",
       "2   81        0             0      0.0        0      0.0      0.0         1\n",
       "3   81        0             0      0.0        1      0.0      0.0         0"
      ]
     },
     "execution_count": 40,
     "metadata": {},
     "output_type": "execute_result"
    }
   ],
   "source": [
    "df_test_new1=pd.get_dummies(df_test_new[['laterality','view']])\n",
    "df_test_new2=df_test_new1.drop(['laterality_R'],axis=1)\n",
    "df_test_new=pd.concat([df_test_new,df_test_new2],axis=1).drop(['laterality','view'],axis=1)\n",
    "df_test_new['view_AT']=np.zeros(4)\n",
    "df_test_new['view_ML']=np.zeros(4)\n",
    "df_test_new['view_LM']=np.zeros(4)\n",
    "df_test_new=df_test_new.iloc[:,[0,1,2,5,3,7,6,4]]\n",
    "df_test_new"
   ]
  },
  {
   "cell_type": "code",
   "execution_count": 41,
   "id": "d62beeb6",
   "metadata": {
    "execution": {
     "iopub.execute_input": "2023-01-28T10:07:14.821818Z",
     "iopub.status.busy": "2023-01-28T10:07:14.821376Z",
     "iopub.status.idle": "2023-01-28T10:07:14.825991Z",
     "shell.execute_reply": "2023-01-28T10:07:14.824896Z"
    },
    "papermill": {
     "duration": 0.023677,
     "end_time": "2023-01-28T10:07:14.828094",
     "exception": false,
     "start_time": "2023-01-28T10:07:14.804417",
     "status": "completed"
    },
    "tags": []
   },
   "outputs": [],
   "source": [
    "#df_test_new[['age']]=scaler.fit_transform(df_test_new[['age']])\n",
    "#df_test_new"
   ]
  },
  {
   "cell_type": "code",
   "execution_count": 42,
   "id": "c2bfe673",
   "metadata": {
    "execution": {
     "iopub.execute_input": "2023-01-28T10:07:14.862182Z",
     "iopub.status.busy": "2023-01-28T10:07:14.861172Z",
     "iopub.status.idle": "2023-01-28T10:07:14.868223Z",
     "shell.execute_reply": "2023-01-28T10:07:14.867434Z"
    },
    "papermill": {
     "duration": 0.026449,
     "end_time": "2023-01-28T10:07:14.870389",
     "exception": false,
     "start_time": "2023-01-28T10:07:14.843940",
     "status": "completed"
    },
    "tags": []
   },
   "outputs": [],
   "source": [
    "#y_ans=model.predict(df_test_new)\n",
    "y_ans=model.predict_proba(df_test_new)[:,[1]]"
   ]
  },
  {
   "cell_type": "code",
   "execution_count": 43,
   "id": "f929a528",
   "metadata": {
    "execution": {
     "iopub.execute_input": "2023-01-28T10:07:14.904995Z",
     "iopub.status.busy": "2023-01-28T10:07:14.904322Z",
     "iopub.status.idle": "2023-01-28T10:07:14.910805Z",
     "shell.execute_reply": "2023-01-28T10:07:14.909999Z"
    },
    "papermill": {
     "duration": 0.025999,
     "end_time": "2023-01-28T10:07:14.912858",
     "exception": false,
     "start_time": "2023-01-28T10:07:14.886859",
     "status": "completed"
    },
    "tags": []
   },
   "outputs": [
    {
     "data": {
      "text/plain": [
       "array([0.73549412, 0.73589411, 0.75726711, 0.75764502])"
      ]
     },
     "execution_count": 43,
     "metadata": {},
     "output_type": "execute_result"
    }
   ],
   "source": [
    "y_ans=y_ans.reshape(4)\n",
    "y_ans"
   ]
  },
  {
   "cell_type": "code",
   "execution_count": 44,
   "id": "45525ffa",
   "metadata": {
    "execution": {
     "iopub.execute_input": "2023-01-28T10:07:14.946922Z",
     "iopub.status.busy": "2023-01-28T10:07:14.945965Z",
     "iopub.status.idle": "2023-01-28T10:07:14.954902Z",
     "shell.execute_reply": "2023-01-28T10:07:14.954054Z"
    },
    "papermill": {
     "duration": 0.028336,
     "end_time": "2023-01-28T10:07:14.957210",
     "exception": false,
     "start_time": "2023-01-28T10:07:14.928874",
     "status": "completed"
    },
    "tags": []
   },
   "outputs": [],
   "source": [
    "dcsv={'PassengerId':df_test['prediction_id'],'cancer':y_ans}\n",
    "dfcsv=pd.DataFrame(dcsv)\n",
    "dfcsv.to_csv('submission.csv',index=False)"
   ]
  },
  {
   "cell_type": "code",
   "execution_count": null,
   "id": "746f7ccc",
   "metadata": {
    "papermill": {
     "duration": 0.016048,
     "end_time": "2023-01-28T10:07:14.990082",
     "exception": false,
     "start_time": "2023-01-28T10:07:14.974034",
     "status": "completed"
    },
    "tags": []
   },
   "outputs": [],
   "source": []
  }
 ],
 "metadata": {
  "kernelspec": {
   "display_name": "Python 3",
   "language": "python",
   "name": "python3"
  },
  "language_info": {
   "codemirror_mode": {
    "name": "ipython",
    "version": 3
   },
   "file_extension": ".py",
   "mimetype": "text/x-python",
   "name": "python",
   "nbconvert_exporter": "python",
   "pygments_lexer": "ipython3",
   "version": "3.7.12"
  },
  "papermill": {
   "default_parameters": {},
   "duration": 14.748221,
   "end_time": "2023-01-28T10:07:15.728392",
   "environment_variables": {},
   "exception": null,
   "input_path": "__notebook__.ipynb",
   "output_path": "__notebook__.ipynb",
   "parameters": {},
   "start_time": "2023-01-28T10:07:00.980171",
   "version": "2.3.4"
  }
 },
 "nbformat": 4,
 "nbformat_minor": 5
}
