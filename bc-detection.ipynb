{
 "cells": [
  {
   "cell_type": "code",
   "execution_count": 1,
   "id": "30c44ba0",
   "metadata": {
    "_cell_guid": "b1076dfc-b9ad-4769-8c92-a6c4dae69d19",
    "_uuid": "8f2839f25d086af736a60e9eeb907d3b93b6e0e5",
    "execution": {
     "iopub.execute_input": "2023-01-28T10:30:53.513267Z",
     "iopub.status.busy": "2023-01-28T10:30:53.512773Z",
     "iopub.status.idle": "2023-01-28T10:30:54.679037Z",
     "shell.execute_reply": "2023-01-28T10:30:54.677994Z"
    },
    "papermill": {
     "duration": 1.184975,
     "end_time": "2023-01-28T10:30:54.681916",
     "exception": false,
     "start_time": "2023-01-28T10:30:53.496941",
     "status": "completed"
    },
    "tags": []
   },
   "outputs": [],
   "source": [
    "# This Python 3 environment comes with many helpful analytics libraries installed\n",
    "# It is defined by the kaggle/python Docker image: https://github.com/kaggle/docker-python\n",
    "# For example, here's several helpful packages to load\n",
    "\n",
    "import warnings\n",
    "import numpy as np # linear algebra\n",
    "import pandas as pd # data processing, CSV file I/O (e.g. pd.read_csv)\n",
    "import seaborn as sns\n",
    "import matplotlib.pyplot as plt\n",
    "# Input data files are available in the read-only \"../input/\" directory\n",
    "# For example, running this (by clicking run or pressing Shift+Enter) will list all files under the input directory\n",
    "\n",
    "import os\n",
    "#for dirname, _, filenames in os.walk('/kaggle/input'):\n",
    "#    for filename in filenames:\n",
    "#        print(os.path.join(dirname, filename))\n",
    "\n",
    "# You can write up to 20GB to the current directory (/kaggle/working/) that gets preserved as output when you create a version using \"Save & Run All\" \n",
    "# You can also write temporary files to /kaggle/temp/, but they won't be saved outside of the current session"
   ]
  },
  {
   "cell_type": "code",
   "execution_count": 2,
   "id": "ecc53aba",
   "metadata": {
    "execution": {
     "iopub.execute_input": "2023-01-28T10:30:54.709308Z",
     "iopub.status.busy": "2023-01-28T10:30:54.708596Z",
     "iopub.status.idle": "2023-01-28T10:30:54.717866Z",
     "shell.execute_reply": "2023-01-28T10:30:54.716634Z"
    },
    "papermill": {
     "duration": 0.026854,
     "end_time": "2023-01-28T10:30:54.720435",
     "exception": false,
     "start_time": "2023-01-28T10:30:54.693581",
     "status": "completed"
    },
    "tags": []
   },
   "outputs": [
    {
     "data": {
      "text/plain": [
       "'\\n!conda install -c conda-forge pillow -y\\n!conda install -c conda-forge pydicom -y\\n!conda install -c conda-forge gdcm -y\\n!pip install pylibjpeg pylibjpeg-libjpeg\\n'"
      ]
     },
     "execution_count": 2,
     "metadata": {},
     "output_type": "execute_result"
    }
   ],
   "source": [
    "'''\n",
    "!conda install -c conda-forge pillow -y\n",
    "!conda install -c conda-forge pydicom -y\n",
    "!conda install -c conda-forge gdcm -y\n",
    "!pip install pylibjpeg pylibjpeg-libjpeg\n",
    "'''"
   ]
  },
  {
   "cell_type": "code",
   "execution_count": 3,
   "id": "ea2bac07",
   "metadata": {
    "execution": {
     "iopub.execute_input": "2023-01-28T10:30:54.745790Z",
     "iopub.status.busy": "2023-01-28T10:30:54.745343Z",
     "iopub.status.idle": "2023-01-28T10:30:54.913313Z",
     "shell.execute_reply": "2023-01-28T10:30:54.911901Z"
    },
    "papermill": {
     "duration": 0.18399,
     "end_time": "2023-01-28T10:30:54.916287",
     "exception": false,
     "start_time": "2023-01-28T10:30:54.732297",
     "status": "completed"
    },
    "tags": []
   },
   "outputs": [],
   "source": [
    "df=pd.read_csv('/kaggle/input/rsna-breast-cancer-detection/train.csv')\n",
    "df_test=pd.read_csv('/kaggle/input/rsna-breast-cancer-detection/test.csv')"
   ]
  },
  {
   "cell_type": "code",
   "execution_count": 4,
   "id": "bd2fb548",
   "metadata": {
    "execution": {
     "iopub.execute_input": "2023-01-28T10:30:54.941131Z",
     "iopub.status.busy": "2023-01-28T10:30:54.940669Z",
     "iopub.status.idle": "2023-01-28T10:30:54.948272Z",
     "shell.execute_reply": "2023-01-28T10:30:54.947031Z"
    },
    "papermill": {
     "duration": 0.023604,
     "end_time": "2023-01-28T10:30:54.951064",
     "exception": false,
     "start_time": "2023-01-28T10:30:54.927460",
     "status": "completed"
    },
    "tags": []
   },
   "outputs": [
    {
     "data": {
      "text/plain": [
       "'\\nimport pydicom\\nimport matplotlib.pylab as plt\\n\\n# specify your image path\\nimage_path = \"/kaggle/input/rsna-breast-cancer-detection/train_images/10130/1672636630.dcm\"\\nds = pydicom.dcmread(image_path)\\n\\nplt.imshow(ds.pixel_array)\\nds.pixel_array.shape\\n'"
      ]
     },
     "execution_count": 4,
     "metadata": {},
     "output_type": "execute_result"
    }
   ],
   "source": [
    "'''\n",
    "import pydicom\n",
    "import matplotlib.pylab as plt\n",
    "\n",
    "# specify your image path\n",
    "image_path = \"/kaggle/input/rsna-breast-cancer-detection/train_images/10130/1672636630.dcm\"\n",
    "ds = pydicom.dcmread(image_path)\n",
    "\n",
    "plt.imshow(ds.pixel_array)\n",
    "ds.pixel_array.shape\n",
    "'''"
   ]
  },
  {
   "cell_type": "code",
   "execution_count": 5,
   "id": "d31a2147",
   "metadata": {
    "execution": {
     "iopub.execute_input": "2023-01-28T10:30:54.976149Z",
     "iopub.status.busy": "2023-01-28T10:30:54.975201Z",
     "iopub.status.idle": "2023-01-28T10:30:55.014394Z",
     "shell.execute_reply": "2023-01-28T10:30:55.012921Z"
    },
    "papermill": {
     "duration": 0.054625,
     "end_time": "2023-01-28T10:30:55.017118",
     "exception": false,
     "start_time": "2023-01-28T10:30:54.962493",
     "status": "completed"
    },
    "tags": []
   },
   "outputs": [
    {
     "data": {
      "text/html": [
       "<div>\n",
       "<style scoped>\n",
       "    .dataframe tbody tr th:only-of-type {\n",
       "        vertical-align: middle;\n",
       "    }\n",
       "\n",
       "    .dataframe tbody tr th {\n",
       "        vertical-align: top;\n",
       "    }\n",
       "\n",
       "    .dataframe thead th {\n",
       "        text-align: right;\n",
       "    }\n",
       "</style>\n",
       "<table border=\"1\" class=\"dataframe\">\n",
       "  <thead>\n",
       "    <tr style=\"text-align: right;\">\n",
       "      <th></th>\n",
       "      <th>site_id</th>\n",
       "      <th>patient_id</th>\n",
       "      <th>image_id</th>\n",
       "      <th>laterality</th>\n",
       "      <th>view</th>\n",
       "      <th>age</th>\n",
       "      <th>cancer</th>\n",
       "      <th>biopsy</th>\n",
       "      <th>invasive</th>\n",
       "      <th>BIRADS</th>\n",
       "      <th>implant</th>\n",
       "      <th>density</th>\n",
       "      <th>machine_id</th>\n",
       "      <th>difficult_negative_case</th>\n",
       "    </tr>\n",
       "  </thead>\n",
       "  <tbody>\n",
       "    <tr>\n",
       "      <th>87</th>\n",
       "      <td>1</td>\n",
       "      <td>10130</td>\n",
       "      <td>388811999</td>\n",
       "      <td>L</td>\n",
       "      <td>MLO</td>\n",
       "      <td>71.0</td>\n",
       "      <td>1</td>\n",
       "      <td>1</td>\n",
       "      <td>1</td>\n",
       "      <td>0.0</td>\n",
       "      <td>0</td>\n",
       "      <td>B</td>\n",
       "      <td>49</td>\n",
       "      <td>False</td>\n",
       "    </tr>\n",
       "    <tr>\n",
       "      <th>88</th>\n",
       "      <td>1</td>\n",
       "      <td>10130</td>\n",
       "      <td>613462606</td>\n",
       "      <td>L</td>\n",
       "      <td>CC</td>\n",
       "      <td>71.0</td>\n",
       "      <td>1</td>\n",
       "      <td>1</td>\n",
       "      <td>1</td>\n",
       "      <td>0.0</td>\n",
       "      <td>0</td>\n",
       "      <td>B</td>\n",
       "      <td>49</td>\n",
       "      <td>False</td>\n",
       "    </tr>\n",
       "    <tr>\n",
       "      <th>89</th>\n",
       "      <td>1</td>\n",
       "      <td>10130</td>\n",
       "      <td>1360338805</td>\n",
       "      <td>L</td>\n",
       "      <td>CC</td>\n",
       "      <td>71.0</td>\n",
       "      <td>1</td>\n",
       "      <td>1</td>\n",
       "      <td>1</td>\n",
       "      <td>0.0</td>\n",
       "      <td>0</td>\n",
       "      <td>B</td>\n",
       "      <td>49</td>\n",
       "      <td>False</td>\n",
       "    </tr>\n",
       "    <tr>\n",
       "      <th>90</th>\n",
       "      <td>1</td>\n",
       "      <td>10130</td>\n",
       "      <td>1672636630</td>\n",
       "      <td>L</td>\n",
       "      <td>MLO</td>\n",
       "      <td>71.0</td>\n",
       "      <td>1</td>\n",
       "      <td>1</td>\n",
       "      <td>1</td>\n",
       "      <td>0.0</td>\n",
       "      <td>0</td>\n",
       "      <td>B</td>\n",
       "      <td>49</td>\n",
       "      <td>False</td>\n",
       "    </tr>\n",
       "    <tr>\n",
       "      <th>190</th>\n",
       "      <td>1</td>\n",
       "      <td>10226</td>\n",
       "      <td>461614796</td>\n",
       "      <td>L</td>\n",
       "      <td>MLO</td>\n",
       "      <td>71.0</td>\n",
       "      <td>1</td>\n",
       "      <td>1</td>\n",
       "      <td>1</td>\n",
       "      <td>0.0</td>\n",
       "      <td>0</td>\n",
       "      <td>C</td>\n",
       "      <td>49</td>\n",
       "      <td>False</td>\n",
       "    </tr>\n",
       "    <tr>\n",
       "      <th>...</th>\n",
       "      <td>...</td>\n",
       "      <td>...</td>\n",
       "      <td>...</td>\n",
       "      <td>...</td>\n",
       "      <td>...</td>\n",
       "      <td>...</td>\n",
       "      <td>...</td>\n",
       "      <td>...</td>\n",
       "      <td>...</td>\n",
       "      <td>...</td>\n",
       "      <td>...</td>\n",
       "      <td>...</td>\n",
       "      <td>...</td>\n",
       "      <td>...</td>\n",
       "    </tr>\n",
       "    <tr>\n",
       "      <th>54485</th>\n",
       "      <td>2</td>\n",
       "      <td>9707</td>\n",
       "      <td>1900919592</td>\n",
       "      <td>R</td>\n",
       "      <td>MLO</td>\n",
       "      <td>56.0</td>\n",
       "      <td>1</td>\n",
       "      <td>1</td>\n",
       "      <td>1</td>\n",
       "      <td>NaN</td>\n",
       "      <td>0</td>\n",
       "      <td>NaN</td>\n",
       "      <td>21</td>\n",
       "      <td>False</td>\n",
       "    </tr>\n",
       "    <tr>\n",
       "      <th>54593</th>\n",
       "      <td>2</td>\n",
       "      <td>9840</td>\n",
       "      <td>111786935</td>\n",
       "      <td>R</td>\n",
       "      <td>MLO</td>\n",
       "      <td>59.0</td>\n",
       "      <td>1</td>\n",
       "      <td>1</td>\n",
       "      <td>1</td>\n",
       "      <td>NaN</td>\n",
       "      <td>0</td>\n",
       "      <td>NaN</td>\n",
       "      <td>21</td>\n",
       "      <td>False</td>\n",
       "    </tr>\n",
       "    <tr>\n",
       "      <th>54594</th>\n",
       "      <td>2</td>\n",
       "      <td>9840</td>\n",
       "      <td>1559360810</td>\n",
       "      <td>R</td>\n",
       "      <td>CC</td>\n",
       "      <td>59.0</td>\n",
       "      <td>1</td>\n",
       "      <td>1</td>\n",
       "      <td>1</td>\n",
       "      <td>NaN</td>\n",
       "      <td>0</td>\n",
       "      <td>NaN</td>\n",
       "      <td>21</td>\n",
       "      <td>False</td>\n",
       "    </tr>\n",
       "    <tr>\n",
       "      <th>54595</th>\n",
       "      <td>2</td>\n",
       "      <td>9851</td>\n",
       "      <td>1409270544</td>\n",
       "      <td>L</td>\n",
       "      <td>MLO</td>\n",
       "      <td>58.0</td>\n",
       "      <td>1</td>\n",
       "      <td>1</td>\n",
       "      <td>0</td>\n",
       "      <td>NaN</td>\n",
       "      <td>0</td>\n",
       "      <td>NaN</td>\n",
       "      <td>48</td>\n",
       "      <td>False</td>\n",
       "    </tr>\n",
       "    <tr>\n",
       "      <th>54596</th>\n",
       "      <td>2</td>\n",
       "      <td>9851</td>\n",
       "      <td>1434430689</td>\n",
       "      <td>L</td>\n",
       "      <td>CC</td>\n",
       "      <td>58.0</td>\n",
       "      <td>1</td>\n",
       "      <td>1</td>\n",
       "      <td>0</td>\n",
       "      <td>NaN</td>\n",
       "      <td>0</td>\n",
       "      <td>NaN</td>\n",
       "      <td>48</td>\n",
       "      <td>False</td>\n",
       "    </tr>\n",
       "  </tbody>\n",
       "</table>\n",
       "<p>1158 rows × 14 columns</p>\n",
       "</div>"
      ],
      "text/plain": [
       "       site_id  patient_id    image_id laterality view   age  cancer  biopsy  \\\n",
       "87           1       10130   388811999          L  MLO  71.0       1       1   \n",
       "88           1       10130   613462606          L   CC  71.0       1       1   \n",
       "89           1       10130  1360338805          L   CC  71.0       1       1   \n",
       "90           1       10130  1672636630          L  MLO  71.0       1       1   \n",
       "190          1       10226   461614796          L  MLO  71.0       1       1   \n",
       "...        ...         ...         ...        ...  ...   ...     ...     ...   \n",
       "54485        2        9707  1900919592          R  MLO  56.0       1       1   \n",
       "54593        2        9840   111786935          R  MLO  59.0       1       1   \n",
       "54594        2        9840  1559360810          R   CC  59.0       1       1   \n",
       "54595        2        9851  1409270544          L  MLO  58.0       1       1   \n",
       "54596        2        9851  1434430689          L   CC  58.0       1       1   \n",
       "\n",
       "       invasive  BIRADS  implant density  machine_id  difficult_negative_case  \n",
       "87            1     0.0        0       B          49                    False  \n",
       "88            1     0.0        0       B          49                    False  \n",
       "89            1     0.0        0       B          49                    False  \n",
       "90            1     0.0        0       B          49                    False  \n",
       "190           1     0.0        0       C          49                    False  \n",
       "...         ...     ...      ...     ...         ...                      ...  \n",
       "54485         1     NaN        0     NaN          21                    False  \n",
       "54593         1     NaN        0     NaN          21                    False  \n",
       "54594         1     NaN        0     NaN          21                    False  \n",
       "54595         0     NaN        0     NaN          48                    False  \n",
       "54596         0     NaN        0     NaN          48                    False  \n",
       "\n",
       "[1158 rows x 14 columns]"
      ]
     },
     "execution_count": 5,
     "metadata": {},
     "output_type": "execute_result"
    }
   ],
   "source": [
    "#df[df.patient_id==10038]\n",
    "df[df.cancer==1]\n"
   ]
  },
  {
   "cell_type": "code",
   "execution_count": 6,
   "id": "1dbbf7f0",
   "metadata": {
    "execution": {
     "iopub.execute_input": "2023-01-28T10:30:55.042831Z",
     "iopub.status.busy": "2023-01-28T10:30:55.042131Z",
     "iopub.status.idle": "2023-01-28T10:30:55.057240Z",
     "shell.execute_reply": "2023-01-28T10:30:55.055994Z"
    },
    "papermill": {
     "duration": 0.030704,
     "end_time": "2023-01-28T10:30:55.059758",
     "exception": false,
     "start_time": "2023-01-28T10:30:55.029054",
     "status": "completed"
    },
    "tags": []
   },
   "outputs": [
    {
     "data": {
      "text/plain": [
       "MLO    27903\n",
       "CC     26765\n",
       "AT        19\n",
       "LM        10\n",
       "ML         8\n",
       "LMO        1\n",
       "Name: view, dtype: int64"
      ]
     },
     "execution_count": 6,
     "metadata": {},
     "output_type": "execute_result"
    }
   ],
   "source": [
    "df.view.value_counts()"
   ]
  },
  {
   "cell_type": "code",
   "execution_count": 7,
   "id": "3bab685b",
   "metadata": {
    "execution": {
     "iopub.execute_input": "2023-01-28T10:30:55.085753Z",
     "iopub.status.busy": "2023-01-28T10:30:55.084950Z",
     "iopub.status.idle": "2023-01-28T10:30:55.096362Z",
     "shell.execute_reply": "2023-01-28T10:30:55.095304Z"
    },
    "papermill": {
     "duration": 0.027275,
     "end_time": "2023-01-28T10:30:55.098886",
     "exception": false,
     "start_time": "2023-01-28T10:30:55.071611",
     "status": "completed"
    },
    "tags": []
   },
   "outputs": [
    {
     "data": {
      "text/plain": [
       "B    12651\n",
       "C    12175\n",
       "A     3105\n",
       "D     1539\n",
       "Name: density, dtype: int64"
      ]
     },
     "execution_count": 7,
     "metadata": {},
     "output_type": "execute_result"
    }
   ],
   "source": [
    "df.density.value_counts()"
   ]
  },
  {
   "cell_type": "code",
   "execution_count": 8,
   "id": "73207591",
   "metadata": {
    "execution": {
     "iopub.execute_input": "2023-01-28T10:30:55.125266Z",
     "iopub.status.busy": "2023-01-28T10:30:55.124440Z",
     "iopub.status.idle": "2023-01-28T10:30:55.138307Z",
     "shell.execute_reply": "2023-01-28T10:30:55.137067Z"
    },
    "papermill": {
     "duration": 0.03037,
     "end_time": "2023-01-28T10:30:55.141036",
     "exception": false,
     "start_time": "2023-01-28T10:30:55.110666",
     "status": "completed"
    },
    "tags": []
   },
   "outputs": [
    {
     "data": {
      "text/html": [
       "<div>\n",
       "<style scoped>\n",
       "    .dataframe tbody tr th:only-of-type {\n",
       "        vertical-align: middle;\n",
       "    }\n",
       "\n",
       "    .dataframe tbody tr th {\n",
       "        vertical-align: top;\n",
       "    }\n",
       "\n",
       "    .dataframe thead th {\n",
       "        text-align: right;\n",
       "    }\n",
       "</style>\n",
       "<table border=\"1\" class=\"dataframe\">\n",
       "  <thead>\n",
       "    <tr style=\"text-align: right;\">\n",
       "      <th></th>\n",
       "      <th>site_id</th>\n",
       "      <th>patient_id</th>\n",
       "      <th>image_id</th>\n",
       "      <th>laterality</th>\n",
       "      <th>view</th>\n",
       "      <th>age</th>\n",
       "      <th>implant</th>\n",
       "      <th>machine_id</th>\n",
       "      <th>prediction_id</th>\n",
       "    </tr>\n",
       "  </thead>\n",
       "  <tbody>\n",
       "    <tr>\n",
       "      <th>0</th>\n",
       "      <td>2</td>\n",
       "      <td>10008</td>\n",
       "      <td>736471439</td>\n",
       "      <td>L</td>\n",
       "      <td>MLO</td>\n",
       "      <td>81</td>\n",
       "      <td>0</td>\n",
       "      <td>21</td>\n",
       "      <td>10008_L</td>\n",
       "    </tr>\n",
       "    <tr>\n",
       "      <th>1</th>\n",
       "      <td>2</td>\n",
       "      <td>10008</td>\n",
       "      <td>1591370361</td>\n",
       "      <td>L</td>\n",
       "      <td>CC</td>\n",
       "      <td>81</td>\n",
       "      <td>0</td>\n",
       "      <td>21</td>\n",
       "      <td>10008_L</td>\n",
       "    </tr>\n",
       "    <tr>\n",
       "      <th>2</th>\n",
       "      <td>2</td>\n",
       "      <td>10008</td>\n",
       "      <td>68070693</td>\n",
       "      <td>R</td>\n",
       "      <td>MLO</td>\n",
       "      <td>81</td>\n",
       "      <td>0</td>\n",
       "      <td>21</td>\n",
       "      <td>10008_R</td>\n",
       "    </tr>\n",
       "    <tr>\n",
       "      <th>3</th>\n",
       "      <td>2</td>\n",
       "      <td>10008</td>\n",
       "      <td>361203119</td>\n",
       "      <td>R</td>\n",
       "      <td>CC</td>\n",
       "      <td>81</td>\n",
       "      <td>0</td>\n",
       "      <td>21</td>\n",
       "      <td>10008_R</td>\n",
       "    </tr>\n",
       "  </tbody>\n",
       "</table>\n",
       "</div>"
      ],
      "text/plain": [
       "   site_id  patient_id    image_id laterality view  age  implant  machine_id  \\\n",
       "0        2       10008   736471439          L  MLO   81        0          21   \n",
       "1        2       10008  1591370361          L   CC   81        0          21   \n",
       "2        2       10008    68070693          R  MLO   81        0          21   \n",
       "3        2       10008   361203119          R   CC   81        0          21   \n",
       "\n",
       "  prediction_id  \n",
       "0       10008_L  \n",
       "1       10008_L  \n",
       "2       10008_R  \n",
       "3       10008_R  "
      ]
     },
     "execution_count": 8,
     "metadata": {},
     "output_type": "execute_result"
    }
   ],
   "source": [
    "df_test"
   ]
  },
  {
   "cell_type": "code",
   "execution_count": 9,
   "id": "1e6984c5",
   "metadata": {
    "execution": {
     "iopub.execute_input": "2023-01-28T10:30:55.169561Z",
     "iopub.status.busy": "2023-01-28T10:30:55.168340Z",
     "iopub.status.idle": "2023-01-28T10:30:55.189455Z",
     "shell.execute_reply": "2023-01-28T10:30:55.188526Z"
    },
    "papermill": {
     "duration": 0.038296,
     "end_time": "2023-01-28T10:30:55.191895",
     "exception": false,
     "start_time": "2023-01-28T10:30:55.153599",
     "status": "completed"
    },
    "tags": []
   },
   "outputs": [
    {
     "data": {
      "text/html": [
       "<div>\n",
       "<style scoped>\n",
       "    .dataframe tbody tr th:only-of-type {\n",
       "        vertical-align: middle;\n",
       "    }\n",
       "\n",
       "    .dataframe tbody tr th {\n",
       "        vertical-align: top;\n",
       "    }\n",
       "\n",
       "    .dataframe thead th {\n",
       "        text-align: right;\n",
       "    }\n",
       "</style>\n",
       "<table border=\"1\" class=\"dataframe\">\n",
       "  <thead>\n",
       "    <tr style=\"text-align: right;\">\n",
       "      <th></th>\n",
       "      <th>laterality</th>\n",
       "      <th>view</th>\n",
       "      <th>age</th>\n",
       "      <th>cancer</th>\n",
       "      <th>implant</th>\n",
       "    </tr>\n",
       "  </thead>\n",
       "  <tbody>\n",
       "    <tr>\n",
       "      <th>0</th>\n",
       "      <td>L</td>\n",
       "      <td>CC</td>\n",
       "      <td>61.0</td>\n",
       "      <td>0</td>\n",
       "      <td>0</td>\n",
       "    </tr>\n",
       "    <tr>\n",
       "      <th>1</th>\n",
       "      <td>L</td>\n",
       "      <td>MLO</td>\n",
       "      <td>61.0</td>\n",
       "      <td>0</td>\n",
       "      <td>0</td>\n",
       "    </tr>\n",
       "    <tr>\n",
       "      <th>2</th>\n",
       "      <td>R</td>\n",
       "      <td>MLO</td>\n",
       "      <td>61.0</td>\n",
       "      <td>0</td>\n",
       "      <td>0</td>\n",
       "    </tr>\n",
       "    <tr>\n",
       "      <th>3</th>\n",
       "      <td>R</td>\n",
       "      <td>CC</td>\n",
       "      <td>61.0</td>\n",
       "      <td>0</td>\n",
       "      <td>0</td>\n",
       "    </tr>\n",
       "    <tr>\n",
       "      <th>4</th>\n",
       "      <td>L</td>\n",
       "      <td>CC</td>\n",
       "      <td>55.0</td>\n",
       "      <td>0</td>\n",
       "      <td>0</td>\n",
       "    </tr>\n",
       "    <tr>\n",
       "      <th>...</th>\n",
       "      <td>...</td>\n",
       "      <td>...</td>\n",
       "      <td>...</td>\n",
       "      <td>...</td>\n",
       "      <td>...</td>\n",
       "    </tr>\n",
       "    <tr>\n",
       "      <th>54701</th>\n",
       "      <td>R</td>\n",
       "      <td>MLO</td>\n",
       "      <td>43.0</td>\n",
       "      <td>0</td>\n",
       "      <td>0</td>\n",
       "    </tr>\n",
       "    <tr>\n",
       "      <th>54702</th>\n",
       "      <td>L</td>\n",
       "      <td>MLO</td>\n",
       "      <td>60.0</td>\n",
       "      <td>0</td>\n",
       "      <td>0</td>\n",
       "    </tr>\n",
       "    <tr>\n",
       "      <th>54703</th>\n",
       "      <td>L</td>\n",
       "      <td>CC</td>\n",
       "      <td>60.0</td>\n",
       "      <td>0</td>\n",
       "      <td>0</td>\n",
       "    </tr>\n",
       "    <tr>\n",
       "      <th>54704</th>\n",
       "      <td>R</td>\n",
       "      <td>MLO</td>\n",
       "      <td>60.0</td>\n",
       "      <td>0</td>\n",
       "      <td>0</td>\n",
       "    </tr>\n",
       "    <tr>\n",
       "      <th>54705</th>\n",
       "      <td>R</td>\n",
       "      <td>CC</td>\n",
       "      <td>60.0</td>\n",
       "      <td>0</td>\n",
       "      <td>0</td>\n",
       "    </tr>\n",
       "  </tbody>\n",
       "</table>\n",
       "<p>54706 rows × 5 columns</p>\n",
       "</div>"
      ],
      "text/plain": [
       "      laterality view   age  cancer  implant\n",
       "0              L   CC  61.0       0        0\n",
       "1              L  MLO  61.0       0        0\n",
       "2              R  MLO  61.0       0        0\n",
       "3              R   CC  61.0       0        0\n",
       "4              L   CC  55.0       0        0\n",
       "...          ...  ...   ...     ...      ...\n",
       "54701          R  MLO  43.0       0        0\n",
       "54702          L  MLO  60.0       0        0\n",
       "54703          L   CC  60.0       0        0\n",
       "54704          R  MLO  60.0       0        0\n",
       "54705          R   CC  60.0       0        0\n",
       "\n",
       "[54706 rows x 5 columns]"
      ]
     },
     "execution_count": 9,
     "metadata": {},
     "output_type": "execute_result"
    }
   ],
   "source": [
    "df2=df.drop(['machine_id','image_id','patient_id','site_id','BIRADS','density','biopsy','invasive','difficult_negative_case'],axis=1)\n",
    "df2"
   ]
  },
  {
   "cell_type": "code",
   "execution_count": 10,
   "id": "db114225",
   "metadata": {
    "execution": {
     "iopub.execute_input": "2023-01-28T10:30:55.219290Z",
     "iopub.status.busy": "2023-01-28T10:30:55.218567Z",
     "iopub.status.idle": "2023-01-28T10:30:55.247237Z",
     "shell.execute_reply": "2023-01-28T10:30:55.245796Z"
    },
    "papermill": {
     "duration": 0.045916,
     "end_time": "2023-01-28T10:30:55.250327",
     "exception": false,
     "start_time": "2023-01-28T10:30:55.204411",
     "status": "completed"
    },
    "tags": []
   },
   "outputs": [],
   "source": [
    "df3=pd.get_dummies(df2[['laterality','view']])\n",
    "df4=df3.drop(['laterality_R','view_LMO'],axis=1)"
   ]
  },
  {
   "cell_type": "code",
   "execution_count": 11,
   "id": "3c7685a1",
   "metadata": {
    "execution": {
     "iopub.execute_input": "2023-01-28T10:30:55.278088Z",
     "iopub.status.busy": "2023-01-28T10:30:55.277675Z",
     "iopub.status.idle": "2023-01-28T10:30:55.298939Z",
     "shell.execute_reply": "2023-01-28T10:30:55.297681Z"
    },
    "papermill": {
     "duration": 0.038375,
     "end_time": "2023-01-28T10:30:55.301622",
     "exception": false,
     "start_time": "2023-01-28T10:30:55.263247",
     "status": "completed"
    },
    "tags": []
   },
   "outputs": [
    {
     "data": {
      "text/html": [
       "<div>\n",
       "<style scoped>\n",
       "    .dataframe tbody tr th:only-of-type {\n",
       "        vertical-align: middle;\n",
       "    }\n",
       "\n",
       "    .dataframe tbody tr th {\n",
       "        vertical-align: top;\n",
       "    }\n",
       "\n",
       "    .dataframe thead th {\n",
       "        text-align: right;\n",
       "    }\n",
       "</style>\n",
       "<table border=\"1\" class=\"dataframe\">\n",
       "  <thead>\n",
       "    <tr style=\"text-align: right;\">\n",
       "      <th></th>\n",
       "      <th>laterality</th>\n",
       "      <th>view</th>\n",
       "      <th>age</th>\n",
       "      <th>cancer</th>\n",
       "      <th>implant</th>\n",
       "      <th>laterality_L</th>\n",
       "      <th>view_AT</th>\n",
       "      <th>view_CC</th>\n",
       "      <th>view_LM</th>\n",
       "      <th>view_ML</th>\n",
       "      <th>view_MLO</th>\n",
       "    </tr>\n",
       "  </thead>\n",
       "  <tbody>\n",
       "    <tr>\n",
       "      <th>0</th>\n",
       "      <td>L</td>\n",
       "      <td>CC</td>\n",
       "      <td>61.0</td>\n",
       "      <td>0</td>\n",
       "      <td>0</td>\n",
       "      <td>1</td>\n",
       "      <td>0</td>\n",
       "      <td>1</td>\n",
       "      <td>0</td>\n",
       "      <td>0</td>\n",
       "      <td>0</td>\n",
       "    </tr>\n",
       "    <tr>\n",
       "      <th>1</th>\n",
       "      <td>L</td>\n",
       "      <td>MLO</td>\n",
       "      <td>61.0</td>\n",
       "      <td>0</td>\n",
       "      <td>0</td>\n",
       "      <td>1</td>\n",
       "      <td>0</td>\n",
       "      <td>0</td>\n",
       "      <td>0</td>\n",
       "      <td>0</td>\n",
       "      <td>1</td>\n",
       "    </tr>\n",
       "    <tr>\n",
       "      <th>2</th>\n",
       "      <td>R</td>\n",
       "      <td>MLO</td>\n",
       "      <td>61.0</td>\n",
       "      <td>0</td>\n",
       "      <td>0</td>\n",
       "      <td>0</td>\n",
       "      <td>0</td>\n",
       "      <td>0</td>\n",
       "      <td>0</td>\n",
       "      <td>0</td>\n",
       "      <td>1</td>\n",
       "    </tr>\n",
       "    <tr>\n",
       "      <th>3</th>\n",
       "      <td>R</td>\n",
       "      <td>CC</td>\n",
       "      <td>61.0</td>\n",
       "      <td>0</td>\n",
       "      <td>0</td>\n",
       "      <td>0</td>\n",
       "      <td>0</td>\n",
       "      <td>1</td>\n",
       "      <td>0</td>\n",
       "      <td>0</td>\n",
       "      <td>0</td>\n",
       "    </tr>\n",
       "    <tr>\n",
       "      <th>4</th>\n",
       "      <td>L</td>\n",
       "      <td>CC</td>\n",
       "      <td>55.0</td>\n",
       "      <td>0</td>\n",
       "      <td>0</td>\n",
       "      <td>1</td>\n",
       "      <td>0</td>\n",
       "      <td>1</td>\n",
       "      <td>0</td>\n",
       "      <td>0</td>\n",
       "      <td>0</td>\n",
       "    </tr>\n",
       "    <tr>\n",
       "      <th>...</th>\n",
       "      <td>...</td>\n",
       "      <td>...</td>\n",
       "      <td>...</td>\n",
       "      <td>...</td>\n",
       "      <td>...</td>\n",
       "      <td>...</td>\n",
       "      <td>...</td>\n",
       "      <td>...</td>\n",
       "      <td>...</td>\n",
       "      <td>...</td>\n",
       "      <td>...</td>\n",
       "    </tr>\n",
       "    <tr>\n",
       "      <th>54701</th>\n",
       "      <td>R</td>\n",
       "      <td>MLO</td>\n",
       "      <td>43.0</td>\n",
       "      <td>0</td>\n",
       "      <td>0</td>\n",
       "      <td>0</td>\n",
       "      <td>0</td>\n",
       "      <td>0</td>\n",
       "      <td>0</td>\n",
       "      <td>0</td>\n",
       "      <td>1</td>\n",
       "    </tr>\n",
       "    <tr>\n",
       "      <th>54702</th>\n",
       "      <td>L</td>\n",
       "      <td>MLO</td>\n",
       "      <td>60.0</td>\n",
       "      <td>0</td>\n",
       "      <td>0</td>\n",
       "      <td>1</td>\n",
       "      <td>0</td>\n",
       "      <td>0</td>\n",
       "      <td>0</td>\n",
       "      <td>0</td>\n",
       "      <td>1</td>\n",
       "    </tr>\n",
       "    <tr>\n",
       "      <th>54703</th>\n",
       "      <td>L</td>\n",
       "      <td>CC</td>\n",
       "      <td>60.0</td>\n",
       "      <td>0</td>\n",
       "      <td>0</td>\n",
       "      <td>1</td>\n",
       "      <td>0</td>\n",
       "      <td>1</td>\n",
       "      <td>0</td>\n",
       "      <td>0</td>\n",
       "      <td>0</td>\n",
       "    </tr>\n",
       "    <tr>\n",
       "      <th>54704</th>\n",
       "      <td>R</td>\n",
       "      <td>MLO</td>\n",
       "      <td>60.0</td>\n",
       "      <td>0</td>\n",
       "      <td>0</td>\n",
       "      <td>0</td>\n",
       "      <td>0</td>\n",
       "      <td>0</td>\n",
       "      <td>0</td>\n",
       "      <td>0</td>\n",
       "      <td>1</td>\n",
       "    </tr>\n",
       "    <tr>\n",
       "      <th>54705</th>\n",
       "      <td>R</td>\n",
       "      <td>CC</td>\n",
       "      <td>60.0</td>\n",
       "      <td>0</td>\n",
       "      <td>0</td>\n",
       "      <td>0</td>\n",
       "      <td>0</td>\n",
       "      <td>1</td>\n",
       "      <td>0</td>\n",
       "      <td>0</td>\n",
       "      <td>0</td>\n",
       "    </tr>\n",
       "  </tbody>\n",
       "</table>\n",
       "<p>54706 rows × 11 columns</p>\n",
       "</div>"
      ],
      "text/plain": [
       "      laterality view   age  cancer  implant  laterality_L  view_AT  view_CC  \\\n",
       "0              L   CC  61.0       0        0             1        0        1   \n",
       "1              L  MLO  61.0       0        0             1        0        0   \n",
       "2              R  MLO  61.0       0        0             0        0        0   \n",
       "3              R   CC  61.0       0        0             0        0        1   \n",
       "4              L   CC  55.0       0        0             1        0        1   \n",
       "...          ...  ...   ...     ...      ...           ...      ...      ...   \n",
       "54701          R  MLO  43.0       0        0             0        0        0   \n",
       "54702          L  MLO  60.0       0        0             1        0        0   \n",
       "54703          L   CC  60.0       0        0             1        0        1   \n",
       "54704          R  MLO  60.0       0        0             0        0        0   \n",
       "54705          R   CC  60.0       0        0             0        0        1   \n",
       "\n",
       "       view_LM  view_ML  view_MLO  \n",
       "0            0        0         0  \n",
       "1            0        0         1  \n",
       "2            0        0         1  \n",
       "3            0        0         0  \n",
       "4            0        0         0  \n",
       "...        ...      ...       ...  \n",
       "54701        0        0         1  \n",
       "54702        0        0         1  \n",
       "54703        0        0         0  \n",
       "54704        0        0         1  \n",
       "54705        0        0         0  \n",
       "\n",
       "[54706 rows x 11 columns]"
      ]
     },
     "execution_count": 11,
     "metadata": {},
     "output_type": "execute_result"
    }
   ],
   "source": [
    "df4=pd.concat([df2,df4],axis=1)\n",
    "df4"
   ]
  },
  {
   "cell_type": "code",
   "execution_count": 12,
   "id": "7ae7282e",
   "metadata": {
    "execution": {
     "iopub.execute_input": "2023-01-28T10:30:55.329713Z",
     "iopub.status.busy": "2023-01-28T10:30:55.328921Z",
     "iopub.status.idle": "2023-01-28T10:30:55.346961Z",
     "shell.execute_reply": "2023-01-28T10:30:55.345660Z"
    },
    "papermill": {
     "duration": 0.034886,
     "end_time": "2023-01-28T10:30:55.349509",
     "exception": false,
     "start_time": "2023-01-28T10:30:55.314623",
     "status": "completed"
    },
    "tags": []
   },
   "outputs": [
    {
     "data": {
      "text/html": [
       "<div>\n",
       "<style scoped>\n",
       "    .dataframe tbody tr th:only-of-type {\n",
       "        vertical-align: middle;\n",
       "    }\n",
       "\n",
       "    .dataframe tbody tr th {\n",
       "        vertical-align: top;\n",
       "    }\n",
       "\n",
       "    .dataframe thead th {\n",
       "        text-align: right;\n",
       "    }\n",
       "</style>\n",
       "<table border=\"1\" class=\"dataframe\">\n",
       "  <thead>\n",
       "    <tr style=\"text-align: right;\">\n",
       "      <th></th>\n",
       "      <th>age</th>\n",
       "      <th>cancer</th>\n",
       "      <th>implant</th>\n",
       "      <th>laterality_L</th>\n",
       "      <th>view_AT</th>\n",
       "      <th>view_CC</th>\n",
       "      <th>view_LM</th>\n",
       "      <th>view_ML</th>\n",
       "      <th>view_MLO</th>\n",
       "    </tr>\n",
       "  </thead>\n",
       "  <tbody>\n",
       "    <tr>\n",
       "      <th>0</th>\n",
       "      <td>61.0</td>\n",
       "      <td>0</td>\n",
       "      <td>0</td>\n",
       "      <td>1</td>\n",
       "      <td>0</td>\n",
       "      <td>1</td>\n",
       "      <td>0</td>\n",
       "      <td>0</td>\n",
       "      <td>0</td>\n",
       "    </tr>\n",
       "    <tr>\n",
       "      <th>1</th>\n",
       "      <td>61.0</td>\n",
       "      <td>0</td>\n",
       "      <td>0</td>\n",
       "      <td>1</td>\n",
       "      <td>0</td>\n",
       "      <td>0</td>\n",
       "      <td>0</td>\n",
       "      <td>0</td>\n",
       "      <td>1</td>\n",
       "    </tr>\n",
       "    <tr>\n",
       "      <th>2</th>\n",
       "      <td>61.0</td>\n",
       "      <td>0</td>\n",
       "      <td>0</td>\n",
       "      <td>0</td>\n",
       "      <td>0</td>\n",
       "      <td>0</td>\n",
       "      <td>0</td>\n",
       "      <td>0</td>\n",
       "      <td>1</td>\n",
       "    </tr>\n",
       "    <tr>\n",
       "      <th>3</th>\n",
       "      <td>61.0</td>\n",
       "      <td>0</td>\n",
       "      <td>0</td>\n",
       "      <td>0</td>\n",
       "      <td>0</td>\n",
       "      <td>1</td>\n",
       "      <td>0</td>\n",
       "      <td>0</td>\n",
       "      <td>0</td>\n",
       "    </tr>\n",
       "    <tr>\n",
       "      <th>4</th>\n",
       "      <td>55.0</td>\n",
       "      <td>0</td>\n",
       "      <td>0</td>\n",
       "      <td>1</td>\n",
       "      <td>0</td>\n",
       "      <td>1</td>\n",
       "      <td>0</td>\n",
       "      <td>0</td>\n",
       "      <td>0</td>\n",
       "    </tr>\n",
       "    <tr>\n",
       "      <th>...</th>\n",
       "      <td>...</td>\n",
       "      <td>...</td>\n",
       "      <td>...</td>\n",
       "      <td>...</td>\n",
       "      <td>...</td>\n",
       "      <td>...</td>\n",
       "      <td>...</td>\n",
       "      <td>...</td>\n",
       "      <td>...</td>\n",
       "    </tr>\n",
       "    <tr>\n",
       "      <th>54701</th>\n",
       "      <td>43.0</td>\n",
       "      <td>0</td>\n",
       "      <td>0</td>\n",
       "      <td>0</td>\n",
       "      <td>0</td>\n",
       "      <td>0</td>\n",
       "      <td>0</td>\n",
       "      <td>0</td>\n",
       "      <td>1</td>\n",
       "    </tr>\n",
       "    <tr>\n",
       "      <th>54702</th>\n",
       "      <td>60.0</td>\n",
       "      <td>0</td>\n",
       "      <td>0</td>\n",
       "      <td>1</td>\n",
       "      <td>0</td>\n",
       "      <td>0</td>\n",
       "      <td>0</td>\n",
       "      <td>0</td>\n",
       "      <td>1</td>\n",
       "    </tr>\n",
       "    <tr>\n",
       "      <th>54703</th>\n",
       "      <td>60.0</td>\n",
       "      <td>0</td>\n",
       "      <td>0</td>\n",
       "      <td>1</td>\n",
       "      <td>0</td>\n",
       "      <td>1</td>\n",
       "      <td>0</td>\n",
       "      <td>0</td>\n",
       "      <td>0</td>\n",
       "    </tr>\n",
       "    <tr>\n",
       "      <th>54704</th>\n",
       "      <td>60.0</td>\n",
       "      <td>0</td>\n",
       "      <td>0</td>\n",
       "      <td>0</td>\n",
       "      <td>0</td>\n",
       "      <td>0</td>\n",
       "      <td>0</td>\n",
       "      <td>0</td>\n",
       "      <td>1</td>\n",
       "    </tr>\n",
       "    <tr>\n",
       "      <th>54705</th>\n",
       "      <td>60.0</td>\n",
       "      <td>0</td>\n",
       "      <td>0</td>\n",
       "      <td>0</td>\n",
       "      <td>0</td>\n",
       "      <td>1</td>\n",
       "      <td>0</td>\n",
       "      <td>0</td>\n",
       "      <td>0</td>\n",
       "    </tr>\n",
       "  </tbody>\n",
       "</table>\n",
       "<p>54706 rows × 9 columns</p>\n",
       "</div>"
      ],
      "text/plain": [
       "        age  cancer  implant  laterality_L  view_AT  view_CC  view_LM  \\\n",
       "0      61.0       0        0             1        0        1        0   \n",
       "1      61.0       0        0             1        0        0        0   \n",
       "2      61.0       0        0             0        0        0        0   \n",
       "3      61.0       0        0             0        0        1        0   \n",
       "4      55.0       0        0             1        0        1        0   \n",
       "...     ...     ...      ...           ...      ...      ...      ...   \n",
       "54701  43.0       0        0             0        0        0        0   \n",
       "54702  60.0       0        0             1        0        0        0   \n",
       "54703  60.0       0        0             1        0        1        0   \n",
       "54704  60.0       0        0             0        0        0        0   \n",
       "54705  60.0       0        0             0        0        1        0   \n",
       "\n",
       "       view_ML  view_MLO  \n",
       "0            0         0  \n",
       "1            0         1  \n",
       "2            0         1  \n",
       "3            0         0  \n",
       "4            0         0  \n",
       "...        ...       ...  \n",
       "54701        0         1  \n",
       "54702        0         1  \n",
       "54703        0         0  \n",
       "54704        0         1  \n",
       "54705        0         0  \n",
       "\n",
       "[54706 rows x 9 columns]"
      ]
     },
     "execution_count": 12,
     "metadata": {},
     "output_type": "execute_result"
    }
   ],
   "source": [
    "df5=df4.drop(['laterality','view'],axis=1)\n",
    "df5"
   ]
  },
  {
   "cell_type": "code",
   "execution_count": 13,
   "id": "d4a56792",
   "metadata": {
    "execution": {
     "iopub.execute_input": "2023-01-28T10:30:55.378938Z",
     "iopub.status.busy": "2023-01-28T10:30:55.377898Z",
     "iopub.status.idle": "2023-01-28T10:30:55.390330Z",
     "shell.execute_reply": "2023-01-28T10:30:55.389175Z"
    },
    "papermill": {
     "duration": 0.030354,
     "end_time": "2023-01-28T10:30:55.393011",
     "exception": false,
     "start_time": "2023-01-28T10:30:55.362657",
     "status": "completed"
    },
    "tags": []
   },
   "outputs": [
    {
     "data": {
      "text/plain": [
       "age             37\n",
       "cancer           0\n",
       "implant          0\n",
       "laterality_L     0\n",
       "view_AT          0\n",
       "view_CC          0\n",
       "view_LM          0\n",
       "view_ML          0\n",
       "view_MLO         0\n",
       "dtype: int64"
      ]
     },
     "execution_count": 13,
     "metadata": {},
     "output_type": "execute_result"
    }
   ],
   "source": [
    "df5.isnull().sum()"
   ]
  },
  {
   "cell_type": "code",
   "execution_count": 14,
   "id": "1df56be7",
   "metadata": {
    "execution": {
     "iopub.execute_input": "2023-01-28T10:30:55.421406Z",
     "iopub.status.busy": "2023-01-28T10:30:55.420599Z",
     "iopub.status.idle": "2023-01-28T10:30:55.445911Z",
     "shell.execute_reply": "2023-01-28T10:30:55.444800Z"
    },
    "papermill": {
     "duration": 0.042413,
     "end_time": "2023-01-28T10:30:55.448362",
     "exception": false,
     "start_time": "2023-01-28T10:30:55.405949",
     "status": "completed"
    },
    "tags": []
   },
   "outputs": [
    {
     "data": {
      "text/plain": [
       "implant        -0.069599\n",
       "view_CC        -0.011559\n",
       "laterality_L    0.001040\n",
       "view_AT         0.003482\n",
       "view_ML         0.003859\n",
       "view_MLO        0.010979\n",
       "view_LM         0.014475\n",
       "cancer          0.075155\n",
       "age             1.000000\n",
       "Name: age, dtype: float64"
      ]
     },
     "execution_count": 14,
     "metadata": {},
     "output_type": "execute_result"
    }
   ],
   "source": [
    "df5.corr()['age'].sort_values(ascending=True)"
   ]
  },
  {
   "cell_type": "code",
   "execution_count": 15,
   "id": "3ba43836",
   "metadata": {
    "execution": {
     "iopub.execute_input": "2023-01-28T10:30:55.476800Z",
     "iopub.status.busy": "2023-01-28T10:30:55.476352Z",
     "iopub.status.idle": "2023-01-28T10:30:55.932309Z",
     "shell.execute_reply": "2023-01-28T10:30:55.931064Z"
    },
    "papermill": {
     "duration": 0.473416,
     "end_time": "2023-01-28T10:30:55.934955",
     "exception": false,
     "start_time": "2023-01-28T10:30:55.461539",
     "status": "completed"
    },
    "tags": []
   },
   "outputs": [
    {
     "data": {
      "text/plain": [
       "<AxesSubplot:xlabel='age', ylabel='Count'>"
      ]
     },
     "execution_count": 15,
     "metadata": {},
     "output_type": "execute_result"
    },
    {
     "data": {
      "image/png": "[encoded data removed]",
      "text/plain": [
       "<Figure size 432x288 with 1 Axes>"
      ]
     },
     "metadata": {
      "needs_background": "light"
     },
     "output_type": "display_data"
    }
   ],
   "source": [
    "sns.histplot(df5['age'])"
   ]
  },
  {
   "cell_type": "code",
   "execution_count": 16,
   "id": "dc751a2f",
   "metadata": {
    "execution": {
     "iopub.execute_input": "2023-01-28T10:30:55.965167Z",
     "iopub.status.busy": "2023-01-28T10:30:55.964386Z",
     "iopub.status.idle": "2023-01-28T10:30:55.973621Z",
     "shell.execute_reply": "2023-01-28T10:30:55.971957Z"
    },
    "papermill": {
     "duration": 0.028995,
     "end_time": "2023-01-28T10:30:55.977835",
     "exception": false,
     "start_time": "2023-01-28T10:30:55.948840",
     "status": "completed"
    },
    "tags": []
   },
   "outputs": [
    {
     "name": "stdout",
     "output_type": "stream",
     "text": [
      "59.0 58.54392800307304\n"
     ]
    }
   ],
   "source": [
    "print(df5.age.median(),df5.age.mean())"
   ]
  },
  {
   "cell_type": "code",
   "execution_count": 17,
   "id": "4c7d4174",
   "metadata": {
    "execution": {
     "iopub.execute_input": "2023-01-28T10:30:56.007517Z",
     "iopub.status.busy": "2023-01-28T10:30:56.006848Z",
     "iopub.status.idle": "2023-01-28T10:30:56.014762Z",
     "shell.execute_reply": "2023-01-28T10:30:56.013513Z"
    },
    "papermill": {
     "duration": 0.025479,
     "end_time": "2023-01-28T10:30:56.017353",
     "exception": false,
     "start_time": "2023-01-28T10:30:55.991874",
     "status": "completed"
    },
    "tags": []
   },
   "outputs": [],
   "source": [
    "df5['age']=df5['age'].fillna(df5.age.median())"
   ]
  },
  {
   "cell_type": "code",
   "execution_count": 18,
   "id": "3dff9ea2",
   "metadata": {
    "execution": {
     "iopub.execute_input": "2023-01-28T10:30:56.047490Z",
     "iopub.status.busy": "2023-01-28T10:30:56.046850Z",
     "iopub.status.idle": "2023-01-28T10:30:56.050654Z",
     "shell.execute_reply": "2023-01-28T10:30:56.049828Z"
    },
    "papermill": {
     "duration": 0.021846,
     "end_time": "2023-01-28T10:30:56.052877",
     "exception": false,
     "start_time": "2023-01-28T10:30:56.031031",
     "status": "completed"
    },
    "tags": []
   },
   "outputs": [],
   "source": [
    "#try to get missing age by applying classifier on the data"
   ]
  },
  {
   "cell_type": "code",
   "execution_count": 19,
   "id": "91c64d27",
   "metadata": {
    "execution": {
     "iopub.execute_input": "2023-01-28T10:30:56.082169Z",
     "iopub.status.busy": "2023-01-28T10:30:56.081524Z",
     "iopub.status.idle": "2023-01-28T10:30:56.091613Z",
     "shell.execute_reply": "2023-01-28T10:30:56.090354Z"
    },
    "papermill": {
     "duration": 0.02794,
     "end_time": "2023-01-28T10:30:56.094329",
     "exception": false,
     "start_time": "2023-01-28T10:30:56.066389",
     "status": "completed"
    },
    "tags": []
   },
   "outputs": [
    {
     "data": {
      "text/plain": [
       "age             0\n",
       "cancer          0\n",
       "implant         0\n",
       "laterality_L    0\n",
       "view_AT         0\n",
       "view_CC         0\n",
       "view_LM         0\n",
       "view_ML         0\n",
       "view_MLO        0\n",
       "dtype: int64"
      ]
     },
     "execution_count": 19,
     "metadata": {},
     "output_type": "execute_result"
    }
   ],
   "source": [
    "df5.isna().sum()"
   ]
  },
  {
   "cell_type": "code",
   "execution_count": 20,
   "id": "8fbc25d2",
   "metadata": {
    "execution": {
     "iopub.execute_input": "2023-01-28T10:30:56.124957Z",
     "iopub.status.busy": "2023-01-28T10:30:56.124506Z",
     "iopub.status.idle": "2023-01-28T10:30:56.134245Z",
     "shell.execute_reply": "2023-01-28T10:30:56.133321Z"
    },
    "papermill": {
     "duration": 0.02827,
     "end_time": "2023-01-28T10:30:56.136809",
     "exception": false,
     "start_time": "2023-01-28T10:30:56.108539",
     "status": "completed"
    },
    "tags": []
   },
   "outputs": [
    {
     "data": {
      "text/plain": [
       "0    53548\n",
       "1     1158\n",
       "Name: cancer, dtype: int64"
      ]
     },
     "execution_count": 20,
     "metadata": {},
     "output_type": "execute_result"
    }
   ],
   "source": [
    "df5.cancer.value_counts()"
   ]
  },
  {
   "cell_type": "code",
   "execution_count": 21,
   "id": "abc47754",
   "metadata": {
    "execution": {
     "iopub.execute_input": "2023-01-28T10:30:56.166381Z",
     "iopub.status.busy": "2023-01-28T10:30:56.165923Z",
     "iopub.status.idle": "2023-01-28T10:30:56.171772Z",
     "shell.execute_reply": "2023-01-28T10:30:56.170560Z"
    },
    "papermill": {
     "duration": 0.024093,
     "end_time": "2023-01-28T10:30:56.174875",
     "exception": false,
     "start_time": "2023-01-28T10:30:56.150782",
     "status": "completed"
    },
    "tags": []
   },
   "outputs": [],
   "source": [
    "#try using smote analysis to balance the dataset"
   ]
  },
  {
   "cell_type": "code",
   "execution_count": 22,
   "id": "a4005c71",
   "metadata": {
    "execution": {
     "iopub.execute_input": "2023-01-28T10:30:56.206826Z",
     "iopub.status.busy": "2023-01-28T10:30:56.205924Z",
     "iopub.status.idle": "2023-01-28T10:30:56.643285Z",
     "shell.execute_reply": "2023-01-28T10:30:56.642332Z"
    },
    "papermill": {
     "duration": 0.456949,
     "end_time": "2023-01-28T10:30:56.645802",
     "exception": false,
     "start_time": "2023-01-28T10:30:56.188853",
     "status": "completed"
    },
    "tags": []
   },
   "outputs": [
    {
     "data": {
      "text/plain": [
       "<AxesSubplot:>"
      ]
     },
     "execution_count": 22,
     "metadata": {},
     "output_type": "execute_result"
    },
    {
     "data": {
      "image/png": "[encoded data removed]",
      "text/plain": [
       "<Figure size 432x288 with 2 Axes>"
      ]
     },
     "metadata": {
      "needs_background": "light"
     },
     "output_type": "display_data"
    }
   ],
   "source": [
    "import seaborn as sns\n",
    "sns.heatmap(df.corr())"
   ]
  },
  {
   "cell_type": "code",
   "execution_count": 23,
   "id": "8ff51a64",
   "metadata": {
    "execution": {
     "iopub.execute_input": "2023-01-28T10:30:56.680066Z",
     "iopub.status.busy": "2023-01-28T10:30:56.679631Z",
     "iopub.status.idle": "2023-01-28T10:30:56.715221Z",
     "shell.execute_reply": "2023-01-28T10:30:56.713769Z"
    },
    "papermill": {
     "duration": 0.055435,
     "end_time": "2023-01-28T10:30:56.718555",
     "exception": false,
     "start_time": "2023-01-28T10:30:56.663120",
     "status": "completed"
    },
    "tags": []
   },
   "outputs": [
    {
     "data": {
      "text/plain": [
       "BIRADS                    -0.210718\n",
       "difficult_negative_case   -0.059541\n",
       "machine_id                -0.024888\n",
       "implant                   -0.014311\n",
       "site_id                   -0.009975\n",
       "patient_id                -0.003253\n",
       "image_id                   0.000223\n",
       "age                        0.075155\n",
       "biopsy                     0.613872\n",
       "invasive                   0.837815\n",
       "cancer                     1.000000\n",
       "Name: cancer, dtype: float64"
      ]
     },
     "execution_count": 23,
     "metadata": {},
     "output_type": "execute_result"
    }
   ],
   "source": [
    "df.corr()['cancer'].sort_values(ascending=True)"
   ]
  },
  {
   "cell_type": "code",
   "execution_count": 24,
   "id": "30e5d09b",
   "metadata": {
    "execution": {
     "iopub.execute_input": "2023-01-28T10:30:56.750234Z",
     "iopub.status.busy": "2023-01-28T10:30:56.749785Z",
     "iopub.status.idle": "2023-01-28T10:30:56.756695Z",
     "shell.execute_reply": "2023-01-28T10:30:56.755640Z"
    },
    "papermill": {
     "duration": 0.025656,
     "end_time": "2023-01-28T10:30:56.759304",
     "exception": false,
     "start_time": "2023-01-28T10:30:56.733648",
     "status": "completed"
    },
    "tags": []
   },
   "outputs": [],
   "source": [
    "#cc is top view and mlo is from side"
   ]
  },
  {
   "cell_type": "code",
   "execution_count": 25,
   "id": "4734e7eb",
   "metadata": {
    "execution": {
     "iopub.execute_input": "2023-01-28T10:30:56.790754Z",
     "iopub.status.busy": "2023-01-28T10:30:56.789688Z",
     "iopub.status.idle": "2023-01-28T10:30:56.799038Z",
     "shell.execute_reply": "2023-01-28T10:30:56.797838Z"
    },
    "papermill": {
     "duration": 0.027227,
     "end_time": "2023-01-28T10:30:56.801255",
     "exception": false,
     "start_time": "2023-01-28T10:30:56.774028",
     "status": "completed"
    },
    "tags": []
   },
   "outputs": [
    {
     "data": {
      "text/plain": [
       "'\\nimport pathlib\\ndata_dir1=pathlib.Path(\"/kaggle/input/rsna-breast-cancer-detection/train_images\")\\nimage_path=list(data_dir1.glob(\\'*\\'))[:2]\\nfor j in image_path:\\n    for i in pathlib.Path(j).glob(\\'*\\'):\\n#        try:\\n            ds = pydicom.dcmread(i)\\n            #plt.imshow(ds.pixel_array)\\n            print(ds.pixel_array.shape)\\n#        except:\\n#            continue\\n'"
      ]
     },
     "execution_count": 25,
     "metadata": {},
     "output_type": "execute_result"
    }
   ],
   "source": [
    "'''\n",
    "import pathlib\n",
    "data_dir1=pathlib.Path(\"/kaggle/input/rsna-breast-cancer-detection/train_images\")\n",
    "image_path=list(data_dir1.glob('*'))[:2]\n",
    "for j in image_path:\n",
    "    for i in pathlib.Path(j).glob('*'):\n",
    "#        try:\n",
    "            ds = pydicom.dcmread(i)\n",
    "            #plt.imshow(ds.pixel_array)\n",
    "            print(ds.pixel_array.shape)\n",
    "#        except:\n",
    "#            continue\n",
    "'''"
   ]
  },
  {
   "cell_type": "code",
   "execution_count": 26,
   "id": "1cbbb20f",
   "metadata": {
    "execution": {
     "iopub.execute_input": "2023-01-28T10:30:56.832661Z",
     "iopub.status.busy": "2023-01-28T10:30:56.831498Z",
     "iopub.status.idle": "2023-01-28T10:30:56.838149Z",
     "shell.execute_reply": "2023-01-28T10:30:56.836938Z"
    },
    "papermill": {
     "duration": 0.025008,
     "end_time": "2023-01-28T10:30:56.840677",
     "exception": false,
     "start_time": "2023-01-28T10:30:56.815669",
     "status": "completed"
    },
    "tags": []
   },
   "outputs": [
    {
     "data": {
      "text/plain": [
       "'\\nimport pathlib\\n#import pylibjpeg\\ndata_dir=pathlib.Path(\"/kaggle/input/rsna-breast-cancer-detection/train_images/34867\")\\nfor i in list(data_dir.glob(\\'*\\')):\\n   try:\\n    print(i)\\n    #ds = dicom.dcmread(i)\\n    #print(ds.pixel_array.shape)\\n    ds = dcmread(i)\\n    print(ds.pixel_array)\\n   except:\\n    continue\\n'"
      ]
     },
     "execution_count": 26,
     "metadata": {},
     "output_type": "execute_result"
    }
   ],
   "source": [
    "'''\n",
    "import pathlib\n",
    "#import pylibjpeg\n",
    "data_dir=pathlib.Path(\"/kaggle/input/rsna-breast-cancer-detection/train_images/34867\")\n",
    "for i in list(data_dir.glob('*')):\n",
    "   try:\n",
    "    print(i)\n",
    "    #ds = dicom.dcmread(i)\n",
    "    #print(ds.pixel_array.shape)\n",
    "    ds = dcmread(i)\n",
    "    print(ds.pixel_array)\n",
    "   except:\n",
    "    continue\n",
    "'''"
   ]
  },
  {
   "cell_type": "code",
   "execution_count": 27,
   "id": "80068ec5",
   "metadata": {
    "execution": {
     "iopub.execute_input": "2023-01-28T10:30:56.871332Z",
     "iopub.status.busy": "2023-01-28T10:30:56.870879Z",
     "iopub.status.idle": "2023-01-28T10:30:56.889161Z",
     "shell.execute_reply": "2023-01-28T10:30:56.887971Z"
    },
    "papermill": {
     "duration": 0.036315,
     "end_time": "2023-01-28T10:30:56.891484",
     "exception": false,
     "start_time": "2023-01-28T10:30:56.855169",
     "status": "completed"
    },
    "tags": []
   },
   "outputs": [
    {
     "data": {
      "text/html": [
       "<div>\n",
       "<style scoped>\n",
       "    .dataframe tbody tr th:only-of-type {\n",
       "        vertical-align: middle;\n",
       "    }\n",
       "\n",
       "    .dataframe tbody tr th {\n",
       "        vertical-align: top;\n",
       "    }\n",
       "\n",
       "    .dataframe thead th {\n",
       "        text-align: right;\n",
       "    }\n",
       "</style>\n",
       "<table border=\"1\" class=\"dataframe\">\n",
       "  <thead>\n",
       "    <tr style=\"text-align: right;\">\n",
       "      <th></th>\n",
       "      <th>age</th>\n",
       "      <th>cancer</th>\n",
       "      <th>implant</th>\n",
       "      <th>laterality_L</th>\n",
       "      <th>view_AT</th>\n",
       "      <th>view_CC</th>\n",
       "      <th>view_LM</th>\n",
       "      <th>view_ML</th>\n",
       "      <th>view_MLO</th>\n",
       "    </tr>\n",
       "  </thead>\n",
       "  <tbody>\n",
       "    <tr>\n",
       "      <th>0</th>\n",
       "      <td>61.0</td>\n",
       "      <td>0</td>\n",
       "      <td>0</td>\n",
       "      <td>1</td>\n",
       "      <td>0</td>\n",
       "      <td>1</td>\n",
       "      <td>0</td>\n",
       "      <td>0</td>\n",
       "      <td>0</td>\n",
       "    </tr>\n",
       "    <tr>\n",
       "      <th>1</th>\n",
       "      <td>61.0</td>\n",
       "      <td>0</td>\n",
       "      <td>0</td>\n",
       "      <td>1</td>\n",
       "      <td>0</td>\n",
       "      <td>0</td>\n",
       "      <td>0</td>\n",
       "      <td>0</td>\n",
       "      <td>1</td>\n",
       "    </tr>\n",
       "    <tr>\n",
       "      <th>2</th>\n",
       "      <td>61.0</td>\n",
       "      <td>0</td>\n",
       "      <td>0</td>\n",
       "      <td>0</td>\n",
       "      <td>0</td>\n",
       "      <td>0</td>\n",
       "      <td>0</td>\n",
       "      <td>0</td>\n",
       "      <td>1</td>\n",
       "    </tr>\n",
       "    <tr>\n",
       "      <th>3</th>\n",
       "      <td>61.0</td>\n",
       "      <td>0</td>\n",
       "      <td>0</td>\n",
       "      <td>0</td>\n",
       "      <td>0</td>\n",
       "      <td>1</td>\n",
       "      <td>0</td>\n",
       "      <td>0</td>\n",
       "      <td>0</td>\n",
       "    </tr>\n",
       "    <tr>\n",
       "      <th>4</th>\n",
       "      <td>55.0</td>\n",
       "      <td>0</td>\n",
       "      <td>0</td>\n",
       "      <td>1</td>\n",
       "      <td>0</td>\n",
       "      <td>1</td>\n",
       "      <td>0</td>\n",
       "      <td>0</td>\n",
       "      <td>0</td>\n",
       "    </tr>\n",
       "    <tr>\n",
       "      <th>...</th>\n",
       "      <td>...</td>\n",
       "      <td>...</td>\n",
       "      <td>...</td>\n",
       "      <td>...</td>\n",
       "      <td>...</td>\n",
       "      <td>...</td>\n",
       "      <td>...</td>\n",
       "      <td>...</td>\n",
       "      <td>...</td>\n",
       "    </tr>\n",
       "    <tr>\n",
       "      <th>54701</th>\n",
       "      <td>43.0</td>\n",
       "      <td>0</td>\n",
       "      <td>0</td>\n",
       "      <td>0</td>\n",
       "      <td>0</td>\n",
       "      <td>0</td>\n",
       "      <td>0</td>\n",
       "      <td>0</td>\n",
       "      <td>1</td>\n",
       "    </tr>\n",
       "    <tr>\n",
       "      <th>54702</th>\n",
       "      <td>60.0</td>\n",
       "      <td>0</td>\n",
       "      <td>0</td>\n",
       "      <td>1</td>\n",
       "      <td>0</td>\n",
       "      <td>0</td>\n",
       "      <td>0</td>\n",
       "      <td>0</td>\n",
       "      <td>1</td>\n",
       "    </tr>\n",
       "    <tr>\n",
       "      <th>54703</th>\n",
       "      <td>60.0</td>\n",
       "      <td>0</td>\n",
       "      <td>0</td>\n",
       "      <td>1</td>\n",
       "      <td>0</td>\n",
       "      <td>1</td>\n",
       "      <td>0</td>\n",
       "      <td>0</td>\n",
       "      <td>0</td>\n",
       "    </tr>\n",
       "    <tr>\n",
       "      <th>54704</th>\n",
       "      <td>60.0</td>\n",
       "      <td>0</td>\n",
       "      <td>0</td>\n",
       "      <td>0</td>\n",
       "      <td>0</td>\n",
       "      <td>0</td>\n",
       "      <td>0</td>\n",
       "      <td>0</td>\n",
       "      <td>1</td>\n",
       "    </tr>\n",
       "    <tr>\n",
       "      <th>54705</th>\n",
       "      <td>60.0</td>\n",
       "      <td>0</td>\n",
       "      <td>0</td>\n",
       "      <td>0</td>\n",
       "      <td>0</td>\n",
       "      <td>1</td>\n",
       "      <td>0</td>\n",
       "      <td>0</td>\n",
       "      <td>0</td>\n",
       "    </tr>\n",
       "  </tbody>\n",
       "</table>\n",
       "<p>54706 rows × 9 columns</p>\n",
       "</div>"
      ],
      "text/plain": [
       "        age  cancer  implant  laterality_L  view_AT  view_CC  view_LM  \\\n",
       "0      61.0       0        0             1        0        1        0   \n",
       "1      61.0       0        0             1        0        0        0   \n",
       "2      61.0       0        0             0        0        0        0   \n",
       "3      61.0       0        0             0        0        1        0   \n",
       "4      55.0       0        0             1        0        1        0   \n",
       "...     ...     ...      ...           ...      ...      ...      ...   \n",
       "54701  43.0       0        0             0        0        0        0   \n",
       "54702  60.0       0        0             1        0        0        0   \n",
       "54703  60.0       0        0             1        0        1        0   \n",
       "54704  60.0       0        0             0        0        0        0   \n",
       "54705  60.0       0        0             0        0        1        0   \n",
       "\n",
       "       view_ML  view_MLO  \n",
       "0            0         0  \n",
       "1            0         1  \n",
       "2            0         1  \n",
       "3            0         0  \n",
       "4            0         0  \n",
       "...        ...       ...  \n",
       "54701        0         1  \n",
       "54702        0         1  \n",
       "54703        0         0  \n",
       "54704        0         1  \n",
       "54705        0         0  \n",
       "\n",
       "[54706 rows x 9 columns]"
      ]
     },
     "execution_count": 27,
     "metadata": {},
     "output_type": "execute_result"
    }
   ],
   "source": [
    "df5"
   ]
  },
  {
   "cell_type": "code",
   "execution_count": 28,
   "id": "bf810eff",
   "metadata": {
    "execution": {
     "iopub.execute_input": "2023-01-28T10:30:56.924578Z",
     "iopub.status.busy": "2023-01-28T10:30:56.923906Z",
     "iopub.status.idle": "2023-01-28T10:30:56.928522Z",
     "shell.execute_reply": "2023-01-28T10:30:56.927577Z"
    },
    "papermill": {
     "duration": 0.024579,
     "end_time": "2023-01-28T10:30:56.930972",
     "exception": false,
     "start_time": "2023-01-28T10:30:56.906393",
     "status": "completed"
    },
    "tags": []
   },
   "outputs": [],
   "source": [
    "#from sklearn.preprocessing import MinMaxScaler\n",
    "#scaler=MinMaxScaler()\n",
    "#df5[['age']]=scaler.fit_transform(df5[['age']])\n",
    "#df5"
   ]
  },
  {
   "cell_type": "code",
   "execution_count": null,
   "id": "38c32a00",
   "metadata": {
    "papermill": {
     "duration": 0.014537,
     "end_time": "2023-01-28T10:30:56.960943",
     "exception": false,
     "start_time": "2023-01-28T10:30:56.946406",
     "status": "completed"
    },
    "tags": []
   },
   "outputs": [],
   "source": []
  },
  {
   "cell_type": "code",
   "execution_count": 29,
   "id": "a68f1c47",
   "metadata": {
    "execution": {
     "iopub.execute_input": "2023-01-28T10:30:56.993366Z",
     "iopub.status.busy": "2023-01-28T10:30:56.992704Z",
     "iopub.status.idle": "2023-01-28T10:30:57.232318Z",
     "shell.execute_reply": "2023-01-28T10:30:57.230950Z"
    },
    "papermill": {
     "duration": 0.259568,
     "end_time": "2023-01-28T10:30:57.235292",
     "exception": false,
     "start_time": "2023-01-28T10:30:56.975724",
     "status": "completed"
    },
    "tags": []
   },
   "outputs": [],
   "source": [
    "from sklearn.model_selection import train_test_split\n",
    "X=df5.drop(['cancer'],axis=1)\n",
    "y=df5['cancer']\n",
    "X_train, X_test, y_train, y_test = train_test_split(X,y,test_size=0.2)"
   ]
  },
  {
   "cell_type": "code",
   "execution_count": 30,
   "id": "b1af19de",
   "metadata": {
    "execution": {
     "iopub.execute_input": "2023-01-28T10:30:57.268222Z",
     "iopub.status.busy": "2023-01-28T10:30:57.267567Z",
     "iopub.status.idle": "2023-01-28T10:30:57.276954Z",
     "shell.execute_reply": "2023-01-28T10:30:57.275562Z"
    },
    "papermill": {
     "duration": 0.029249,
     "end_time": "2023-01-28T10:30:57.279913",
     "exception": false,
     "start_time": "2023-01-28T10:30:57.250664",
     "status": "completed"
    },
    "tags": []
   },
   "outputs": [
    {
     "data": {
      "text/plain": [
       "0    10711\n",
       "1      231\n",
       "Name: cancer, dtype: int64"
      ]
     },
     "execution_count": 30,
     "metadata": {},
     "output_type": "execute_result"
    }
   ],
   "source": [
    "y_test.value_counts()"
   ]
  },
  {
   "cell_type": "code",
   "execution_count": 31,
   "id": "0dc2b8c5",
   "metadata": {
    "execution": {
     "iopub.execute_input": "2023-01-28T10:30:57.311834Z",
     "iopub.status.busy": "2023-01-28T10:30:57.311390Z",
     "iopub.status.idle": "2023-01-28T10:30:57.319795Z",
     "shell.execute_reply": "2023-01-28T10:30:57.318932Z"
    },
    "papermill": {
     "duration": 0.026934,
     "end_time": "2023-01-28T10:30:57.321874",
     "exception": false,
     "start_time": "2023-01-28T10:30:57.294940",
     "status": "completed"
    },
    "tags": []
   },
   "outputs": [
    {
     "data": {
      "text/plain": [
       "0    42837\n",
       "1      927\n",
       "Name: cancer, dtype: int64"
      ]
     },
     "execution_count": 31,
     "metadata": {},
     "output_type": "execute_result"
    }
   ],
   "source": [
    "y_train.value_counts()"
   ]
  },
  {
   "cell_type": "code",
   "execution_count": 32,
   "id": "c308fbf2",
   "metadata": {
    "execution": {
     "iopub.execute_input": "2023-01-28T10:30:57.356009Z",
     "iopub.status.busy": "2023-01-28T10:30:57.354738Z",
     "iopub.status.idle": "2023-01-28T10:30:57.807240Z",
     "shell.execute_reply": "2023-01-28T10:30:57.806024Z"
    },
    "papermill": {
     "duration": 0.471951,
     "end_time": "2023-01-28T10:30:57.809852",
     "exception": false,
     "start_time": "2023-01-28T10:30:57.337901",
     "status": "completed"
    },
    "tags": []
   },
   "outputs": [
    {
     "data": {
      "text/plain": [
       "0    42837\n",
       "1    42837\n",
       "Name: cancer, dtype: int64"
      ]
     },
     "execution_count": 32,
     "metadata": {},
     "output_type": "execute_result"
    }
   ],
   "source": [
    "from imblearn.over_sampling import SMOTE\n",
    "smote=SMOTE(sampling_strategy='minority')\n",
    "X_train,y_train=smote.fit_resample(X_train,y_train)\n",
    "y_train.value_counts()"
   ]
  },
  {
   "cell_type": "code",
   "execution_count": 33,
   "id": "0c2728d4",
   "metadata": {
    "execution": {
     "iopub.execute_input": "2023-01-28T10:30:57.842588Z",
     "iopub.status.busy": "2023-01-28T10:30:57.842120Z",
     "iopub.status.idle": "2023-01-28T10:30:59.291300Z",
     "shell.execute_reply": "2023-01-28T10:30:59.289405Z"
    },
    "papermill": {
     "duration": 1.472436,
     "end_time": "2023-01-28T10:30:59.297692",
     "exception": false,
     "start_time": "2023-01-28T10:30:57.825256",
     "status": "completed"
    },
    "tags": []
   },
   "outputs": [
    {
     "name": "stderr",
     "output_type": "stream",
     "text": [
      "/opt/conda/lib/python3.7/site-packages/sklearn/linear_model/_logistic.py:818: ConvergenceWarning: lbfgs failed to converge (status=1):\n",
      "STOP: TOTAL NO. of ITERATIONS REACHED LIMIT.\n",
      "\n",
      "Increase the number of iterations (max_iter) or scale the data as shown in:\n",
      "    https://scikit-learn.org/stable/modules/preprocessing.html\n",
      "Please also refer to the documentation for alternative solver options:\n",
      "    https://scikit-learn.org/stable/modules/linear_model.html#logistic-regression\n",
      "  extra_warning_msg=_LOGISTIC_SOLVER_CONVERGENCE_MSG,\n"
     ]
    }
   ],
   "source": [
    "from sklearn.metrics import classification_report\n",
    "from sklearn.linear_model import LogisticRegression\n",
    "model=LogisticRegression()\n",
    "model.fit(X_train,y_train)\n",
    "y_pred=model.predict(X_test)"
   ]
  },
  {
   "cell_type": "code",
   "execution_count": 34,
   "id": "9d18c3a2",
   "metadata": {
    "execution": {
     "iopub.execute_input": "2023-01-28T10:30:59.388088Z",
     "iopub.status.busy": "2023-01-28T10:30:59.387331Z",
     "iopub.status.idle": "2023-01-28T10:30:59.406567Z",
     "shell.execute_reply": "2023-01-28T10:30:59.404868Z"
    },
    "papermill": {
     "duration": 0.069327,
     "end_time": "2023-01-28T10:30:59.409374",
     "exception": false,
     "start_time": "2023-01-28T10:30:59.340047",
     "status": "completed"
    },
    "tags": []
   },
   "outputs": [
    {
     "data": {
      "text/plain": [
       "0    6383\n",
       "1    4559\n",
       "dtype: int64"
      ]
     },
     "execution_count": 34,
     "metadata": {},
     "output_type": "execute_result"
    }
   ],
   "source": [
    "pd.DataFrame(y_pred).value_counts()"
   ]
  },
  {
   "cell_type": "code",
   "execution_count": 35,
   "id": "864433c1",
   "metadata": {
    "execution": {
     "iopub.execute_input": "2023-01-28T10:30:59.445407Z",
     "iopub.status.busy": "2023-01-28T10:30:59.444594Z",
     "iopub.status.idle": "2023-01-28T10:30:59.473029Z",
     "shell.execute_reply": "2023-01-28T10:30:59.471595Z"
    },
    "papermill": {
     "duration": 0.049974,
     "end_time": "2023-01-28T10:30:59.476056",
     "exception": false,
     "start_time": "2023-01-28T10:30:59.426082",
     "status": "completed"
    },
    "tags": []
   },
   "outputs": [
    {
     "name": "stdout",
     "output_type": "stream",
     "text": [
      "              precision    recall  f1-score   support\n",
      "\n",
      "           0       0.99      0.59      0.74     10711\n",
      "           1       0.03      0.61      0.06       231\n",
      "\n",
      "    accuracy                           0.59     10942\n",
      "   macro avg       0.51      0.60      0.40     10942\n",
      "weighted avg       0.97      0.59      0.72     10942\n",
      "\n"
     ]
    }
   ],
   "source": [
    "print(classification_report(y_test,y_pred))"
   ]
  },
  {
   "cell_type": "code",
   "execution_count": 36,
   "id": "fb2eee23",
   "metadata": {
    "execution": {
     "iopub.execute_input": "2023-01-28T10:30:59.509868Z",
     "iopub.status.busy": "2023-01-28T10:30:59.509424Z",
     "iopub.status.idle": "2023-01-28T10:30:59.529222Z",
     "shell.execute_reply": "2023-01-28T10:30:59.527664Z"
    },
    "papermill": {
     "duration": 0.040336,
     "end_time": "2023-01-28T10:30:59.532273",
     "exception": false,
     "start_time": "2023-01-28T10:30:59.491937",
     "status": "completed"
    },
    "tags": []
   },
   "outputs": [
    {
     "data": {
      "text/html": [
       "<div>\n",
       "<style scoped>\n",
       "    .dataframe tbody tr th:only-of-type {\n",
       "        vertical-align: middle;\n",
       "    }\n",
       "\n",
       "    .dataframe tbody tr th {\n",
       "        vertical-align: top;\n",
       "    }\n",
       "\n",
       "    .dataframe thead th {\n",
       "        text-align: right;\n",
       "    }\n",
       "</style>\n",
       "<table border=\"1\" class=\"dataframe\">\n",
       "  <thead>\n",
       "    <tr style=\"text-align: right;\">\n",
       "      <th></th>\n",
       "      <th>age</th>\n",
       "      <th>cancer</th>\n",
       "      <th>implant</th>\n",
       "      <th>laterality_L</th>\n",
       "      <th>view_AT</th>\n",
       "      <th>view_CC</th>\n",
       "      <th>view_LM</th>\n",
       "      <th>view_ML</th>\n",
       "      <th>view_MLO</th>\n",
       "    </tr>\n",
       "  </thead>\n",
       "  <tbody>\n",
       "    <tr>\n",
       "      <th>0</th>\n",
       "      <td>61.0</td>\n",
       "      <td>0</td>\n",
       "      <td>0</td>\n",
       "      <td>1</td>\n",
       "      <td>0</td>\n",
       "      <td>1</td>\n",
       "      <td>0</td>\n",
       "      <td>0</td>\n",
       "      <td>0</td>\n",
       "    </tr>\n",
       "    <tr>\n",
       "      <th>1</th>\n",
       "      <td>61.0</td>\n",
       "      <td>0</td>\n",
       "      <td>0</td>\n",
       "      <td>1</td>\n",
       "      <td>0</td>\n",
       "      <td>0</td>\n",
       "      <td>0</td>\n",
       "      <td>0</td>\n",
       "      <td>1</td>\n",
       "    </tr>\n",
       "    <tr>\n",
       "      <th>2</th>\n",
       "      <td>61.0</td>\n",
       "      <td>0</td>\n",
       "      <td>0</td>\n",
       "      <td>0</td>\n",
       "      <td>0</td>\n",
       "      <td>0</td>\n",
       "      <td>0</td>\n",
       "      <td>0</td>\n",
       "      <td>1</td>\n",
       "    </tr>\n",
       "    <tr>\n",
       "      <th>3</th>\n",
       "      <td>61.0</td>\n",
       "      <td>0</td>\n",
       "      <td>0</td>\n",
       "      <td>0</td>\n",
       "      <td>0</td>\n",
       "      <td>1</td>\n",
       "      <td>0</td>\n",
       "      <td>0</td>\n",
       "      <td>0</td>\n",
       "    </tr>\n",
       "    <tr>\n",
       "      <th>4</th>\n",
       "      <td>55.0</td>\n",
       "      <td>0</td>\n",
       "      <td>0</td>\n",
       "      <td>1</td>\n",
       "      <td>0</td>\n",
       "      <td>1</td>\n",
       "      <td>0</td>\n",
       "      <td>0</td>\n",
       "      <td>0</td>\n",
       "    </tr>\n",
       "    <tr>\n",
       "      <th>...</th>\n",
       "      <td>...</td>\n",
       "      <td>...</td>\n",
       "      <td>...</td>\n",
       "      <td>...</td>\n",
       "      <td>...</td>\n",
       "      <td>...</td>\n",
       "      <td>...</td>\n",
       "      <td>...</td>\n",
       "      <td>...</td>\n",
       "    </tr>\n",
       "    <tr>\n",
       "      <th>54701</th>\n",
       "      <td>43.0</td>\n",
       "      <td>0</td>\n",
       "      <td>0</td>\n",
       "      <td>0</td>\n",
       "      <td>0</td>\n",
       "      <td>0</td>\n",
       "      <td>0</td>\n",
       "      <td>0</td>\n",
       "      <td>1</td>\n",
       "    </tr>\n",
       "    <tr>\n",
       "      <th>54702</th>\n",
       "      <td>60.0</td>\n",
       "      <td>0</td>\n",
       "      <td>0</td>\n",
       "      <td>1</td>\n",
       "      <td>0</td>\n",
       "      <td>0</td>\n",
       "      <td>0</td>\n",
       "      <td>0</td>\n",
       "      <td>1</td>\n",
       "    </tr>\n",
       "    <tr>\n",
       "      <th>54703</th>\n",
       "      <td>60.0</td>\n",
       "      <td>0</td>\n",
       "      <td>0</td>\n",
       "      <td>1</td>\n",
       "      <td>0</td>\n",
       "      <td>1</td>\n",
       "      <td>0</td>\n",
       "      <td>0</td>\n",
       "      <td>0</td>\n",
       "    </tr>\n",
       "    <tr>\n",
       "      <th>54704</th>\n",
       "      <td>60.0</td>\n",
       "      <td>0</td>\n",
       "      <td>0</td>\n",
       "      <td>0</td>\n",
       "      <td>0</td>\n",
       "      <td>0</td>\n",
       "      <td>0</td>\n",
       "      <td>0</td>\n",
       "      <td>1</td>\n",
       "    </tr>\n",
       "    <tr>\n",
       "      <th>54705</th>\n",
       "      <td>60.0</td>\n",
       "      <td>0</td>\n",
       "      <td>0</td>\n",
       "      <td>0</td>\n",
       "      <td>0</td>\n",
       "      <td>1</td>\n",
       "      <td>0</td>\n",
       "      <td>0</td>\n",
       "      <td>0</td>\n",
       "    </tr>\n",
       "  </tbody>\n",
       "</table>\n",
       "<p>54706 rows × 9 columns</p>\n",
       "</div>"
      ],
      "text/plain": [
       "        age  cancer  implant  laterality_L  view_AT  view_CC  view_LM  \\\n",
       "0      61.0       0        0             1        0        1        0   \n",
       "1      61.0       0        0             1        0        0        0   \n",
       "2      61.0       0        0             0        0        0        0   \n",
       "3      61.0       0        0             0        0        1        0   \n",
       "4      55.0       0        0             1        0        1        0   \n",
       "...     ...     ...      ...           ...      ...      ...      ...   \n",
       "54701  43.0       0        0             0        0        0        0   \n",
       "54702  60.0       0        0             1        0        0        0   \n",
       "54703  60.0       0        0             1        0        1        0   \n",
       "54704  60.0       0        0             0        0        0        0   \n",
       "54705  60.0       0        0             0        0        1        0   \n",
       "\n",
       "       view_ML  view_MLO  \n",
       "0            0         0  \n",
       "1            0         1  \n",
       "2            0         1  \n",
       "3            0         0  \n",
       "4            0         0  \n",
       "...        ...       ...  \n",
       "54701        0         1  \n",
       "54702        0         1  \n",
       "54703        0         0  \n",
       "54704        0         1  \n",
       "54705        0         0  \n",
       "\n",
       "[54706 rows x 9 columns]"
      ]
     },
     "execution_count": 36,
     "metadata": {},
     "output_type": "execute_result"
    }
   ],
   "source": [
    "df5"
   ]
  },
  {
   "cell_type": "code",
   "execution_count": 37,
   "id": "2f9ad1f8",
   "metadata": {
    "execution": {
     "iopub.execute_input": "2023-01-28T10:30:59.567291Z",
     "iopub.status.busy": "2023-01-28T10:30:59.566873Z",
     "iopub.status.idle": "2023-01-28T10:30:59.580429Z",
     "shell.execute_reply": "2023-01-28T10:30:59.579174Z"
    },
    "papermill": {
     "duration": 0.033959,
     "end_time": "2023-01-28T10:30:59.583180",
     "exception": false,
     "start_time": "2023-01-28T10:30:59.549221",
     "status": "completed"
    },
    "tags": []
   },
   "outputs": [
    {
     "data": {
      "text/html": [
       "<div>\n",
       "<style scoped>\n",
       "    .dataframe tbody tr th:only-of-type {\n",
       "        vertical-align: middle;\n",
       "    }\n",
       "\n",
       "    .dataframe tbody tr th {\n",
       "        vertical-align: top;\n",
       "    }\n",
       "\n",
       "    .dataframe thead th {\n",
       "        text-align: right;\n",
       "    }\n",
       "</style>\n",
       "<table border=\"1\" class=\"dataframe\">\n",
       "  <thead>\n",
       "    <tr style=\"text-align: right;\">\n",
       "      <th></th>\n",
       "      <th>laterality</th>\n",
       "      <th>view</th>\n",
       "      <th>age</th>\n",
       "      <th>implant</th>\n",
       "    </tr>\n",
       "  </thead>\n",
       "  <tbody>\n",
       "    <tr>\n",
       "      <th>0</th>\n",
       "      <td>L</td>\n",
       "      <td>MLO</td>\n",
       "      <td>81</td>\n",
       "      <td>0</td>\n",
       "    </tr>\n",
       "    <tr>\n",
       "      <th>1</th>\n",
       "      <td>L</td>\n",
       "      <td>CC</td>\n",
       "      <td>81</td>\n",
       "      <td>0</td>\n",
       "    </tr>\n",
       "    <tr>\n",
       "      <th>2</th>\n",
       "      <td>R</td>\n",
       "      <td>MLO</td>\n",
       "      <td>81</td>\n",
       "      <td>0</td>\n",
       "    </tr>\n",
       "    <tr>\n",
       "      <th>3</th>\n",
       "      <td>R</td>\n",
       "      <td>CC</td>\n",
       "      <td>81</td>\n",
       "      <td>0</td>\n",
       "    </tr>\n",
       "  </tbody>\n",
       "</table>\n",
       "</div>"
      ],
      "text/plain": [
       "  laterality view  age  implant\n",
       "0          L  MLO   81        0\n",
       "1          L   CC   81        0\n",
       "2          R  MLO   81        0\n",
       "3          R   CC   81        0"
      ]
     },
     "execution_count": 37,
     "metadata": {},
     "output_type": "execute_result"
    }
   ],
   "source": [
    "df_test_new=df_test.drop(['site_id','patient_id','image_id','machine_id','prediction_id'],axis=1)\n",
    "df_test_new"
   ]
  },
  {
   "cell_type": "code",
   "execution_count": 38,
   "id": "018f688c",
   "metadata": {
    "execution": {
     "iopub.execute_input": "2023-01-28T10:30:59.618052Z",
     "iopub.status.busy": "2023-01-28T10:30:59.617624Z",
     "iopub.status.idle": "2023-01-28T10:30:59.629977Z",
     "shell.execute_reply": "2023-01-28T10:30:59.628580Z"
    },
    "papermill": {
     "duration": 0.03316,
     "end_time": "2023-01-28T10:30:59.632585",
     "exception": false,
     "start_time": "2023-01-28T10:30:59.599425",
     "status": "completed"
    },
    "tags": []
   },
   "outputs": [
    {
     "data": {
      "text/plain": [
       "MLO    27903\n",
       "CC     26765\n",
       "AT        19\n",
       "LM        10\n",
       "ML         8\n",
       "LMO        1\n",
       "Name: view, dtype: int64"
      ]
     },
     "execution_count": 38,
     "metadata": {},
     "output_type": "execute_result"
    }
   ],
   "source": [
    "df.view.value_counts()"
   ]
  },
  {
   "cell_type": "code",
   "execution_count": 39,
   "id": "86e04983",
   "metadata": {
    "execution": {
     "iopub.execute_input": "2023-01-28T10:30:59.668092Z",
     "iopub.status.busy": "2023-01-28T10:30:59.667688Z",
     "iopub.status.idle": "2023-01-28T10:30:59.685607Z",
     "shell.execute_reply": "2023-01-28T10:30:59.684387Z"
    },
    "papermill": {
     "duration": 0.03912,
     "end_time": "2023-01-28T10:30:59.688266",
     "exception": false,
     "start_time": "2023-01-28T10:30:59.649146",
     "status": "completed"
    },
    "tags": []
   },
   "outputs": [
    {
     "data": {
      "text/html": [
       "<div>\n",
       "<style scoped>\n",
       "    .dataframe tbody tr th:only-of-type {\n",
       "        vertical-align: middle;\n",
       "    }\n",
       "\n",
       "    .dataframe tbody tr th {\n",
       "        vertical-align: top;\n",
       "    }\n",
       "\n",
       "    .dataframe thead th {\n",
       "        text-align: right;\n",
       "    }\n",
       "</style>\n",
       "<table border=\"1\" class=\"dataframe\">\n",
       "  <thead>\n",
       "    <tr style=\"text-align: right;\">\n",
       "      <th></th>\n",
       "      <th>age</th>\n",
       "      <th>implant</th>\n",
       "      <th>laterality_L</th>\n",
       "      <th>view_AT</th>\n",
       "      <th>view_CC</th>\n",
       "      <th>view_LM</th>\n",
       "      <th>view_ML</th>\n",
       "      <th>view_MLO</th>\n",
       "    </tr>\n",
       "  </thead>\n",
       "  <tbody>\n",
       "    <tr>\n",
       "      <th>0</th>\n",
       "      <td>53.000000</td>\n",
       "      <td>0</td>\n",
       "      <td>1</td>\n",
       "      <td>0</td>\n",
       "      <td>1</td>\n",
       "      <td>0</td>\n",
       "      <td>0</td>\n",
       "      <td>0</td>\n",
       "    </tr>\n",
       "    <tr>\n",
       "      <th>1</th>\n",
       "      <td>65.000000</td>\n",
       "      <td>0</td>\n",
       "      <td>0</td>\n",
       "      <td>0</td>\n",
       "      <td>1</td>\n",
       "      <td>0</td>\n",
       "      <td>0</td>\n",
       "      <td>0</td>\n",
       "    </tr>\n",
       "    <tr>\n",
       "      <th>2</th>\n",
       "      <td>68.000000</td>\n",
       "      <td>0</td>\n",
       "      <td>1</td>\n",
       "      <td>0</td>\n",
       "      <td>1</td>\n",
       "      <td>0</td>\n",
       "      <td>0</td>\n",
       "      <td>0</td>\n",
       "    </tr>\n",
       "    <tr>\n",
       "      <th>3</th>\n",
       "      <td>69.000000</td>\n",
       "      <td>0</td>\n",
       "      <td>0</td>\n",
       "      <td>0</td>\n",
       "      <td>0</td>\n",
       "      <td>0</td>\n",
       "      <td>0</td>\n",
       "      <td>1</td>\n",
       "    </tr>\n",
       "    <tr>\n",
       "      <th>4</th>\n",
       "      <td>60.000000</td>\n",
       "      <td>0</td>\n",
       "      <td>0</td>\n",
       "      <td>0</td>\n",
       "      <td>0</td>\n",
       "      <td>0</td>\n",
       "      <td>0</td>\n",
       "      <td>1</td>\n",
       "    </tr>\n",
       "    <tr>\n",
       "      <th>...</th>\n",
       "      <td>...</td>\n",
       "      <td>...</td>\n",
       "      <td>...</td>\n",
       "      <td>...</td>\n",
       "      <td>...</td>\n",
       "      <td>...</td>\n",
       "      <td>...</td>\n",
       "      <td>...</td>\n",
       "    </tr>\n",
       "    <tr>\n",
       "      <th>85669</th>\n",
       "      <td>50.000000</td>\n",
       "      <td>0</td>\n",
       "      <td>0</td>\n",
       "      <td>0</td>\n",
       "      <td>1</td>\n",
       "      <td>0</td>\n",
       "      <td>0</td>\n",
       "      <td>0</td>\n",
       "    </tr>\n",
       "    <tr>\n",
       "      <th>85670</th>\n",
       "      <td>49.183523</td>\n",
       "      <td>0</td>\n",
       "      <td>1</td>\n",
       "      <td>0</td>\n",
       "      <td>0</td>\n",
       "      <td>0</td>\n",
       "      <td>0</td>\n",
       "      <td>1</td>\n",
       "    </tr>\n",
       "    <tr>\n",
       "      <th>85671</th>\n",
       "      <td>68.000000</td>\n",
       "      <td>0</td>\n",
       "      <td>0</td>\n",
       "      <td>0</td>\n",
       "      <td>1</td>\n",
       "      <td>0</td>\n",
       "      <td>0</td>\n",
       "      <td>0</td>\n",
       "    </tr>\n",
       "    <tr>\n",
       "      <th>85672</th>\n",
       "      <td>77.000000</td>\n",
       "      <td>0</td>\n",
       "      <td>0</td>\n",
       "      <td>0</td>\n",
       "      <td>0</td>\n",
       "      <td>0</td>\n",
       "      <td>0</td>\n",
       "      <td>1</td>\n",
       "    </tr>\n",
       "    <tr>\n",
       "      <th>85673</th>\n",
       "      <td>75.000000</td>\n",
       "      <td>0</td>\n",
       "      <td>0</td>\n",
       "      <td>0</td>\n",
       "      <td>1</td>\n",
       "      <td>0</td>\n",
       "      <td>0</td>\n",
       "      <td>0</td>\n",
       "    </tr>\n",
       "  </tbody>\n",
       "</table>\n",
       "<p>85674 rows × 8 columns</p>\n",
       "</div>"
      ],
      "text/plain": [
       "             age  implant  laterality_L  view_AT  view_CC  view_LM  view_ML  \\\n",
       "0      53.000000        0             1        0        1        0        0   \n",
       "1      65.000000        0             0        0        1        0        0   \n",
       "2      68.000000        0             1        0        1        0        0   \n",
       "3      69.000000        0             0        0        0        0        0   \n",
       "4      60.000000        0             0        0        0        0        0   \n",
       "...          ...      ...           ...      ...      ...      ...      ...   \n",
       "85669  50.000000        0             0        0        1        0        0   \n",
       "85670  49.183523        0             1        0        0        0        0   \n",
       "85671  68.000000        0             0        0        1        0        0   \n",
       "85672  77.000000        0             0        0        0        0        0   \n",
       "85673  75.000000        0             0        0        1        0        0   \n",
       "\n",
       "       view_MLO  \n",
       "0             0  \n",
       "1             0  \n",
       "2             0  \n",
       "3             1  \n",
       "4             1  \n",
       "...         ...  \n",
       "85669         0  \n",
       "85670         1  \n",
       "85671         0  \n",
       "85672         1  \n",
       "85673         0  \n",
       "\n",
       "[85674 rows x 8 columns]"
      ]
     },
     "execution_count": 39,
     "metadata": {},
     "output_type": "execute_result"
    }
   ],
   "source": [
    "X_train"
   ]
  },
  {
   "cell_type": "code",
   "execution_count": 40,
   "id": "306557ce",
   "metadata": {
    "execution": {
     "iopub.execute_input": "2023-01-28T10:30:59.723740Z",
     "iopub.status.busy": "2023-01-28T10:30:59.723283Z",
     "iopub.status.idle": "2023-01-28T10:30:59.749774Z",
     "shell.execute_reply": "2023-01-28T10:30:59.748544Z"
    },
    "papermill": {
     "duration": 0.047121,
     "end_time": "2023-01-28T10:30:59.752536",
     "exception": false,
     "start_time": "2023-01-28T10:30:59.705415",
     "status": "completed"
    },
    "tags": []
   },
   "outputs": [
    {
     "data": {
      "text/html": [
       "<div>\n",
       "<style scoped>\n",
       "    .dataframe tbody tr th:only-of-type {\n",
       "        vertical-align: middle;\n",
       "    }\n",
       "\n",
       "    .dataframe tbody tr th {\n",
       "        vertical-align: top;\n",
       "    }\n",
       "\n",
       "    .dataframe thead th {\n",
       "        text-align: right;\n",
       "    }\n",
       "</style>\n",
       "<table border=\"1\" class=\"dataframe\">\n",
       "  <thead>\n",
       "    <tr style=\"text-align: right;\">\n",
       "      <th></th>\n",
       "      <th>age</th>\n",
       "      <th>implant</th>\n",
       "      <th>laterality_L</th>\n",
       "      <th>view_AT</th>\n",
       "      <th>view_CC</th>\n",
       "      <th>view_LM</th>\n",
       "      <th>view_ML</th>\n",
       "      <th>view_MLO</th>\n",
       "    </tr>\n",
       "  </thead>\n",
       "  <tbody>\n",
       "    <tr>\n",
       "      <th>0</th>\n",
       "      <td>81</td>\n",
       "      <td>0</td>\n",
       "      <td>1</td>\n",
       "      <td>0.0</td>\n",
       "      <td>0</td>\n",
       "      <td>0.0</td>\n",
       "      <td>0.0</td>\n",
       "      <td>1</td>\n",
       "    </tr>\n",
       "    <tr>\n",
       "      <th>1</th>\n",
       "      <td>81</td>\n",
       "      <td>0</td>\n",
       "      <td>1</td>\n",
       "      <td>0.0</td>\n",
       "      <td>1</td>\n",
       "      <td>0.0</td>\n",
       "      <td>0.0</td>\n",
       "      <td>0</td>\n",
       "    </tr>\n",
       "    <tr>\n",
       "      <th>2</th>\n",
       "      <td>81</td>\n",
       "      <td>0</td>\n",
       "      <td>0</td>\n",
       "      <td>0.0</td>\n",
       "      <td>0</td>\n",
       "      <td>0.0</td>\n",
       "      <td>0.0</td>\n",
       "      <td>1</td>\n",
       "    </tr>\n",
       "    <tr>\n",
       "      <th>3</th>\n",
       "      <td>81</td>\n",
       "      <td>0</td>\n",
       "      <td>0</td>\n",
       "      <td>0.0</td>\n",
       "      <td>1</td>\n",
       "      <td>0.0</td>\n",
       "      <td>0.0</td>\n",
       "      <td>0</td>\n",
       "    </tr>\n",
       "  </tbody>\n",
       "</table>\n",
       "</div>"
      ],
      "text/plain": [
       "   age  implant  laterality_L  view_AT  view_CC  view_LM  view_ML  view_MLO\n",
       "0   81        0             1      0.0        0      0.0      0.0         1\n",
       "1   81        0             1      0.0        1      0.0      0.0         0\n",
       "2   81        0             0      0.0        0      0.0      0.0         1\n",
       "3   81        0             0      0.0        1      0.0      0.0         0"
      ]
     },
     "execution_count": 40,
     "metadata": {},
     "output_type": "execute_result"
    }
   ],
   "source": [
    "df_test_new1=pd.get_dummies(df_test_new[['laterality','view']])\n",
    "df_test_new2=df_test_new1.drop(['laterality_R'],axis=1)\n",
    "df_test_new=pd.concat([df_test_new,df_test_new2],axis=1).drop(['laterality','view'],axis=1)\n",
    "df_test_new['view_AT']=np.zeros(4)\n",
    "df_test_new['view_ML']=np.zeros(4)\n",
    "df_test_new['view_LM']=np.zeros(4)\n",
    "df_test_new=df_test_new.iloc[:,[0,1,2,5,3,7,6,4]]\n",
    "df_test_new"
   ]
  },
  {
   "cell_type": "code",
   "execution_count": 41,
   "id": "e0c086f1",
   "metadata": {
    "execution": {
     "iopub.execute_input": "2023-01-28T10:30:59.787653Z",
     "iopub.status.busy": "2023-01-28T10:30:59.787178Z",
     "iopub.status.idle": "2023-01-28T10:30:59.791287Z",
     "shell.execute_reply": "2023-01-28T10:30:59.790457Z"
    },
    "papermill": {
     "duration": 0.024407,
     "end_time": "2023-01-28T10:30:59.793444",
     "exception": false,
     "start_time": "2023-01-28T10:30:59.769037",
     "status": "completed"
    },
    "tags": []
   },
   "outputs": [],
   "source": [
    "#df_test_new[['age']]=scaler.fit_transform(df_test_new[['age']])\n",
    "#df_test_new"
   ]
  },
  {
   "cell_type": "code",
   "execution_count": 42,
   "id": "7869c3cd",
   "metadata": {
    "execution": {
     "iopub.execute_input": "2023-01-28T10:30:59.828252Z",
     "iopub.status.busy": "2023-01-28T10:30:59.827813Z",
     "iopub.status.idle": "2023-01-28T10:30:59.835565Z",
     "shell.execute_reply": "2023-01-28T10:30:59.834458Z"
    },
    "papermill": {
     "duration": 0.027463,
     "end_time": "2023-01-28T10:30:59.837595",
     "exception": false,
     "start_time": "2023-01-28T10:30:59.810132",
     "status": "completed"
    },
    "tags": []
   },
   "outputs": [],
   "source": [
    "#y_ans=model.predict(df_test_new)\n",
    "y_ans=model.predict_proba(df_test_new)[:,[1]]"
   ]
  },
  {
   "cell_type": "code",
   "execution_count": 43,
   "id": "a148b997",
   "metadata": {
    "execution": {
     "iopub.execute_input": "2023-01-28T10:30:59.872482Z",
     "iopub.status.busy": "2023-01-28T10:30:59.872021Z",
     "iopub.status.idle": "2023-01-28T10:30:59.879724Z",
     "shell.execute_reply": "2023-01-28T10:30:59.878395Z"
    },
    "papermill": {
     "duration": 0.028175,
     "end_time": "2023-01-28T10:30:59.882231",
     "exception": false,
     "start_time": "2023-01-28T10:30:59.854056",
     "status": "completed"
    },
    "tags": []
   },
   "outputs": [
    {
     "data": {
      "text/plain": [
       "array([0.72701615, 0.7295203 , 0.74310231, 0.74551055])"
      ]
     },
     "execution_count": 43,
     "metadata": {},
     "output_type": "execute_result"
    }
   ],
   "source": [
    "y_ans=y_ans.reshape(4)\n",
    "y_ans"
   ]
  },
  {
   "cell_type": "code",
   "execution_count": 44,
   "id": "4d67fbdc",
   "metadata": {
    "execution": {
     "iopub.execute_input": "2023-01-28T10:30:59.918392Z",
     "iopub.status.busy": "2023-01-28T10:30:59.917976Z",
     "iopub.status.idle": "2023-01-28T10:30:59.926996Z",
     "shell.execute_reply": "2023-01-28T10:30:59.925857Z"
    },
    "papermill": {
     "duration": 0.030812,
     "end_time": "2023-01-28T10:30:59.929903",
     "exception": false,
     "start_time": "2023-01-28T10:30:59.899091",
     "status": "completed"
    },
    "tags": []
   },
   "outputs": [],
   "source": [
    "dcsv={'PassengerId':df_test['prediction_id'],'cancer':y_ans}\n",
    "dfcsv=pd.DataFrame(dcsv)\n",
    "dfcsv.to_csv('submission.csv',index=False)"
   ]
  },
  {
   "cell_type": "code",
   "execution_count": 45,
   "id": "1848680f",
   "metadata": {
    "execution": {
     "iopub.execute_input": "2023-01-28T10:30:59.966194Z",
     "iopub.status.busy": "2023-01-28T10:30:59.965771Z",
     "iopub.status.idle": "2023-01-28T10:30:59.981182Z",
     "shell.execute_reply": "2023-01-28T10:30:59.979562Z"
    },
    "papermill": {
     "duration": 0.038504,
     "end_time": "2023-01-28T10:30:59.985776",
     "exception": false,
     "start_time": "2023-01-28T10:30:59.947272",
     "status": "completed"
    },
    "tags": []
   },
   "outputs": [
    {
     "name": "stdout",
     "output_type": "stream",
     "text": [
      "/kaggle/input/rsna-breast-cancer-detection/sample_submission.csv\n",
      "/kaggle/input/rsna-breast-cancer-detection/train_images\n",
      "/kaggle/input/rsna-breast-cancer-detection/train.csv\n",
      "/kaggle/input/rsna-breast-cancer-detection/test.csv\n",
      "/kaggle/input/rsna-breast-cancer-detection/test_images\n"
     ]
    }
   ],
   "source": [
    "#os.remove(\"/kaggle/working/file_name.csv\")\n",
    "import pathlib\n",
    "data_dir=pathlib.Path(\"/kaggle/input/rsna-breast-cancer-detection\")\n",
    "for i in list(data_dir.glob('*')):\n",
    "   print(i)\n",
    "#list(data_dir.glob('*'))"
   ]
  },
  {
   "cell_type": "code",
   "execution_count": 46,
   "id": "a309aa41",
   "metadata": {
    "execution": {
     "iopub.execute_input": "2023-01-28T10:31:00.022346Z",
     "iopub.status.busy": "2023-01-28T10:31:00.021973Z",
     "iopub.status.idle": "2023-01-28T10:31:00.026406Z",
     "shell.execute_reply": "2023-01-28T10:31:00.025265Z"
    },
    "papermill": {
     "duration": 0.025421,
     "end_time": "2023-01-28T10:31:00.028764",
     "exception": false,
     "start_time": "2023-01-28T10:31:00.003343",
     "status": "completed"
    },
    "tags": []
   },
   "outputs": [],
   "source": [
    "#import shutil\n",
    "#shutil.rmtree(\"/kaggle/working/.virtual_documents\")"
   ]
  },
  {
   "cell_type": "code",
   "execution_count": null,
   "id": "6b201bdd",
   "metadata": {
    "papermill": {
     "duration": 0.016591,
     "end_time": "2023-01-28T10:31:00.062209",
     "exception": false,
     "start_time": "2023-01-28T10:31:00.045618",
     "status": "completed"
    },
    "tags": []
   },
   "outputs": [],
   "source": []
  }
 ],
 "metadata": {
  "kernelspec": {
   "display_name": "Python 3",
   "language": "python",
   "name": "python3"
  },
  "language_info": {
   "codemirror_mode": {
    "name": "ipython",
    "version": 3
   },
   "file_extension": ".py",
   "mimetype": "text/x-python",
   "name": "python",
   "nbconvert_exporter": "python",
   "pygments_lexer": "ipython3",
   "version": "3.7.12"
  },
  "papermill": {
   "default_parameters": {},
   "duration": 16.794613,
   "end_time": "2023-01-28T10:31:00.901951",
   "environment_variables": {},
   "exception": null,
   "input_path": "__notebook__.ipynb",
   "output_path": "__notebook__.ipynb",
   "parameters": {},
   "start_time": "2023-01-28T10:30:44.107338",
   "version": "2.3.4"
  }
 },
 "nbformat": 4,
 "nbformat_minor": 5
}
